{
 "cells": [
  {
   "cell_type": "markdown",
   "id": "32960550",
   "metadata": {},
   "source": [
    "# 정올 문제 풀이 - 입력"
   ]
  },
  {
   "cell_type": "markdown",
   "id": "57d5c065",
   "metadata": {},
   "source": [
    "###### 입력 - 자가진단6\n",
    "키를 입력받아 출력하는 프로그램을 작성하라.\n",
    "(입력할때 \"height = \" 문장을 먼저 출력하고 키를 입력 받아야 합니다.)"
   ]
  },
  {
   "cell_type": "code",
   "execution_count": null,
   "id": "85bc100e",
   "metadata": {},
   "outputs": [],
   "source": [
    "# 입력 예\n",
    "# height = 170\n",
    "# 출력 예\n",
    "# Your height is 170cm."
   ]
  },
  {
   "cell_type": "code",
   "execution_count": 4,
   "id": "a10c8957",
   "metadata": {},
   "outputs": [
    {
     "name": "stdout",
     "output_type": "stream",
     "text": [
      "height = 170\n",
      "Your height is 170cm\n"
     ]
    }
   ],
   "source": [
    "height = input(\"height = \")\n",
    "print(f\"Your height is {height}cm.\")"
   ]
  },
  {
   "cell_type": "code",
   "execution_count": null,
   "id": "5a239e2a",
   "metadata": {},
   "outputs": [],
   "source": []
  },
  {
   "cell_type": "code",
   "execution_count": null,
   "id": "b7124b26",
   "metadata": {},
   "outputs": [],
   "source": []
  },
  {
   "cell_type": "code",
   "execution_count": null,
   "id": "e4a1c20a",
   "metadata": {},
   "outputs": [],
   "source": []
  },
  {
   "cell_type": "code",
   "execution_count": null,
   "id": "384e74cb",
   "metadata": {},
   "outputs": [],
   "source": []
  }
 ],
 "metadata": {
  "kernelspec": {
   "display_name": "Python 3",
   "language": "python",
   "name": "python3"
  },
  "language_info": {
   "codemirror_mode": {
    "name": "ipython",
    "version": 3
   },
   "file_extension": ".py",
   "mimetype": "text/x-python",
   "name": "python",
   "nbconvert_exporter": "python",
   "pygments_lexer": "ipython3",
   "version": "3.8.8"
  }
 },
 "nbformat": 4,
 "nbformat_minor": 5
}
