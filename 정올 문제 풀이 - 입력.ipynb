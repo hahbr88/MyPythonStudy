{
 "cells": [
  {
   "cell_type": "markdown",
   "id": "287f29b4",
   "metadata": {},
   "source": [
    "# 정올 문제 풀이 - 입력"
   ]
  },
  {
   "cell_type": "markdown",
   "id": "1a2bc2cb",
   "metadata": {},
   "source": [
    "###### 입력 -자가진단1 \n",
    "정수형 변수를 선언하고 -100을 대입하여 출력하는 프로그램을 작성하라."
   ]
  },
  {
   "cell_type": "code",
   "execution_count": 51,
   "id": "c97cf194",
   "metadata": {},
   "outputs": [
    {
     "name": "stdout",
     "output_type": "stream",
     "text": [
      "-100\n"
     ]
    }
   ],
   "source": [
    "a=-100\n",
    "print(a)"
   ]
  },
  {
   "cell_type": "markdown",
   "id": "80707440",
   "metadata": {},
   "source": [
    "###### 입력 - 자가진단2 \n",
    "정수형 변수 2개를 선언하여 -1과 100을 대입한 후 아래와 같이 출력하는 프로그램을 작성하라."
   ]
  },
  {
   "cell_type": "code",
   "execution_count": 52,
   "id": "b9dfb088",
   "metadata": {},
   "outputs": [
    {
     "name": "stdout",
     "output_type": "stream",
     "text": [
      "-1\n",
      "100\n"
     ]
    }
   ],
   "source": [
    "# -1\n",
    "# 100\n",
    "\n",
    "a, b = -1, 100\n",
    "print(a)\n",
    "print(b)\n"
   ]
  },
  {
   "cell_type": "markdown",
   "id": "ab8c28c5",
   "metadata": {},
   "source": [
    "###### 입력 - 자가진단3 \n",
    "두 개의 정수형 변수를 선언하고 값을 대입하여 아래와 같이 출력되는 프로그램을 작성하라."
   ]
  },
  {
   "cell_type": "code",
   "execution_count": 54,
   "id": "dd6fb57f",
   "metadata": {},
   "outputs": [
    {
     "name": "stdout",
     "output_type": "stream",
     "text": [
      "55 - 10 = 45\n",
      "2008 - 1999 = 9\n"
     ]
    }
   ],
   "source": [
    "# 출력 예\n",
    "# 55 - 10 = 45\n",
    "# 2008 - 1999 = 9\n",
    "\n",
    "num1, num2, num3, num4  = 55, 10, 2008, 1999\n",
    "print(f\"55 - 10 = {num1 - num2}\")\n",
    "print(f\"2008 - 1999 = {num3 - num4}\")\n"
   ]
  },
  {
   "cell_type": "markdown",
   "id": "edae5481",
   "metadata": {},
   "source": [
    "###### 입력 - 자가진단4 \n",
    "추의 무게를 저장할 변수와 중력의 비율을 저장할 변수를 선언하고, 다음 두 값을 변수에 저장하여 곱셈 계산식을 출력하는 프로그램을 작성하라.\n",
    "\n",
    "추의 무게 = 49, 중력의 비율 = 0.2683"
   ]
  },
  {
   "cell_type": "code",
   "execution_count": 60,
   "id": "2179389f",
   "metadata": {},
   "outputs": [
    {
     "name": "stdout",
     "output_type": "stream",
     "text": [
      "49 * 0.268300 = 13.146700\n",
      "49 * 0.268300 = 13.146700\n"
     ]
    }
   ],
   "source": [
    "# 출력 예\n",
    "# 49 * 0.268300 = 13.146700\n",
    "\n",
    "choo, joog = 49, 0.2683\n",
    "print(\"49 * 0.268300 = {:.6f}\".format(choo*joog))\n",
    "print(f\"49 * 0.268300 = {choo*joog:.6f}\")"
   ]
  },
  {
   "cell_type": "markdown",
   "id": "84fef1af",
   "metadata": {},
   "source": [
    "###### 입력 - 자가진단5\n",
    "1야드(yd)는 91.44cm이고 1인치(in)는 2.54cm이다.\n",
    "2.1야드와 10.5인치를 각각 cm로 변환하여 다음 형식에 맞추어 소수 첫째자리까지 출력하시오.​"
   ]
  },
  {
   "cell_type": "code",
   "execution_count": 68,
   "id": "0686cfc2",
   "metadata": {},
   "outputs": [
    {
     "name": "stdout",
     "output_type": "stream",
     "text": [
      " 2.1yd = 192.0cm\n",
      "10.5in =  26.7cm\n"
     ]
    }
   ],
   "source": [
    "# 출력 예\n",
    "#  2.1yd = 192.0cm\n",
    "# 10.5in =  26.7cm\n",
    "\n",
    "yard, inch = 91.44, 2.54\n",
    "print(f\" 2.1yd = {2.1*yard:.1f}cm\")\n",
    "print(f\"10.5in = {10.5*inch:>5.1f}cm\")"
   ]
  },
  {
   "cell_type": "markdown",
   "id": "906de23f",
   "metadata": {},
   "source": [
    "###### 입력 - 자가진단6\n",
    "키를 입력받아 출력하는 프로그램을 작성하라.\n",
    "(입력할때 \"height = \" 문장을 먼저 출력하고 키를 입력 받아야 합니다.)"
   ]
  },
  {
   "cell_type": "code",
   "execution_count": null,
   "id": "c23d5c93",
   "metadata": {},
   "outputs": [],
   "source": [
    "# 입력 예\n",
    "# height = 170\n",
    "# 출력 예\n",
    "# Your height is 170cm."
   ]
  },
  {
   "cell_type": "code",
   "execution_count": 25,
   "id": "7056c97c",
   "metadata": {},
   "outputs": [
    {
     "name": "stdout",
     "output_type": "stream",
     "text": [
      "height = 180\n",
      "Your height is 180cm.\n",
      "Your height is 180cm.\n",
      "Your height is 180cm.\n"
     ]
    }
   ],
   "source": [
    "height = input(\"height = \")\n",
    "\n",
    "# format() 함수\n",
    "print(\"Your height is {}cm.\".format(height))\n",
    "\n",
    "# % 연산자\n",
    "print(\"Your height is %scm.\" %(height))\n",
    "\n",
    "# f-string\n",
    "print(f\"Your height is {height}cm.\")"
   ]
  },
  {
   "cell_type": "markdown",
   "id": "e4df566e",
   "metadata": {},
   "source": [
    "###### 입력 - 자가진단7\n",
    "두 개의 정수를 입력 받아 곱과 몫을 출력하시오.\n",
    "(먼저 입력 받는 수가 항상 크며 입력되는 두 정수는 1이상 500이하이다.)"
   ]
  },
  {
   "cell_type": "code",
   "execution_count": null,
   "id": "da607628",
   "metadata": {},
   "outputs": [],
   "source": [
    "# 입력 예\n",
    "# 16 5\n",
    "# 출력 예\n",
    "# 16 * 5 = 80\n",
    "# 16 / 5 = 3"
   ]
  },
  {
   "cell_type": "code",
   "execution_count": 29,
   "id": "78dc1d2c",
   "metadata": {},
   "outputs": [
    {
     "name": "stdout",
     "output_type": "stream",
     "text": [
      "10 10\n",
      "10 * 10 = 100\n",
      "10 / 10 = 1\n",
      "10 * 10 = 100\n",
      "10 * 10 = 1\n",
      "10 * 10 = 100\n",
      "10 / 10 = 1\n"
     ]
    }
   ],
   "source": [
    "a, b = map(int, input().split())\n",
    "\n",
    "# # 단순 나열\n",
    "# print(\"16 * 5 =\", a*b)\n",
    "# print(\"16 / 5 =\", int(a/b))  # 이게 Accepted(20) 가 뜨네? \n",
    "\n",
    "# # f-string 포맷팅\n",
    "# print(f'16 * 5 = {a*b}')\n",
    "# print(f'16 / 5 = {int(a/b)}')\n",
    "\n",
    "# # format() 함수 사용\n",
    "# print(\"16 * 5 = {}\".format(a*b))\n",
    "# print(\"16 / 5 = {}\".format(int(a/b)))\n",
    "\n",
    "# # % 연산자 사용\n",
    "# print(\"16 * 5 = %d\" %(a*b)) \n",
    "# print(\"16 / 5 = %d\" %(int(a/b)))\n",
    "\n",
    "# 아 왜 안되는지 알았다.\n",
    "\n",
    "# f-string 포맷팅\n",
    "print(f'{a} * {b} = {a*b}')\n",
    "print(f'{a} / {b} = {int(a/b)}')\n",
    "\n",
    "# format() 함수 사용\n",
    "print(\"{} * {} = {}\".format(a, b, a*b))\n",
    "print(\"{} * {} = {}\".format(a, b, int(a/b)))\n",
    "\n",
    "# % 연산자 사용\n",
    "print(\"%d * %d = %d\" %(a, b, a*b)) \n",
    "print(\"%d / %d = %d\" %(a, b, int(a/b)))\n"
   ]
  },
  {
   "cell_type": "markdown",
   "id": "41d7648d",
   "metadata": {},
   "source": [
    "######  입력 - 자가진단8\n",
    "실수 2개와 한 개의 문자를 입력 받아 출력하되 실수는 반올림하여 소수 둘째자리까지 출력하는 프로그램을작성하시오.\n",
    "\n",
    "(C, C++, Java 의 경우 실수는 \"double\"로 선언하세요.)"
   ]
  },
  {
   "cell_type": "code",
   "execution_count": null,
   "id": "e76dbb16",
   "metadata": {},
   "outputs": [],
   "source": [
    "# 입력 예\n",
    "# 12.2536\n",
    "# 526.129535\n",
    "# A\n",
    "# 출력 예\n",
    "# 12.25\n",
    "# 526.13\n",
    "# A"
   ]
  },
  {
   "cell_type": "code",
   "execution_count": 39,
   "id": "fca89c9d",
   "metadata": {},
   "outputs": [
    {
     "name": "stdout",
     "output_type": "stream",
     "text": [
      "12.1212\n",
      "23.2323\n",
      "a\n",
      "12.12\n",
      "23.23\n",
      "a\n",
      "12.12\n",
      "23.23\n",
      "a\n",
      "12.12\n"
     ]
    }
   ],
   "source": [
    "a = float(input())\n",
    "b = float(input())\n",
    "c = input()\n",
    "\n",
    "# f-string\n",
    "print(f'{a:.2f}')\n",
    "print(f'{b:.2f}')\n",
    "print(c)\n",
    "\n",
    "# % 연산자\n",
    "print(\"%.2f\" %(a))\n",
    "print(\"%.2f\" %(b))\n",
    "print(c)\n",
    "\n",
    "# format() 함수 사용\n",
    "print(\"{:.2f}\".format(a))\n",
    "print(\"{:.2f}\".format(b))\n",
    "print(c)"
   ]
  },
  {
   "cell_type": "markdown",
   "id": "f4f27374",
   "metadata": {},
   "source": [
    "###### 입력 - 자가진단9\n",
    "세 개의 실수를 입력 받아 반올림하여 소수 셋째 자리까지 출력하는 프로그램을 작성하시오."
   ]
  },
  {
   "cell_type": "code",
   "execution_count": null,
   "id": "8411bd20",
   "metadata": {},
   "outputs": [],
   "source": [
    "# 입력 예\n",
    "# 1.2568\n",
    "# 95.21438\n",
    "# 526.851364\n",
    "# 출력 예\n",
    "# 1.257\n",
    "# 95.214\n",
    "# 526.851"
   ]
  },
  {
   "cell_type": "code",
   "execution_count": 44,
   "id": "2d2ac1af",
   "metadata": {},
   "outputs": [
    {
     "name": "stdout",
     "output_type": "stream",
     "text": [
      "12.232323\n",
      "45.443434\n",
      "87.65657\n",
      "12.232\n",
      "45.443\n",
      "87.657\n",
      "12.232\n",
      "45.443\n",
      "87.657\n",
      "12.232\n",
      "45.443\n",
      "87.657\n"
     ]
    }
   ],
   "source": [
    "a = float(input())\n",
    "b = float(input())\n",
    "c = float(input())\n",
    "\n",
    "# % 연산자\n",
    "print(\"%.3f\" %a)\n",
    "print(\"%.3f\" %b)\n",
    "print(\"%.3f\" %c)\n",
    "\n",
    "# f-string\n",
    "print(f\"{a:.3f}\")\n",
    "print(f\"{b:.3f}\")\n",
    "print(f\"{c:.3f}\")\n",
    "\n",
    "# format() 함수\n",
    "print(\"{:.3f}\".format(a))\n",
    "print(\"{:.3f}\".format(b))\n",
    "print(\"{:.3f}\".format(c))\n"
   ]
  },
  {
   "cell_type": "markdown",
   "id": "8a4577a9",
   "metadata": {},
   "source": [
    "###### 입력 - 형성평가1\n",
    "세 개의 정수형 변수를 선언하고 각 변수에 10 20 30을 대입한 후 그 변수를 이용하여 출력 예와 같이 출력하는 프로그램을 작성하시오."
   ]
  },
  {
   "cell_type": "code",
   "execution_count": null,
   "id": "9009dc40",
   "metadata": {},
   "outputs": [],
   "source": [
    "# 출력 예\n",
    "# 10 + 20 = 30"
   ]
  },
  {
   "cell_type": "code",
   "execution_count": 51,
   "id": "f893534a",
   "metadata": {},
   "outputs": [
    {
     "name": "stdout",
     "output_type": "stream",
     "text": [
      "10 + 20 = 30\n",
      "10 + 20 = 30\n",
      "10 + 20 = 30\n"
     ]
    }
   ],
   "source": [
    "a,b,c= 10,20,30\n",
    "print(str(a) + ' + ' + str(b) + ' = ' +str(c))\n",
    "\n",
    "print(\"{} + {} = {}\".format(a, b, c))\n",
    "print(f\"{a} + {b} = {c}\")\n"
   ]
  },
  {
   "cell_type": "markdown",
   "id": "c407dcd6",
   "metadata": {},
   "source": [
    "###### 입력- 형성평가2\n",
    "실수형 변수를 2개 선언한 후 각각에 80.5 22.34를 대입한 후 두 수의 합을 구하여 각각의 숫자를 10칸씩 오른쪽에 맞추어 소수 둘째자리까지 출력하는 프로그램을 작성하시오."
   ]
  },
  {
   "cell_type": "code",
   "execution_count": null,
   "id": "986e4f7f",
   "metadata": {},
   "outputs": [],
   "source": [
    "# 출력 예\n",
    "#      80.50     22.34    102.84"
   ]
  },
  {
   "cell_type": "code",
   "execution_count": 74,
   "id": "607ba29f",
   "metadata": {},
   "outputs": [
    {
     "name": "stdout",
     "output_type": "stream",
     "text": [
      "     80.50     22.34    102.84\n",
      "     80.50     22.34    102.84\n",
      "     80.50     22.34    102.84\n"
     ]
    }
   ],
   "source": [
    "a,b = 80.5, 22.34\n",
    "\n",
    "print(\"%10.2f%10.2f%10.2f\" %(a, b, a+b))\n",
    "print(\"{:10.2f}{:10.2f}{:10.2f}\".format(a, b, a+b))\n",
    "print(f\"{a:10.2f}{b:10.2f}{a+b:10.2f}\")"
   ]
  },
  {
   "cell_type": "markdown",
   "id": "efba440e",
   "metadata": {},
   "source": [
    "###### 입력-형성평가3\n",
    "정수형 변수 한 개를 선언하여 50을 대입하고 실수형 변수 한 개를 선언하여 100.12를 대입한 후 다음과 같이 출력되는 프로그램을 작성하시오.\n",
    "\n",
    "(결과값은 소수점 이하에서 반올림) "
   ]
  },
  {
   "cell_type": "code",
   "execution_count": null,
   "id": "3a756501",
   "metadata": {},
   "outputs": [],
   "source": [
    "# 출력 예\n",
    "# 100.12 * 50 = 5006"
   ]
  },
  {
   "cell_type": "code",
   "execution_count": 81,
   "id": "47d880e5",
   "metadata": {},
   "outputs": [
    {
     "name": "stdout",
     "output_type": "stream",
     "text": [
      "100.12 * 50 = 5006\n",
      "100.12 * 50 = 150.12\n"
     ]
    }
   ],
   "source": [
    "intNum, floatNum = 50, 100.12\n",
    "print(f\"{floatNum} * {intNum} = {int(intNum*floatNum)}\")\n",
    "print(\"{} * {} = {}\".format(floatNum, intNum, intNum+floatNum))"
   ]
  },
  {
   "cell_type": "markdown",
   "id": "cb058ec4",
   "metadata": {},
   "source": [
    "###### 입력- 형성평가4\n",
    "세 개의 정수를 입력받아 합과 평균을 출력하는 프로그램을 작성하시오.(단 평균은 소수 이하를 버림하여 정수 부분만 출력한다.)"
   ]
  },
  {
   "cell_type": "code",
   "execution_count": null,
   "id": "290431c5",
   "metadata": {},
   "outputs": [],
   "source": [
    "# 입력 예\n",
    "# 20 50 100\n",
    "\n",
    "# 출력 예\n",
    "# sum = 170\n",
    "# avg = 56"
   ]
  },
  {
   "cell_type": "code",
   "execution_count": 91,
   "id": "30c92011",
   "metadata": {},
   "outputs": [
    {
     "name": "stdout",
     "output_type": "stream",
     "text": [
      "20 50 70\n",
      "sum = 140\n",
      "avg = 46\n",
      "sum = 140\n",
      "avg = 46\n"
     ]
    }
   ],
   "source": [
    "a,b,c = map(int, input().split())\n",
    "print(f\"sum = {a+b+c}\")\n",
    "print(f\"avg = {int((a+b+c)/3)}\")\n",
    "\n",
    "print(\"sum = {}\".format(a+b+c))\n",
    "print(\"avg = {}\".format(int((a+b+c)/3)))"
   ]
  },
  {
   "cell_type": "markdown",
   "id": "ae2de042",
   "metadata": {},
   "source": [
    "###### 입력- 형성평가5\n",
    "실수의 yard(야드)를 입력받아 cm(센티미터)로 환산하여 입력값과 환산한 값을 출력 예와 같이 소수 둘째자리에서 반올림하여 첫째자리까지 출력하는 프로그램을 작성하시오. (단 1야드 = 91.44cm로 한다.)  \n",
    "\n",
    "입력은 \"yard? \"라고 먼저 출력하고, 실수를 입력받는다.  실수는 \"double\"로 한다."
   ]
  },
  {
   "cell_type": "code",
   "execution_count": null,
   "id": "feb6aedf",
   "metadata": {},
   "outputs": [],
   "source": [
    "# 입력 예\n",
    "# yard? 10.1\n",
    "# 출력 예\n",
    "# 10.1yard = 923.5cm"
   ]
  },
  {
   "cell_type": "code",
   "execution_count": 102,
   "id": "ef3c2bdf",
   "metadata": {},
   "outputs": [
    {
     "name": "stdout",
     "output_type": "stream",
     "text": [
      "yard? 10.1\n",
      "10.1yard = 923.5cm\n",
      "10.1yard = 923.5cm\n",
      "10.1yard = 923.5cm\n"
     ]
    }
   ],
   "source": [
    "calc =  float(input(\"yard? \"))\n",
    "print(\"{}yard = {:.1f}cm\".format(calc, calc*91.44))\n",
    "print(f\"{calc}yard = {(calc*91.44):.1f}cm\")\n",
    "print(\"%.1fyard = %.1fcm\" % (calc,calc*91.44))"
   ]
  },
  {
   "cell_type": "code",
   "execution_count": 2,
   "id": "49a56081",
   "metadata": {},
   "outputs": [
    {
     "name": "stdout",
     "output_type": "stream",
     "text": [
      "33.33 3322.22\n"
     ]
    }
   ],
   "source": [
    "a, b = map(float, input().split())"
   ]
  },
  {
   "cell_type": "code",
   "execution_count": null,
   "id": "5b3bd0c8",
   "metadata": {},
   "outputs": [],
   "source": []
  }
 ],
 "metadata": {
  "kernelspec": {
   "display_name": "Python 3",
   "language": "python",
   "name": "python3"
  },
  "language_info": {
   "codemirror_mode": {
    "name": "ipython",
    "version": 3
   },
   "file_extension": ".py",
   "mimetype": "text/x-python",
   "name": "python",
   "nbconvert_exporter": "python",
   "pygments_lexer": "ipython3",
   "version": "3.8.8"
  }
 },
 "nbformat": 4,
 "nbformat_minor": 5
}
