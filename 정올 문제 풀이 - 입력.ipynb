{
 "cells": [
  {
   "cell_type": "markdown",
   "id": "89bd4d3e",
   "metadata": {},
   "source": [
    "# 정올 문제 풀이 - 입력"
   ]
  },
  {
   "cell_type": "markdown",
   "id": "a0940bd6",
   "metadata": {},
   "source": [
    "###### 입력 - 자가진단6\n",
    "키를 입력받아 출력하는 프로그램을 작성하라.\n",
    "(입력할때 \"height = \" 문장을 먼저 출력하고 키를 입력 받아야 합니다.)"
   ]
  },
  {
   "cell_type": "code",
   "execution_count": null,
   "id": "470e7579",
   "metadata": {},
   "outputs": [],
   "source": [
    "# 입력 예\n",
    "# height = 170\n",
    "# 출력 예\n",
    "# Your height is 170cm."
   ]
  },
  {
   "cell_type": "code",
   "execution_count": 25,
   "id": "3bb47527",
   "metadata": {},
   "outputs": [
    {
     "name": "stdout",
     "output_type": "stream",
     "text": [
      "height = 180\n",
      "Your height is 180cm.\n",
      "Your height is 180cm.\n",
      "Your height is 180cm.\n"
     ]
    }
   ],
   "source": [
    "height = input(\"height = \")\n",
    "\n",
    "# format() 함수\n",
    "print(\"Your height is {}cm.\".format(height))\n",
    "\n",
    "# % 연산자\n",
    "print(\"Your height is %scm.\" %(height))\n",
    "\n",
    "# f-string\n",
    "print(f\"Your height is {height}cm.\")"
   ]
  },
  {
   "cell_type": "markdown",
   "id": "fff039b2",
   "metadata": {},
   "source": [
    "###### 입력 - 자가진단7\n",
    "두 개의 정수를 입력 받아 곱과 몫을 출력하시오.\n",
    "(먼저 입력 받는 수가 항상 크며 입력되는 두 정수는 1이상 500이하이다.)"
   ]
  },
  {
   "cell_type": "code",
   "execution_count": null,
   "id": "70bbeb47",
   "metadata": {},
   "outputs": [],
   "source": [
    "# 입력 예\n",
    "# 16 5\n",
    "# 출력 예\n",
    "# 16 * 5 = 80\n",
    "# 16 / 5 = 3"
   ]
  },
  {
   "cell_type": "code",
   "execution_count": 29,
   "id": "59e826fa",
   "metadata": {},
   "outputs": [
    {
     "name": "stdout",
     "output_type": "stream",
     "text": [
      "10 10\n",
      "10 * 10 = 100\n",
      "10 / 10 = 1\n",
      "10 * 10 = 100\n",
      "10 * 10 = 1\n",
      "10 * 10 = 100\n",
      "10 / 10 = 1\n"
     ]
    }
   ],
   "source": [
    "a, b = map(int, input().split())\n",
    "\n",
    "# # 단순 나열\n",
    "# print(\"16 * 5 =\", a*b)\n",
    "# print(\"16 / 5 =\", int(a/b))  # 이게 Accepted(20) 가 뜨네? \n",
    "\n",
    "# # f-string 포맷팅\n",
    "# print(f'16 * 5 = {a*b}')\n",
    "# print(f'16 / 5 = {int(a/b)}')\n",
    "\n",
    "# # format() 함수 사용\n",
    "# print(\"16 * 5 = {}\".format(a*b))\n",
    "# print(\"16 / 5 = {}\".format(int(a/b)))\n",
    "\n",
    "# # % 연산자 사용\n",
    "# print(\"16 * 5 = %d\" %(a*b)) \n",
    "# print(\"16 / 5 = %d\" %(int(a/b)))\n",
    "\n",
    "# 아 왜 안되는지 알았다.\n",
    "\n",
    "# f-string 포맷팅\n",
    "print(f'{a} * {b} = {a*b}')\n",
    "print(f'{a} / {b} = {int(a/b)}')\n",
    "\n",
    "# format() 함수 사용\n",
    "print(\"{} * {} = {}\".format(a, b, a*b))\n",
    "print(\"{} * {} = {}\".format(a, b, int(a/b)))\n",
    "\n",
    "# % 연산자 사용\n",
    "print(\"%d * %d = %d\" %(a, b, a*b)) \n",
    "print(\"%d / %d = %d\" %(a, b, int(a/b)))\n"
   ]
  },
  {
   "cell_type": "markdown",
   "id": "9d016d57",
   "metadata": {},
   "source": [
    "######  입력 - 자가진단8\n",
    "실수 2개와 한 개의 문자를 입력 받아 출력하되 실수는 반올림하여 소수 둘째자리까지 출력하는 프로그램을작성하시오.\n",
    "\n",
    "(C, C++, Java 의 경우 실수는 \"double\"로 선언하세요.)"
   ]
  },
  {
   "cell_type": "code",
   "execution_count": null,
   "id": "5f185e25",
   "metadata": {},
   "outputs": [],
   "source": [
    "# 입력 예\n",
    "# 12.2536\n",
    "# 526.129535\n",
    "# A\n",
    "# 출력 예\n",
    "# 12.25\n",
    "# 526.13\n",
    "# A"
   ]
  },
  {
   "cell_type": "code",
   "execution_count": 34,
   "id": "ab419b42",
   "metadata": {},
   "outputs": [
    {
     "ename": "SyntaxError",
     "evalue": "invalid syntax (<ipython-input-34-af239cc80784>, line 11)",
     "output_type": "error",
     "traceback": [
      "\u001b[1;36m  File \u001b[1;32m\"<ipython-input-34-af239cc80784>\"\u001b[1;36m, line \u001b[1;32m11\u001b[0m\n\u001b[1;33m    print(a:.2f)\u001b[0m\n\u001b[1;37m           ^\u001b[0m\n\u001b[1;31mSyntaxError\u001b[0m\u001b[1;31m:\u001b[0m invalid syntax\n"
     ]
    }
   ],
   "source": [
    "a = float(input())\n",
    "b = float(input())\n",
    "c = input()\n",
    "\n",
    "# f-string\n",
    "print(f'{a:.2f}')\n",
    "print(f'{b:.2f}')\n",
    "print(c)\n",
    "\n",
    "# format()\n",
    "print(a.format(.2f))\n",
    "print(b.3f)"
   ]
  },
  {
   "cell_type": "code",
   "execution_count": null,
   "id": "6a1c2f3f",
   "metadata": {},
   "outputs": [],
   "source": []
  },
  {
   "cell_type": "code",
   "execution_count": null,
   "id": "082976df",
   "metadata": {},
   "outputs": [],
   "source": []
  },
  {
   "cell_type": "code",
   "execution_count": null,
   "id": "0ad1d966",
   "metadata": {},
   "outputs": [],
   "source": []
  },
  {
   "cell_type": "code",
   "execution_count": null,
   "id": "96ff7f77",
   "metadata": {},
   "outputs": [],
   "source": []
  },
  {
   "cell_type": "code",
   "execution_count": null,
   "id": "9e86e41c",
   "metadata": {},
   "outputs": [],
   "source": []
  }
 ],
 "metadata": {
  "kernelspec": {
   "display_name": "Python 3",
   "language": "python",
   "name": "python3"
  },
  "language_info": {
   "codemirror_mode": {
    "name": "ipython",
    "version": 3
   },
   "file_extension": ".py",
   "mimetype": "text/x-python",
   "name": "python",
   "nbconvert_exporter": "python",
   "pygments_lexer": "ipython3",
   "version": "3.8.8"
  }
 },
 "nbformat": 4,
 "nbformat_minor": 5
}
