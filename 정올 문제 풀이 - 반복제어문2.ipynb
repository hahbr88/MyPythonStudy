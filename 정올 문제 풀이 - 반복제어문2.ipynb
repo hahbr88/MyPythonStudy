{
 "cells": [
  {
   "cell_type": "markdown",
   "id": "22e29bcb",
   "metadata": {},
   "source": [
    "###### 반복제어문 2 - 자가진단 1\n",
    "http://jungol.co.kr/bbs/board.php?bo_table=pbank&wr_id=4171&sca=py80"
   ]
  },
  {
   "cell_type": "code",
   "execution_count": 22,
   "id": "1f2904a6",
   "metadata": {},
   "outputs": [
    {
     "name": "stdout",
     "output_type": "stream",
     "text": [
      "10\n",
      "[10, 9, 8, 7, 6, 5, 4, 3, 2, 1]\n"
     ]
    }
   ],
   "source": [
    "num = int(input())\n",
    "\n",
    "a = [i+1 for i in range(num)]\n",
    "print(a[::-1])"
   ]
  },
  {
   "cell_type": "markdown",
   "id": "1498dcab",
   "metadata": {},
   "source": [
    "###### 반복제어문 2 - 자가진단 2\n",
    "http://jungol.co.kr/bbs/board.php?bo_table=pbank&wr_id=4172&sca=py80"
   ]
  },
  {
   "cell_type": "code",
   "execution_count": 7,
   "id": "8f557751",
   "metadata": {},
   "outputs": [
    {
     "name": "stdout",
     "output_type": "stream",
     "text": [
      "a\n",
      "aaaaaaaaaaaaaaaaaaaa\n"
     ]
    }
   ],
   "source": [
    "ch = input()\n",
    "l1 = [ch for i in range(20)]\n",
    "\n",
    "result = \"\".join(l1)\n",
    "print(result)"
   ]
  },
  {
   "cell_type": "markdown",
   "id": "fba30c8d",
   "metadata": {},
   "source": [
    "###### 반복제어문 2 - 자가진단 3\n",
    "http://jungol.co.kr/bbs/board.php?bo_table=pbank&wr_id=4173&sca=py80"
   ]
  },
  {
   "cell_type": "code",
   "execution_count": 17,
   "id": "fcba604e",
   "metadata": {},
   "outputs": [
    {
     "name": "stdout",
     "output_type": "stream",
     "text": [
      "[10, 11, 12, 13, 14, 15, 16, 17, 18, 19, 20]\n",
      "10 11 12 13 14 15 16 17 18 19 20\n"
     ]
    }
   ],
   "source": [
    "li2 = [i+10 for i in range(11)]\n",
    "result = ' '.join(map(str, li2))\n",
    "print(result)"
   ]
  },
  {
   "cell_type": "markdown",
   "id": "ff66da6c",
   "metadata": {},
   "source": [
    "###### 반복제어문 2 - 자가진단 4\n",
    "http://jungol.co.kr/bbs/board.php?bo_table=pbank&wr_id=4174&sca=py80"
   ]
  },
  {
   "cell_type": "code",
   "execution_count": 33,
   "id": "75f050fe",
   "metadata": {},
   "outputs": [
    {
     "name": "stdout",
     "output_type": "stream",
     "text": [
      "10\n",
      "2 4 6 8 10\n"
     ]
    }
   ],
   "source": [
    "num = int(input())\n",
    "\n",
    "li3 = [i+1 for i in range(num) if i%2==1]\n",
    "result = \" \".join(map(str, li3))\n",
    "print(result)"
   ]
  },
  {
   "cell_type": "code",
   "execution_count": 43,
   "id": "e687fbbe",
   "metadata": {},
   "outputs": [
    {
     "name": "stdout",
     "output_type": "stream",
     "text": [
      "15\n",
      "2 4 6 8 10 12 14 "
     ]
    }
   ],
   "source": [
    "num =  int(input())\n",
    "\n",
    "for i in range(2, num+1, 2):\n",
    "    print(i, end=\" \")"
   ]
  },
  {
   "cell_type": "markdown",
   "id": "cc18ab5f",
   "metadata": {},
   "source": [
    "###### 반복제어문 2 - 자가진단 5\n",
    "http://jungol.co.kr/bbs/board.php?bo_table=pbank&wr_id=4175&sca=py80"
   ]
  },
  {
   "cell_type": "code",
   "execution_count": null,
   "id": "1b5ae0ec",
   "metadata": {},
   "outputs": [],
   "source": [
    "num = int(input())\n",
    "for i in range(num)\n",
    "    "
   ]
  },
  {
   "cell_type": "code",
   "execution_count": null,
   "id": "59acd5ce",
   "metadata": {},
   "outputs": [],
   "source": []
  },
  {
   "cell_type": "code",
   "execution_count": null,
   "id": "dd9403e4",
   "metadata": {},
   "outputs": [],
   "source": []
  },
  {
   "cell_type": "code",
   "execution_count": null,
   "id": "fad78f16",
   "metadata": {},
   "outputs": [],
   "source": []
  }
 ],
 "metadata": {
  "kernelspec": {
   "display_name": "Python 3",
   "language": "python",
   "name": "python3"
  },
  "language_info": {
   "codemirror_mode": {
    "name": "ipython",
    "version": 3
   },
   "file_extension": ".py",
   "mimetype": "text/x-python",
   "name": "python",
   "nbconvert_exporter": "python",
   "pygments_lexer": "ipython3",
   "version": "3.8.8"
  }
 },
 "nbformat": 4,
 "nbformat_minor": 5
}
