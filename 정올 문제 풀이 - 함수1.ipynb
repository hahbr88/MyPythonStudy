{
 "cells": [
  {
   "cell_type": "markdown",
   "id": "54a9b66f",
   "metadata": {},
   "source": [
    "###### 함수 1 - 자가진단 1\n",
    "http://jungol.co.kr/bbs/board.php?bo_table=pbank&wr_id=4381&sca=pye0"
   ]
  },
  {
   "cell_type": "code",
   "execution_count": 9,
   "id": "7854bdde",
   "metadata": {},
   "outputs": [
    {
     "name": "stdout",
     "output_type": "stream",
     "text": [
      "3\n",
      "~!@#$^&*()_+|\n",
      "~!@#$^&*()_+|\n",
      "~!@#$^&*()_+|\n",
      "\n"
     ]
    }
   ],
   "source": [
    "def printfuc(n):\n",
    "    print(\"~!@#$^&*()_+|\\n\"*n)\n",
    "\n",
    "printfuc(int(input()))"
   ]
  },
  {
   "cell_type": "markdown",
   "id": "f4e4603b",
   "metadata": {},
   "source": [
    "###### 함수 1 - 자가진단 2\n",
    "http://jungol.co.kr/bbs/board.php?bo_table=pbank&wr_id=4382&sca=pye0"
   ]
  },
  {
   "cell_type": "code",
   "execution_count": 22,
   "id": "9d6d8b5c",
   "metadata": {},
   "outputs": [
    {
     "name": "stdout",
     "output_type": "stream",
     "text": [
      "10\n",
      "314.00\n"
     ]
    }
   ],
   "source": [
    "def circleArea(r):\n",
    "    a = (r**2)*3.14\n",
    "    return a\n",
    "print(\"{:.2f}\".format(circleArea(int(input()))))"
   ]
  },
  {
   "cell_type": "code",
   "execution_count": null,
   "id": "59de57ec",
   "metadata": {},
   "outputs": [],
   "source": []
  },
  {
   "cell_type": "code",
   "execution_count": null,
   "id": "0326bacd",
   "metadata": {},
   "outputs": [],
   "source": []
  },
  {
   "cell_type": "code",
   "execution_count": null,
   "id": "700f7c28",
   "metadata": {},
   "outputs": [],
   "source": []
  },
  {
   "cell_type": "code",
   "execution_count": null,
   "id": "0e0291e9",
   "metadata": {},
   "outputs": [],
   "source": []
  },
  {
   "cell_type": "code",
   "execution_count": null,
   "id": "9a4fbe35",
   "metadata": {},
   "outputs": [],
   "source": []
  },
  {
   "cell_type": "code",
   "execution_count": null,
   "id": "5e3f81b5",
   "metadata": {},
   "outputs": [],
   "source": []
  },
  {
   "cell_type": "code",
   "execution_count": null,
   "id": "f2daa744",
   "metadata": {},
   "outputs": [],
   "source": []
  },
  {
   "cell_type": "code",
   "execution_count": null,
   "id": "fd7165ed",
   "metadata": {},
   "outputs": [],
   "source": []
  },
  {
   "cell_type": "code",
   "execution_count": null,
   "id": "920cbc6f",
   "metadata": {},
   "outputs": [],
   "source": []
  }
 ],
 "metadata": {
  "kernelspec": {
   "display_name": "Python 3",
   "language": "python",
   "name": "python3"
  },
  "language_info": {
   "codemirror_mode": {
    "name": "ipython",
    "version": 3
   },
   "file_extension": ".py",
   "mimetype": "text/x-python",
   "name": "python",
   "nbconvert_exporter": "python",
   "pygments_lexer": "ipython3",
   "version": "3.8.8"
  }
 },
 "nbformat": 4,
 "nbformat_minor": 5
}
