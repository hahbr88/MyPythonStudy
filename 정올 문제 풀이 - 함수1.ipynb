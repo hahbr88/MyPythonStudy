{
 "cells": [
  {
   "cell_type": "markdown",
   "id": "54a9b66f",
   "metadata": {},
   "source": [
    "###### 함수 1 - 자가진단 1\n",
    "http://jungol.co.kr/bbs/board.php?bo_table=pbank&wr_id=4381&sca=pye0"
   ]
  },
  {
   "cell_type": "code",
   "execution_count": 9,
   "id": "7854bdde",
   "metadata": {},
   "outputs": [
    {
     "name": "stdout",
     "output_type": "stream",
     "text": [
      "3\n",
      "~!@#$^&*()_+|\n",
      "~!@#$^&*()_+|\n",
      "~!@#$^&*()_+|\n",
      "\n"
     ]
    }
   ],
   "source": [
    "def printfuc(n):\n",
    "    print(\"~!@#$^&*()_+|\\n\"*n)\n",
    "\n",
    "printfuc(int(input()))"
   ]
  },
  {
   "cell_type": "markdown",
   "id": "f4e4603b",
   "metadata": {},
   "source": [
    "###### 함수 1 - 자가진단 2\n",
    "http://jungol.co.kr/bbs/board.php?bo_table=pbank&wr_id=4382&sca=pye0"
   ]
  },
  {
   "cell_type": "code",
   "execution_count": 22,
   "id": "9d6d8b5c",
   "metadata": {
    "scrolled": true
   },
   "outputs": [
    {
     "name": "stdout",
     "output_type": "stream",
     "text": [
      "10\n",
      "314.00\n"
     ]
    }
   ],
   "source": [
    "def circleArea(r):\n",
    "    a = (r**2)*3.14\n",
    "    return a\n",
    "print(\"{:.2f}\".format(circleArea(int(input()))))"
   ]
  },
  {
   "cell_type": "code",
   "execution_count": 7,
   "id": "45888ab3",
   "metadata": {},
   "outputs": [
    {
     "name": "stdout",
     "output_type": "stream",
     "text": [
      "10\n"
     ]
    },
    {
     "data": {
      "text/plain": [
       "314.0"
      ]
     },
     "execution_count": 7,
     "metadata": {},
     "output_type": "execute_result"
    }
   ],
   "source": [
    "# 람다 + math \n",
    "import math\n",
    "getA = lambda r : math.pi * (r**2)\n",
    "getA(int(input()))"
   ]
  },
  {
   "cell_type": "code",
   "execution_count": 10,
   "id": "c7bbe79b",
   "metadata": {},
   "outputs": [
    {
     "name": "stdout",
     "output_type": "stream",
     "text": [
      "10\n",
      "314.0\n"
     ]
    }
   ],
   "source": [
    "# 람다 제출용\n",
    "getB = lambda r : 3.14 * (r**2)\n",
    "result = getB(int(input()))\n",
    "print(f'{result:.2f}')\n"
   ]
  },
  {
   "cell_type": "markdown",
   "id": "78851720",
   "metadata": {},
   "source": [
    "###### 함수 1 - 자가진단 3\n",
    "http://jungol.co.kr/bbs/board.php?bo_table=pbank&wr_id=4383&sca=pye0"
   ]
  },
  {
   "cell_type": "code",
   "execution_count": 290,
   "id": "2a455260",
   "metadata": {},
   "outputs": [
    {
     "name": "stdout",
     "output_type": "stream",
     "text": [
      "6\n",
      "1 2 3 4 5 6 \n",
      "7 8 9 10 11 12 \n",
      "13 14 15 16 17 18 \n",
      "19 20 21 22 23 24 \n",
      "25 26 27 28 29 30 \n",
      "31 32 33 34 35 36 \n"
     ]
    }
   ],
   "source": [
    "def numSq1(n):\n",
    "    for i in range(0,n**2, n): # 1에서 입력받은 수 n의 제곱만큼의 수 중 n칸씩의 수가 나오게 하는 for문\n",
    "        for j in range(n):     # j를 n번만큼 반복한다\n",
    "            print(i+1, end=\" \")  # i를 출력한다. 한칸씩 띄어서!\n",
    "            i += 1             # 그런데 반복할때마다 i는 하나씩 증가됨\n",
    "        print()\n",
    "        \n",
    "numSq1(int(input()))"
   ]
  },
  {
   "cell_type": "code",
   "execution_count": 287,
   "id": "f2daa744",
   "metadata": {},
   "outputs": [
    {
     "name": "stdout",
     "output_type": "stream",
     "text": [
      "2\n",
      "1 2 \n",
      "3 4 \n"
     ]
    }
   ],
   "source": [
    "# 더 깔끔한 코드 (by.김영은)\n",
    "\n",
    "def numSq2(n):\n",
    "    for i in range(1, n ** 2 + 1):\n",
    "        print(i, end=' ')\n",
    "        if(i % n == 0):\n",
    "            print()\n",
    "        \n",
    "numSq2(int(input()))"
   ]
  },
  {
   "cell_type": "markdown",
   "id": "0f988e98",
   "metadata": {},
   "source": [
    "###### 함수 1 - 자가진단 4\n",
    "http://jungol.co.kr/bbs/board.php?bo_table=pbank&wr_id=4384&sca=pye0"
   ]
  },
  {
   "cell_type": "code",
   "execution_count": 306,
   "id": "1515e608",
   "metadata": {},
   "outputs": [
    {
     "name": "stdout",
     "output_type": "stream",
     "text": [
      "2 3 4 5\n",
      "5\n"
     ]
    }
   ],
   "source": [
    "def find_max(*args):\n",
    "    print(max(*args))\n",
    "\n",
    "find_max(list(map(int,input().split())))"
   ]
  },
  {
   "cell_type": "code",
   "execution_count": 323,
   "id": "0bdd09df",
   "metadata": {
    "scrolled": true
   },
   "outputs": [
    {
     "name": "stdout",
     "output_type": "stream",
     "text": [
      "6 5 3\n",
      "6\n"
     ]
    }
   ],
   "source": [
    "def find_max(a, b, c):\n",
    "    print(max(a, b, c))\n",
    "\n",
    "a,b,c = map(int,input().split())   \n",
    "find_max(a,b,c)"
   ]
  },
  {
   "cell_type": "code",
   "execution_count": 324,
   "id": "f00c588b",
   "metadata": {},
   "outputs": [
    {
     "name": "stdout",
     "output_type": "stream",
     "text": [
      "3 4 5\n",
      "5\n"
     ]
    }
   ],
   "source": [
    "find_max_lambda = lambda li : print(max(li))\n",
    "find_max_lambda(list(map(int, input().split())))"
   ]
  },
  {
   "cell_type": "markdown",
   "id": "934f89b2",
   "metadata": {},
   "source": [
    "###### 함수 1 - 자가진단 5\n",
    "http://jungol.co.kr/bbs/board.php?bo_table=pbank&wr_id=4385&sca=pye0"
   ]
  },
  {
   "cell_type": "code",
   "execution_count": 321,
   "id": "32e7c444",
   "metadata": {},
   "outputs": [
    {
     "name": "stdout",
     "output_type": "stream",
     "text": [
      "3 8\n",
      "6561\n"
     ]
    }
   ],
   "source": [
    "m, n = map(int, input().split())\n",
    "def calc_power_n(m, n):\n",
    "    print(m**n)\n",
    "    \n",
    "    \n",
    "calc_power_n(m, n)"
   ]
  },
  {
   "cell_type": "markdown",
   "id": "76501223",
   "metadata": {},
   "source": [
    "###### 함수 1 - 자가진단 6\n",
    "http://jungol.co.kr/bbs/board.php?bo_table=pbank&wr_id=4386&sca=pye0"
   ]
  },
  {
   "cell_type": "code",
   "execution_count": 337,
   "id": "1b392282",
   "metadata": {},
   "outputs": [
    {
     "name": "stdout",
     "output_type": "stream",
     "text": [
      "2 + 4\n",
      "2 + 4 = 6\n"
     ]
    }
   ],
   "source": [
    "num1, op, num2 = input().split()\n",
    "num1, num2 = map(int, (num1, num2))\n",
    "\n",
    "def do_calc(num1,op,num2):\n",
    "    if op == '+':\n",
    "        print(f\"{num1} + {num2} = {num1+num2}\")\n",
    "    elif op == '-':\n",
    "        print(f\"{num1} - {num2} = {num1-num2}\")\n",
    "    elif op == '*':\n",
    "        print(f\"{num1} * {num2} = {num1*num2}\")\n",
    "    elif op == '/':\n",
    "        print(f\"{num1} / {num2} = {num1//num2}\")\n",
    "    \n",
    "do_calc(num1,op,num2)"
   ]
  },
  {
   "cell_type": "code",
   "execution_count": 329,
   "id": "287763b4",
   "metadata": {},
   "outputs": [
    {
     "data": {
      "text/plain": [
       "(int, int, str)"
      ]
     },
     "execution_count": 329,
     "metadata": {},
     "output_type": "execute_result"
    }
   ],
   "source": [
    "type(num1), type(num2), type(op)"
   ]
  },
  {
   "cell_type": "markdown",
   "id": "bdb7b012",
   "metadata": {},
   "source": [
    "###### 함수 1 - 자가진단 7\n",
    "http://jungol.co.kr/bbs/board.php?bo_table=pbank&wr_id=4387&sca=pye0"
   ]
  },
  {
   "cell_type": "code",
   "execution_count": 358,
   "id": "77bce37b",
   "metadata": {},
   "outputs": [
    {
     "name": "stdout",
     "output_type": "stream",
     "text": [
      "500 100\n",
      "250 200\n"
     ]
    }
   ],
   "source": [
    "a, b = map(int, input().split())\n",
    "\n",
    "def func1(a, b):\n",
    "#     print(max(a,b) // 2, min(a,b) * 2) # 이건 출력되는 자리가 고정되서 안됨\n",
    "    print(f\"{a//2} {b*2}\" if a > b else f\"{a*2} {b//2}\")\n",
    "    \n",
    "func1(a, b)"
   ]
  },
  {
   "cell_type": "code",
   "execution_count": 348,
   "id": "25f76447",
   "metadata": {},
   "outputs": [
    {
     "data": {
      "text/plain": [
       "(20, 10)"
      ]
     },
     "execution_count": 348,
     "metadata": {},
     "output_type": "execute_result"
    }
   ],
   "source": [
    "max(10,20), min(10,20)"
   ]
  },
  {
   "cell_type": "markdown",
   "id": "990249b7",
   "metadata": {},
   "source": [
    "###### 함수 1 - 자가진단 8\n",
    "http://jungol.co.kr/bbs/board.php?bo_table=pbank&wr_id=4388&sca=pye0"
   ]
  },
  {
   "cell_type": "code",
   "execution_count": 380,
   "id": "61aa6713",
   "metadata": {
    "scrolled": false
   },
   "outputs": [
    {
     "name": "stdout",
     "output_type": "stream",
     "text": [
      "4 1\n",
      "== 1dan ==\n",
      "1 * 1 =  1\n",
      "1 * 2 =  2\n",
      "1 * 3 =  3\n",
      "1 * 4 =  4\n",
      "1 * 5 =  5\n",
      "1 * 6 =  6\n",
      "1 * 7 =  7\n",
      "1 * 8 =  8\n",
      "1 * 9 =  9\n",
      "\n",
      "== 2dan ==\n",
      "2 * 1 =  2\n",
      "2 * 2 =  4\n",
      "2 * 3 =  6\n",
      "2 * 4 =  8\n",
      "2 * 5 = 10\n",
      "2 * 6 = 12\n",
      "2 * 7 = 14\n",
      "2 * 8 = 16\n",
      "2 * 9 = 18\n",
      "\n",
      "== 3dan ==\n",
      "3 * 1 =  3\n",
      "3 * 2 =  6\n",
      "3 * 3 =  9\n",
      "3 * 4 = 12\n",
      "3 * 5 = 15\n",
      "3 * 6 = 18\n",
      "3 * 7 = 21\n",
      "3 * 8 = 24\n",
      "3 * 9 = 27\n",
      "\n",
      "== 4dan ==\n",
      "4 * 1 =  4\n",
      "4 * 2 =  8\n",
      "4 * 3 = 12\n",
      "4 * 4 = 16\n",
      "4 * 5 = 20\n",
      "4 * 6 = 24\n",
      "4 * 7 = 28\n",
      "4 * 8 = 32\n",
      "4 * 9 = 36\n",
      "\n"
     ]
    }
   ],
   "source": [
    "n , m = map(int, input().split())\n",
    "\n",
    "def multiplications(n,m):\n",
    "    if n < m:\n",
    "        for i in range(n,m+1):\n",
    "            print(f\"== {i}dan ==\")\n",
    "            for j in range(1,10):\n",
    "                print(f\"{i} * {j} = {i*j:>2d}\")\n",
    "            print()\n",
    "    else:\n",
    "        for i in range(m,n+1):\n",
    "            print(f\"== {i}dan ==\")\n",
    "            for j in range(1,10):\n",
    "                print(f\"{i} * {j} = {i*j:>2d}\")\n",
    "            print()\n",
    "        \n",
    "multiplications(n, m)"
   ]
  },
  {
   "cell_type": "markdown",
   "id": "d7cb639c",
   "metadata": {},
   "source": [
    "###### 함수 1 - 형성평가 1\n",
    "http://jungol.co.kr/bbs/board.php?bo_table=pbank&wr_id=4389&sca=pye0"
   ]
  },
  {
   "cell_type": "code",
   "execution_count": 1,
   "id": "20fa8e45",
   "metadata": {},
   "outputs": [
    {
     "name": "stdout",
     "output_type": "stream",
     "text": [
      "first\n",
      "@@@@@@@@@@\n",
      "second\n",
      "@@@@@@@@@@\n",
      "third\n",
      "@@@@@@@@@@\n"
     ]
    }
   ],
   "source": [
    "a = lambda : print('@' * 10)\n",
    "print('first')\n",
    "a()\n",
    "print('second')\n",
    "a()\n",
    "print('third')\n",
    "a()"
   ]
  },
  {
   "cell_type": "markdown",
   "id": "63063ca7",
   "metadata": {},
   "source": [
    "###### 함수 1 - 형성평가 2\n",
    "http://jungol.co.kr/bbs/board.php?bo_table=pbank&wr_id=4390&sca=pye0"
   ]
  },
  {
   "cell_type": "code",
   "execution_count": 17,
   "id": "14bceb22",
   "metadata": {
    "scrolled": true
   },
   "outputs": [
    {
     "name": "stdout",
     "output_type": "stream",
     "text": [
      "100\n",
      "5050\n"
     ]
    }
   ],
   "source": [
    "a = int(input())\n",
    "result = [i+1 for i in range(a)]\n",
    "\n",
    "\n",
    "def calc_sum(a):\n",
    "    print(sum(result))\n",
    "    \n",
    "calc_sum(a)"
   ]
  },
  {
   "cell_type": "markdown",
   "id": "31b3d7f2",
   "metadata": {},
   "source": [
    "###### 함수 1 - 형성평가 3\n",
    "http://jungol.co.kr/bbs/board.php?bo_table=pbank&wr_id=4391&sca=pye0"
   ]
  },
  {
   "cell_type": "code",
   "execution_count": 67,
   "id": "5c74b9ce",
   "metadata": {},
   "outputs": [
    {
     "name": "stdout",
     "output_type": "stream",
     "text": [
      "9\n",
      "1 2 3 4 5 6 7 8 9 \n",
      "2 4 6 8 10 12 14 16 18 \n",
      "3 6 9 12 15 18 21 24 27 \n",
      "4 8 12 16 20 24 28 32 36 \n",
      "5 10 15 20 25 30 35 40 45 \n",
      "6 12 18 24 30 36 42 48 54 \n",
      "7 14 21 28 35 42 49 56 63 \n",
      "8 16 24 32 40 48 56 64 72 \n",
      "9 18 27 36 45 54 63 72 81 \n"
     ]
    }
   ],
   "source": [
    "a = int(input())\n",
    "\n",
    "def number_square():\n",
    "    for i in range(a):\n",
    "        for j in range(a):\n",
    "            print((i+1) * (j+1) , end=' ')\n",
    "        print()\n",
    "        \n",
    "number_square()        \n"
   ]
  },
  {
   "cell_type": "markdown",
   "id": "f6feb7be",
   "metadata": {},
   "source": [
    "###### 함수 1 - 형성평가 4\n",
    "http://jungol.co.kr/bbs/board.php?bo_table=pbank&wr_id=4392&sca=pye0"
   ]
  },
  {
   "cell_type": "code",
   "execution_count": 80,
   "id": "d6881201",
   "metadata": {},
   "outputs": [
    {
     "name": "stdout",
     "output_type": "stream",
     "text": [
      "16 33\n",
      "833\n"
     ]
    }
   ],
   "source": [
    "n, m = map(int,input().split())\n",
    "\n",
    "def square_sub():    \n",
    "    if n > m:\n",
    "        result = n**2 - m**2\n",
    "    else:\n",
    "        result = m**2 - n**2\n",
    "    return print(result)\n",
    "\n",
    "square_sub()    "
   ]
  },
  {
   "cell_type": "markdown",
   "id": "49e2d0e4",
   "metadata": {},
   "source": [
    "###### 함수 1 - 형성평가 5\n",
    "http://jungol.co.kr/bbs/board.php?bo_table=pbank&wr_id=4393&sca=pye0"
   ]
  },
  {
   "cell_type": "code",
   "execution_count": 92,
   "id": "ffa87d2e",
   "metadata": {},
   "outputs": [
    {
     "name": "stdout",
     "output_type": "stream",
     "text": [
      "10 10 10\n",
      "20 20 20\n",
      "30 30 30\n",
      "10 10 10 30\n",
      "20 20 20 60\n",
      "30 30 30 90\n",
      "60 60 60 180\n"
     ]
    }
   ],
   "source": [
    "st1 = list(map(int, input().split()))\n",
    "st2 = list(map(int, input().split()))\n",
    "st3 = list(map(int, input().split()))\n",
    "total1 = st1[0]+st2[0]+st3[0]\n",
    "total2 = st1[1]+st2[1]+st3[1]\n",
    "total3 = st1[2]+st2[2]+st3[2]\n",
    "\n",
    "# st1,st2,st3 # 학생 별 점수 list \n",
    "\n",
    "def calc_score():\n",
    "    print(f'{st1[0]} {st1[1]} {st1[2]} {sum(st1)}')\n",
    "    print(f'{st2[0]} {st2[1]} {st2[2]} {sum(st2)}')\n",
    "    print(f'{st3[0]} {st3[1]} {st3[2]} {sum(st3)}')\n",
    "    print(f'{total1} {total2} {total3} {total1+total2+total3}')\n",
    "    \n",
    "calc_score()"
   ]
  },
  {
   "cell_type": "code",
   "execution_count": null,
   "id": "84bb06d8",
   "metadata": {},
   "outputs": [],
   "source": []
  },
  {
   "cell_type": "code",
   "execution_count": null,
   "id": "ac350bbf",
   "metadata": {},
   "outputs": [],
   "source": []
  },
  {
   "cell_type": "code",
   "execution_count": null,
   "id": "58862923",
   "metadata": {},
   "outputs": [],
   "source": []
  },
  {
   "cell_type": "code",
   "execution_count": null,
   "id": "987c6c86",
   "metadata": {},
   "outputs": [],
   "source": []
  },
  {
   "cell_type": "code",
   "execution_count": null,
   "id": "b97ebef9",
   "metadata": {},
   "outputs": [],
   "source": []
  },
  {
   "cell_type": "code",
   "execution_count": null,
   "id": "1fcd662c",
   "metadata": {},
   "outputs": [],
   "source": []
  }
 ],
 "metadata": {
  "kernelspec": {
   "display_name": "Python 3",
   "language": "python",
   "name": "python3"
  },
  "language_info": {
   "codemirror_mode": {
    "name": "ipython",
    "version": 3
   },
   "file_extension": ".py",
   "mimetype": "text/x-python",
   "name": "python",
   "nbconvert_exporter": "python",
   "pygments_lexer": "ipython3",
   "version": "3.8.8"
  }
 },
 "nbformat": 4,
 "nbformat_minor": 5
}
