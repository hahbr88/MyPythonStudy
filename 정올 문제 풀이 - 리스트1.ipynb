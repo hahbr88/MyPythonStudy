{
 "cells": [
  {
   "cell_type": "markdown",
   "id": "b124442a",
   "metadata": {},
   "source": [
    "# 리스트1"
   ]
  },
  {
   "cell_type": "markdown",
   "id": "e074582c",
   "metadata": {},
   "source": [
    "###### 리스트1 - 자가진단 1\n",
    "\n",
    "리스트를 만들고, 출력하여 출력 예와 같이 나오도록 하는 프로그램을 작성하라.​\n"
   ]
  },
  {
   "cell_type": "code",
   "execution_count": null,
   "id": "33019f52",
   "metadata": {},
   "outputs": [],
   "source": [
    "# 출력 예\n",
    "# ['Salad', 'Pizza', 'Chicken', 'Soup']"
   ]
  },
  {
   "cell_type": "code",
   "execution_count": 2,
   "id": "6dcd3964",
   "metadata": {},
   "outputs": [
    {
     "name": "stdout",
     "output_type": "stream",
     "text": [
      "['Salad', 'Pizza', 'Chicken', 'Soup']\n"
     ]
    }
   ],
   "source": [
    "list1 = ['Salad', 'Pizza', 'Chicken', 'Soup']\n",
    "print(list)"
   ]
  },
  {
   "cell_type": "markdown",
   "id": "22f5c9e2",
   "metadata": {},
   "source": [
    "###### 리스트1 - 자가진단 2\n",
    "\n",
    "'Python', 'is', 'exciting' 세 문자열로 이루어진 리스트를 만들고, 다음과 같이 출력하는 프로그램을 작성하라.​"
   ]
  },
  {
   "cell_type": "code",
   "execution_count": null,
   "id": "5e2e7dfe",
   "metadata": {},
   "outputs": [],
   "source": [
    "# 출력 예\n",
    "# Python is exciting"
   ]
  },
  {
   "cell_type": "code",
   "execution_count": 3,
   "id": "dc01910a",
   "metadata": {},
   "outputs": [
    {
     "name": "stdout",
     "output_type": "stream",
     "text": [
      "Python is exciting\n"
     ]
    }
   ],
   "source": [
    "list2 = ['Python', 'is', 'exciting']\n",
    "print(list2[0], list2[1], list2[2])"
   ]
  },
  {
   "cell_type": "markdown",
   "id": "4807154c",
   "metadata": {},
   "source": [
    "###### 리스트1 - 자가진단 3\n",
    "세 개의 리스트를 만들어 아래 순서대로 합병하여 출력하는 프로그램을 작성하라.\n",
    "\n",
    "[첫 번째 리스트][세 번째 리스트][세 번째 리스트][세 번째 리스트][두 번째 리스트]\n",
    "\n",
    "첫 번째 리스트:[1, 2, 3]\n",
    "\n",
    "두 번째 리스트:[2, 4, 6]\n",
    "\n",
    "세 번째 리스트:[3, 6, 9] \n"
   ]
  },
  {
   "cell_type": "code",
   "execution_count": null,
   "id": "fe5294bf",
   "metadata": {},
   "outputs": [],
   "source": [
    "# 출력 예\n",
    "# [1, 2, 3, 3, 6, 9, 3, 6, 9, 3, 6, 9, 2, 4, 6]"
   ]
  },
  {
   "cell_type": "code",
   "execution_count": 4,
   "id": "41736f08",
   "metadata": {},
   "outputs": [
    {
     "name": "stdout",
     "output_type": "stream",
     "text": [
      "[1, 2, 3, 3, 6, 9, 3, 6, 9, 3, 6, 9, 2, 4, 6]\n"
     ]
    }
   ],
   "source": [
    "l1 = [1, 2, 3]\n",
    "l2 = [2, 4, 6]\n",
    "l3 = [3, 6, 9]\n",
    "\n",
    "print(l1 + l3 + l3 + l3 + l2)"
   ]
  },
  {
   "cell_type": "markdown",
   "id": "be4ada50",
   "metadata": {},
   "source": [
    "###### 리스트1 - 자가진단 4\n",
    "\n",
    "리스트를 하나 만들어 [1, 2]로 초기화하고, 추가로 정수를 하나 더 입력 받아 리스트 끝에 추가한 후 역순으로 출력하는 프로그램을 작성하시오."
   ]
  },
  {
   "cell_type": "code",
   "execution_count": 5,
   "id": "9bb1b0d3",
   "metadata": {},
   "outputs": [],
   "source": [
    "# 입력 예\n",
    "# -3\n",
    "# 출력 예\n",
    "# -3\n",
    "# 2\n",
    "# 1"
   ]
  },
  {
   "cell_type": "code",
   "execution_count": 10,
   "id": "a2222ca8",
   "metadata": {},
   "outputs": [
    {
     "name": "stdout",
     "output_type": "stream",
     "text": [
      "-3\n",
      "-3\n",
      "2\n",
      "1\n"
     ]
    }
   ],
   "source": [
    "list3 = [1,2]\n",
    "num = int(input())\n",
    "list.append(num)\n",
    "print(list3[2])\n",
    "print(list3[1])\n",
    "print(list3[0])"
   ]
  },
  {
   "cell_type": "markdown",
   "id": "313c9a77",
   "metadata": {},
   "source": [
    "###### 리스트1 - 자가진단 5\n",
    "\n",
    "문자열을 하나 입력받아서 그 문자열의 맨 앞에 있는 문자를 출력한 후, 그 문자열을 리스트로 변환한 후에 해당 리스트의 앞에서부터 세 번째 문자를 출력하는 프로그램을 작성하라. \n",
    "\n",
    "(입력되는 문자열은 항상 길이가 3 이상이라고 가정한다.)​\n"
   ]
  },
  {
   "cell_type": "code",
   "execution_count": null,
   "id": "247e4a04",
   "metadata": {},
   "outputs": [],
   "source": [
    "# 입력 예\n",
    "# Eagle\n",
    "# 출력 예\n",
    "# E\n",
    "# g"
   ]
  },
  {
   "cell_type": "code",
   "execution_count": 11,
   "id": "c88cdb7e",
   "metadata": {},
   "outputs": [
    {
     "name": "stdout",
     "output_type": "stream",
     "text": [
      "Eagle\n",
      "E\n",
      "l\n"
     ]
    }
   ],
   "source": [
    "str = input()\n",
    "print(str[0])\n",
    "print(str[2])"
   ]
  },
  {
   "cell_type": "markdown",
   "id": "90fca4a2",
   "metadata": {},
   "source": [
    "###### 리스트1 - 자가진단  6-1\n",
    "원소 6개짜리 리스트를 입력받아 생성한 후, 인덱스를 입력 받아 입력받은 인덱스부터 맨 마지막까지의 부분 리스트를 출력하는 프로그램을 작성하라."
   ]
  },
  {
   "cell_type": "code",
   "execution_count": 12,
   "id": "033ebe96",
   "metadata": {},
   "outputs": [],
   "source": [
    "# 입력 예\n",
    "# Element? Seoul\n",
    "# Element? New York City\n",
    "# Element? Tokyo\n",
    "# Element? Beijing\n",
    "# Element? London\n",
    "# Element? Paris\n",
    "# Index? 3\n",
    "# 출력 예\n",
    "# ['Beijing', 'London', 'Paris']"
   ]
  },
  {
   "cell_type": "code",
   "execution_count": 1,
   "id": "b02e90c6",
   "metadata": {},
   "outputs": [
    {
     "name": "stdout",
     "output_type": "stream",
     "text": [
      "Element? qwe\n",
      "Element? rty\n",
      "Element? asd\n",
      "Element? fgh\n",
      "Element? zxc\n",
      "Element? vbn\n",
      "Index? 3\n",
      "['fgh', 'zxc', 'vbn']\n"
     ]
    }
   ],
   "source": [
    "list1 = []\n",
    "\n",
    "for i in range(6):\n",
    "    list1.append(input('Element? '))\n",
    "\n",
    "index = int(input('Index? '))\n",
    "print(list1[index:7])"
   ]
  },
  {
   "cell_type": "markdown",
   "id": "f34efcfc",
   "metadata": {},
   "source": [
    "###### 리스트1 - 자가진단 6-2\n",
    "원소 6개짜리 리스트를 입력받아 생성한 후, 홀수 번째 원소가 앞으로 오고 짝수 번째 원소가 뒤로 오도록 리스트를 재구성하여 출력하는 프로그램을 작성하시오."
   ]
  },
  {
   "cell_type": "code",
   "execution_count": null,
   "id": "e4b08385",
   "metadata": {},
   "outputs": [],
   "source": [
    "# 출력 예\n",
    "# ['Seoul', 'Tokyo', 'London', 'New York City', 'Beijing', 'Paris']"
   ]
  },
  {
   "cell_type": "code",
   "execution_count": 41,
   "id": "6a44aa5f",
   "metadata": {},
   "outputs": [
    {
     "name": "stdout",
     "output_type": "stream",
     "text": [
      "Element? qwe\n",
      "Element? rty\n",
      "Element? uio\n",
      "Element? asd\n",
      "Element? fgh\n",
      "Element? hjk\n",
      "['qwe', 'uio', 'fgh', 'rty', 'asd', 'hjk']\n"
     ]
    }
   ],
   "source": [
    "list1 = []\n",
    "\n",
    "for i in range(6):\n",
    "    list1.append(input('Element? '))\n",
    "    \n",
    "print(list1[0::2] + list1[1::2])"
   ]
  },
  {
   "cell_type": "markdown",
   "id": "f996a062",
   "metadata": {},
   "source": [
    "###### 리스트1 - 자가진단 6-3\n",
    "1부터 15까지의 정수가 들어있는 리스트를 생성하고, 정수 하나를 입력받아 그 배수들만으로 구성된 부분 리스트를 출력하는 프로그램을 작성하시오.​ "
   ]
  },
  {
   "cell_type": "code",
   "execution_count": null,
   "id": "9e1e66dd",
   "metadata": {},
   "outputs": [],
   "source": [
    "# 입력 예\n",
    "# 3\n",
    "# 출력 예\n",
    "# [3, 6, 9, 12, 15]"
   ]
  },
  {
   "cell_type": "code",
   "execution_count": 52,
   "id": "5afb5a35",
   "metadata": {},
   "outputs": [
    {
     "name": "stdout",
     "output_type": "stream",
     "text": [
      "6\n"
     ]
    },
    {
     "data": {
      "text/plain": [
       "[6, 12]"
      ]
     },
     "execution_count": 52,
     "metadata": {},
     "output_type": "execute_result"
    }
   ],
   "source": [
    "list1 = [num+1 for num in range(15)]\n",
    "num = (int(input()))-1\n",
    "print(list[num::num+1])"
   ]
  },
  {
   "cell_type": "markdown",
   "id": "dbbc8849",
   "metadata": {},
   "source": [
    "###### 리스트1 - 자가진단 7\n",
    "공백을 사이에 두고 리스트를 입력받아, 역순으로 된 리스트를 구성하여 출력하는 프로그램을 작성하시오.\n",
    "\n",
    "http://jungol.co.kr/bbs/board.php?bo_table=pbank&wr_id=4139&sca=py50"
   ]
  },
  {
   "cell_type": "code",
   "execution_count": null,
   "id": "eb02c932",
   "metadata": {},
   "outputs": [],
   "source": [
    "# 입력 예\n",
    "# I My Me Mine\n",
    "# 출력 예\n",
    "# ['Mine', 'Me', 'My', 'I']"
   ]
  },
  {
   "cell_type": "code",
   "execution_count": 32,
   "id": "a68eb1cd",
   "metadata": {},
   "outputs": [
    {
     "name": "stdout",
     "output_type": "stream",
     "text": [
      "qq ww ee rr\n",
      "['rr', 'ee', 'ww', 'qq']\n"
     ]
    }
   ],
   "source": [
    "list1=[]\n",
    "list1.append(input().split())\n",
    "\n",
    "list1[0].reverse()\n",
    "\n",
    "print(list1[0])"
   ]
  },
  {
   "cell_type": "code",
   "execution_count": 44,
   "id": "43187066",
   "metadata": {},
   "outputs": [
    {
     "name": "stdout",
     "output_type": "stream",
     "text": [
      "qq ww ee rr\n",
      "None\n"
     ]
    }
   ],
   "source": [
    "list2 = [i for i in input().split()].reverse()\n",
    "print(list2)"
   ]
  },
  {
   "cell_type": "markdown",
   "id": "f88724c5",
   "metadata": {},
   "source": [
    "###### 리스트 1 - 형성평가 1\n",
    "http://jungol.co.kr/bbs/board.php?bo_table=pbank&wr_id=4140&sca=py50"
   ]
  },
  {
   "cell_type": "code",
   "execution_count": 36,
   "id": "597f8127",
   "metadata": {},
   "outputs": [
    {
     "name": "stdout",
     "output_type": "stream",
     "text": [
      "[-1, -2, -3, -4, -5]\n"
     ]
    }
   ],
   "source": [
    "arr1 = [-(i+1) for i in range(5)]\n",
    "print(arr1)"
   ]
  },
  {
   "cell_type": "code",
   "execution_count": 38,
   "id": "7519e46e",
   "metadata": {},
   "outputs": [
    {
     "data": {
      "text/plain": [
       "[-1, -2, -3, -4, -5]"
      ]
     },
     "execution_count": 38,
     "metadata": {},
     "output_type": "execute_result"
    }
   ],
   "source": [
    "[-i for i in {1,2,3,4,5}]"
   ]
  },
  {
   "cell_type": "markdown",
   "id": "accc9df9",
   "metadata": {},
   "source": [
    "###### 리스트 1 - 형성평가 2\n",
    "http://jungol.co.kr/bbs/board.php?bo_table=pbank&wr_id=4141&sca=py50"
   ]
  },
  {
   "cell_type": "code",
   "execution_count": 4,
   "id": "ac172294",
   "metadata": {},
   "outputs": [
    {
     "name": "stdout",
     "output_type": "stream",
     "text": [
      "2 3\n",
      "4 5\n",
      "[2, 2, 2, 4, 4, 4, 4, 4]\n"
     ]
    }
   ],
   "source": [
    "el1,ct1 = map(int, input().split())\n",
    "el2,ct2 = map(int, input().split())\n",
    "\n",
    "x = [el1 for i in range(ct1)]\n",
    "y = [el2 for i in range(ct2)]\n",
    "\n",
    "print(x + y)"
   ]
  },
  {
   "cell_type": "markdown",
   "id": "e619c6fe",
   "metadata": {},
   "source": [
    "###### 리스트 1 - 형성평가 3\n",
    "http://jungol.co.kr/bbs/board.php?bo_table=pbank&wr_id=4142&sca=py50"
   ]
  },
  {
   "cell_type": "code",
   "execution_count": 7,
   "id": "94ba6639",
   "metadata": {},
   "outputs": [
    {
     "name": "stdout",
     "output_type": "stream",
     "text": [
      "Input? Pink Flamingo\n",
      "Input? Pink Flamingo\n",
      "Input? Pink Flamingo\n",
      "Input? Pink Flamingo\n",
      "Color: ['Pink', 'Pink', 'Pink', 'Pink']\n",
      "Animal: ['Flamingo', 'Flamingo', 'Flamingo', 'Flamingo']\n"
     ]
    }
   ],
   "source": [
    "color = []\n",
    "animal = []\n",
    "for i in range(4):\n",
    "    x,y  = input(\"Input? \").split()\n",
    "    color.append(x)\n",
    "    animal.append(y)\n",
    "    \n",
    "print(f\"Color: {color}\")\n",
    "print(f\"Animal: {animal}\")"
   ]
  },
  {
   "cell_type": "markdown",
   "id": "89322a13",
   "metadata": {},
   "source": [
    "###### 리스트 1 - 형성평가 4\n",
    "http://jungol.co.kr/bbs/board.php?bo_table=pbank&wr_id=4143&sca=py50"
   ]
  },
  {
   "cell_type": "code",
   "execution_count": 23,
   "id": "b22ec64a",
   "metadata": {},
   "outputs": [
    {
     "name": "stdout",
     "output_type": "stream",
     "text": [
      "korea\n",
      "['a', 'e', 'r', 'o', 'k']\n"
     ]
    }
   ],
   "source": [
    "str1 = input()\n",
    "a = list(str1)\n",
    "print(a[::-1])"
   ]
  },
  {
   "cell_type": "markdown",
   "id": "00dadc55",
   "metadata": {},
   "source": [
    "###### 리스트 1 - 형성평가 5\n",
    "http://jungol.co.kr/bbs/board.php?bo_table=pbank&wr_id=4144&sca=py50"
   ]
  },
  {
   "cell_type": "code",
   "execution_count": 45,
   "id": "6b097b59",
   "metadata": {},
   "outputs": [
    {
     "name": "stdout",
     "output_type": "stream",
     "text": [
      "1 2 3 4 5 6 7 8 9 10 11 12 13 14 15\n",
      "['3', '6', '9', '12', '15']\n"
     ]
    }
   ],
   "source": [
    "li = []\n",
    "for i in list(input().split()):\n",
    "    li.append(i)\n",
    "\n",
    "print(li[2::3])"
   ]
  },
  {
   "cell_type": "markdown",
   "id": "7689bdff",
   "metadata": {},
   "source": [
    "###### 리스트 1 - 형성평가 6\n",
    "http://jungol.co.kr/bbs/board.php?bo_table=pbank&wr_id=4145&sca=py50"
   ]
  },
  {
   "cell_type": "code",
   "execution_count": 61,
   "id": "700074d2",
   "metadata": {},
   "outputs": [
    {
     "name": "stdout",
     "output_type": "stream",
     "text": [
      "Tea Coke Coffee Juice Water\n",
      "['Juice', 'Coffee', 'Coke']\n"
     ]
    }
   ],
   "source": [
    "li = []\n",
    "for i in list(input().split()):\n",
    "    li.append(i)\n",
    "    \n",
    "print(li[-2:0:-1])"
   ]
  },
  {
   "cell_type": "code",
   "execution_count": null,
   "id": "46084eb9",
   "metadata": {},
   "outputs": [],
   "source": []
  },
  {
   "cell_type": "code",
   "execution_count": null,
   "id": "6b5924d8",
   "metadata": {},
   "outputs": [],
   "source": []
  },
  {
   "cell_type": "code",
   "execution_count": null,
   "id": "83798f9d",
   "metadata": {},
   "outputs": [],
   "source": []
  },
  {
   "cell_type": "code",
   "execution_count": null,
   "id": "7fa02024",
   "metadata": {},
   "outputs": [],
   "source": []
  },
  {
   "cell_type": "code",
   "execution_count": null,
   "id": "1056e223",
   "metadata": {},
   "outputs": [],
   "source": []
  }
 ],
 "metadata": {
  "kernelspec": {
   "display_name": "Python 3",
   "language": "python",
   "name": "python3"
  },
  "language_info": {
   "codemirror_mode": {
    "name": "ipython",
    "version": 3
   },
   "file_extension": ".py",
   "mimetype": "text/x-python",
   "name": "python",
   "nbconvert_exporter": "python",
   "pygments_lexer": "ipython3",
   "version": "3.8.8"
  }
 },
 "nbformat": 4,
 "nbformat_minor": 5
}
