{
 "cells": [
  {
   "cell_type": "markdown",
   "id": "f4e566d5",
   "metadata": {},
   "source": [
    "# 정올 문제 풀이 - 출력\n",
    "\n",
    "출력은 쉬우니 형성평가 3,4,5 만 풀겠다"
   ]
  },
  {
   "cell_type": "markdown",
   "id": "2584fb72",
   "metadata": {},
   "source": [
    "###### 출력 - 형성평가3\n",
    "다음 출력 예와 같이 출력되는 프로그램을 작성하시오.\n"
   ]
  },
  {
   "cell_type": "code",
   "execution_count": null,
   "id": "416cb63a",
   "metadata": {},
   "outputs": [],
   "source": [
    "# 출력 예\n",
    "# TTTTTTTTTT\n",
    "# TTTTTTTTTT\n",
    "#     TT\n",
    "#     TT\n",
    "#     TT"
   ]
  },
  {
   "cell_type": "code",
   "execution_count": 20,
   "id": "f6a710ac",
   "metadata": {},
   "outputs": [
    {
     "name": "stdout",
     "output_type": "stream",
     "text": [
      "TTTTTTTTTT\n",
      "TTTTTTTTTT\n",
      "    TT\n",
      "    TT\n",
      "    TT\n"
     ]
    }
   ],
   "source": [
    "print(\"TTTTTTTTTT\")\n",
    "print(\"TTTTTTTTTT\")\n",
    "# % 연산자\n",
    "print(\"%6s\" %('TT'))\n",
    "# format() 함수\n",
    "print(\"{:>6s}\".format(\"TT\"))\n",
    "# f-string\n",
    "print(f\"{'TT':>6s}\")"
   ]
  },
  {
   "cell_type": "markdown",
   "id": "88fae951",
   "metadata": {},
   "source": [
    "###### 출력-형성평가4\n",
    "다음 출력 예와 같이 출력되는 프로그램을 작성하시오.\n",
    "합계와 평균은 수식을 이용하세요. "
   ]
  },
  {
   "cell_type": "code",
   "execution_count": null,
   "id": "67518f53",
   "metadata": {},
   "outputs": [],
   "source": [
    "# kor 90\n",
    "# mat 80\n",
    "# eng 100\n",
    "# sum 270\n",
    "# avg 90"
   ]
  },
  {
   "cell_type": "code",
   "execution_count": 35,
   "id": "64aa149d",
   "metadata": {},
   "outputs": [
    {
     "name": "stdout",
     "output_type": "stream",
     "text": [
      "kor 90\n",
      "mat 80\n",
      "eng 100\n",
      "sum 270\n",
      "avg 90\n",
      "kor 90\n",
      "mat 80\n",
      "eng 100\n",
      "sum 270\n",
      "avg 90\n"
     ]
    }
   ],
   "source": [
    "kor ,mat, eng = 90, 80, 100\n",
    "\n",
    "print(\"kor\", kor)\n",
    "print(\"mat\", mat)\n",
    "print(\"eng\", eng)\n",
    "print(\"sum\", kor + mat + eng)\n",
    "print(\"avg\", int((kor + mat + eng)/3))\n",
    "\n",
    "sum = kor + mat + eng\n",
    "avg = int((sum)/3)\n",
    "\n",
    "\n",
    "print(f\"kor {kor}\")\n",
    "print(\"mat {:d}\".format(mat))\n",
    "print(\"eng %d\" % eng)\n",
    "print(f\"sum {sum}\")\n",
    "print(f\"avg {avg}\")"
   ]
  },
  {
   "cell_type": "markdown",
   "id": "8102a323",
   "metadata": {},
   "source": [
    "###### 출력-형성평가5\n",
    "다음 출력 예와 같이 모든 단어를 15칸씩 오른쪽에 맞추어 출력되는 프로그램을 작성하시오."
   ]
  },
  {
   "cell_type": "code",
   "execution_count": null,
   "id": "9a61fb59",
   "metadata": {},
   "outputs": [],
   "source": [
    "#           Seoul     10,312,545        +91,375\n",
    "#           Pusan      3,567,910         +5,868\n",
    "#         Incheon      2,758,296        +64,888\n",
    "#           Daegu      2,511,676        +17,230\n",
    "#         Gwangju      1,454,636        +29,774"
   ]
  },
  {
   "cell_type": "code",
   "execution_count": 15,
   "id": "6fdd42db",
   "metadata": {},
   "outputs": [
    {
     "name": "stdout",
     "output_type": "stream",
     "text": [
      "          Seoul     10,312,545        +91,375\n"
     ]
    }
   ],
   "source": [
    "city='Seoul'; num1='10,312,545'; num2='+91,375'\n",
    "print(f\"{city:>15s}{num1:>15s}{num2:>15s}\")\n",
    "print(\"%15s\" % 'Pusan' + \"%15s\" % '3,567,910' + \"%15s\" % '+5,868')\n",
    "print('{city:>15s}{num1:>15s}{num2:>15s}'.format(city='Incheon',num1='2,758,296',num2='+64,888'))\n",
    "print(\"%15s\" % 'Daegu' + \"%15s\" % '2,511,676' + \"%15s\" % '+17,230')\n",
    "print(f\"{:>15s}{:>15s})"
   ]
  }
 ],
 "metadata": {
  "kernelspec": {
   "display_name": "Python 3",
   "language": "python",
   "name": "python3"
  },
  "language_info": {
   "codemirror_mode": {
    "name": "ipython",
    "version": 3
   },
   "file_extension": ".py",
   "mimetype": "text/x-python",
   "name": "python",
   "nbconvert_exporter": "python",
   "pygments_lexer": "ipython3",
   "version": "3.8.8"
  }
 },
 "nbformat": 4,
 "nbformat_minor": 5
}
