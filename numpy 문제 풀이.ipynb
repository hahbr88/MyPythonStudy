{
 "cells": [
  {
   "cell_type": "markdown",
   "id": "67d14887",
   "metadata": {},
   "source": [
    "# numpy 데이터 예제"
   ]
  },
  {
   "cell_type": "code",
   "execution_count": 1,
   "id": "17961cb7",
   "metadata": {},
   "outputs": [],
   "source": [
    "import numpy as np    # numpy 임포트 축약 별명은 'np' "
   ]
  },
  {
   "cell_type": "markdown",
   "id": "e6ef2f42",
   "metadata": {},
   "source": [
    "#### 예제1\n",
    "각각 10개의 정수로 이루어진 리스트 x, y를 입력받아 x y와 축으로 이루어진 그래프를 출력"
   ]
  },
  {
   "cell_type": "code",
   "execution_count": 11,
   "id": "da6a6f9c",
   "metadata": {},
   "outputs": [
    {
     "name": "stdout",
     "output_type": "stream",
     "text": [
      "1 2 3 4 5 6 7 8 9 10\n",
      "2 3 6 1 8 7 1 2 3 4 \n",
      "[ 1  2  3  4  5  6  7  8  9 10] [2 3 6 1 8 7 1 2 3 4]\n"
     ]
    },
    {
     "data": {
      "text/plain": [
       "[<matplotlib.lines.Line2D at 0x205e47070a0>]"
      ]
     },
     "execution_count": 11,
     "metadata": {},
     "output_type": "execute_result"
    },
    {
     "data": {
      "image/png": "[encoded data removed]",
      "text/plain": [
       "<Figure size 432x288 with 1 Axes>"
      ]
     },
     "metadata": {
      "needs_background": "light"
     },
     "output_type": "display_data"
    }
   ],
   "source": [
    "x = list(map(int, input().split()))\n",
    "y = list(map(int, input().split()))\n",
    "\n",
    "x, y\n",
    "\n",
    "x = np.array(x)\n",
    "y = np.array(y)\n",
    "x, y, print(x,y)\n",
    "\n",
    "import matplotlib.pyplot as plt\n",
    "\n",
    "plt.plot(x,y)"
   ]
  },
  {
   "cell_type": "markdown",
   "id": "693ffcd7",
   "metadata": {},
   "source": [
    "---"
   ]
  },
  {
   "cell_type": "code",
   "execution_count": 33,
   "id": "0b1eb7e4",
   "metadata": {},
   "outputs": [
    {
     "data": {
      "text/plain": [
       "(array([[ 1,  2,  3],\n",
       "        [ 4,  5,  6],\n",
       "        [ 7,  8,  9],\n",
       "        [10, 11, 12]]),\n",
       " array([ 1,  2,  3,  4,  5,  6,  7,  8,  9, 10]))"
      ]
     },
     "execution_count": 33,
     "metadata": {},
     "output_type": "execute_result"
    }
   ],
   "source": [
    "x1 = np.array([[1,2,3], [4,5,6], [7,8,9], [10,11,12]]) \n",
    "x1, x"
   ]
  },
  {
   "cell_type": "code",
   "execution_count": 34,
   "id": "0839eb46",
   "metadata": {},
   "outputs": [
    {
     "data": {
      "text/plain": [
       "(4, 3)"
      ]
     },
     "execution_count": 34,
     "metadata": {},
     "output_type": "execute_result"
    }
   ],
   "source": [
    "x1.shape # 4행 3열"
   ]
  },
  {
   "cell_type": "code",
   "execution_count": 23,
   "id": "39559c66",
   "metadata": {},
   "outputs": [
    {
     "data": {
      "text/plain": [
       "(10,)"
      ]
     },
     "execution_count": 23,
     "metadata": {},
     "output_type": "execute_result"
    }
   ],
   "source": [
    "x .shape # 1행 10열? ㄴㄴ 그냥 1줄짜리?"
   ]
  },
  {
   "cell_type": "code",
   "execution_count": 41,
   "id": "61a03b3e",
   "metadata": {},
   "outputs": [
    {
     "data": {
      "text/plain": [
       "(2, 2)"
      ]
     },
     "execution_count": 41,
     "metadata": {},
     "output_type": "execute_result"
    }
   ],
   "source": [
    "x1.ndim, len(x1.shape)  #2차원 "
   ]
  },
  {
   "cell_type": "code",
   "execution_count": 30,
   "id": "1862b411",
   "metadata": {},
   "outputs": [
    {
     "data": {
      "text/plain": [
       "9"
      ]
     },
     "execution_count": 30,
     "metadata": {},
     "output_type": "execute_result"
    }
   ],
   "source": [
    "x1.size # 데이터의 개수"
   ]
  },
  {
   "cell_type": "code",
   "execution_count": 42,
   "id": "2373f6b5",
   "metadata": {},
   "outputs": [
    {
     "data": {
      "text/plain": [
       "4"
      ]
     },
     "execution_count": 42,
     "metadata": {},
     "output_type": "execute_result"
    }
   ],
   "source": [
    "len(x1) # 는 다름"
   ]
  },
  {
   "cell_type": "code",
   "execution_count": 43,
   "id": "c3043073",
   "metadata": {},
   "outputs": [
    {
     "data": {
      "text/plain": [
       "dtype('int32')"
      ]
     },
     "execution_count": 43,
     "metadata": {},
     "output_type": "execute_result"
    }
   ],
   "source": [
    "x1.dtype # 데이터 타입"
   ]
  },
  {
   "cell_type": "code",
   "execution_count": null,
   "id": "18362356",
   "metadata": {},
   "outputs": [],
   "source": []
  },
  {
   "cell_type": "code",
   "execution_count": 49,
   "id": "e01bfd01",
   "metadata": {},
   "outputs": [
    {
     "data": {
      "text/plain": [
       "array([[ 0,  1,  2,  3],\n",
       "       [ 4,  5,  6,  7],\n",
       "       [ 8,  9, 10, 11],\n",
       "       [12, 13, 14, 15],\n",
       "       [16, 17, 18, 19],\n",
       "       [20, 21, 22, 23],\n",
       "       [24, 25, 26, 27],\n",
       "       [28, 29, 30, 31]])"
      ]
     },
     "execution_count": 49,
     "metadata": {},
     "output_type": "execute_result"
    }
   ],
   "source": [
    "np.arange(32).reshape(8,4)"
   ]
  },
  {
   "cell_type": "markdown",
   "id": "c89f87d1",
   "metadata": {},
   "source": [
    "#### 예제2\n",
    "5 ~ 100 사이의 5의 배수로 구성된 1차원 ndarray 생성"
   ]
  },
  {
   "cell_type": "code",
   "execution_count": 51,
   "id": "2a26fa61",
   "metadata": {},
   "outputs": [
    {
     "data": {
      "text/plain": [
       "array([  5,  10,  15,  20,  25,  30,  35,  40,  45,  50,  55,  60,  65,\n",
       "        70,  75,  80,  85,  90,  95, 100])"
      ]
     },
     "execution_count": 51,
     "metadata": {},
     "output_type": "execute_result"
    }
   ],
   "source": [
    "np.arange(5,101,5)"
   ]
  },
  {
   "cell_type": "code",
   "execution_count": 53,
   "id": "5b7c5959",
   "metadata": {},
   "outputs": [
    {
     "data": {
      "text/plain": [
       "array([  5.,  10.,  15.,  20.,  25.,  30.,  35.,  40.,  45.,  50.,  55.,\n",
       "        60.,  65.,  70.,  75.,  80.,  85.,  90.,  95., 100.])"
      ]
     },
     "execution_count": 53,
     "metadata": {},
     "output_type": "execute_result"
    }
   ],
   "source": [
    "np.arange(5,101,5, dtype=\"float\") # 데이터 타입 명시 가능"
   ]
  },
  {
   "cell_type": "code",
   "execution_count": 56,
   "id": "9e7fb0a4",
   "metadata": {},
   "outputs": [
    {
     "data": {
      "text/plain": [
       "array([  5,  10,  15,  20,  25,  30,  35,  40,  45,  50,  55,  60,  65,\n",
       "        70,  75,  80,  85,  90,  95, 100])"
      ]
     },
     "execution_count": 56,
     "metadata": {},
     "output_type": "execute_result"
    }
   ],
   "source": [
    "a = np.arange(5,101,5, dtype=np.int32)\n",
    "a"
   ]
  },
  {
   "cell_type": "code",
   "execution_count": 57,
   "id": "d28260b3",
   "metadata": {},
   "outputs": [
    {
     "data": {
      "text/plain": [
       "array([  5.,  10.,  15.,  20.,  25.,  30.,  35.,  40.,  45.,  50.,  55.,\n",
       "        60.,  65.,  70.,  75.,  80.,  85.,  90.,  95., 100.])"
      ]
     },
     "execution_count": 57,
     "metadata": {},
     "output_type": "execute_result"
    }
   ],
   "source": [
    "a.astype(np.float64) # 이렇게 데이터 타입 바꾸기 가능"
   ]
  },
  {
   "cell_type": "code",
   "execution_count": 64,
   "id": "2cb5fe87",
   "metadata": {},
   "outputs": [
    {
     "data": {
      "text/plain": [
       "(array([1., 1., 1., 1., 1.]),\n",
       " array([[1., 1., 1.],\n",
       "        [1., 1., 1.]]),\n",
       " array([[1., 1., 1.],\n",
       "        [1., 1., 1.]]))"
      ]
     },
     "execution_count": 64,
     "metadata": {},
     "output_type": "execute_result"
    }
   ],
   "source": [
    "np.ones(5), np.ones((2,3)), np.ones(6).reshape(2,3)"
   ]
  },
  {
   "cell_type": "code",
   "execution_count": 66,
   "id": "11476086",
   "metadata": {},
   "outputs": [
    {
     "data": {
      "text/plain": [
       "(array([0., 0., 0., 0., 0.]),\n",
       " array([[0., 0., 0.],\n",
       "        [0., 0., 0.]]),\n",
       " array([[0., 0., 0.],\n",
       "        [0., 0., 0.]]))"
      ]
     },
     "execution_count": 66,
     "metadata": {},
     "output_type": "execute_result"
    }
   ],
   "source": [
    "np.zeros(5), np.zeros((2,3)), np.zeros(6).reshape(2,3)"
   ]
  },
  {
   "cell_type": "code",
   "execution_count": 72,
   "id": "91c7fb13",
   "metadata": {},
   "outputs": [
    {
     "data": {
      "text/plain": [
       "(array([[1.09891806e-311, 2.47032823e-322, 0.00000000e+000,\n",
       "         0.00000000e+000],\n",
       "        [0.00000000e+000, 1.58817677e-052, 6.19655078e-091,\n",
       "         1.71696243e+185],\n",
       "        [1.55051122e+184, 1.54673465e-075, 3.99910963e+252,\n",
       "         1.54634991e+185]]),\n",
       " array([[1.09891806e-311, 3.16202013e-322, 0.00000000e+000,\n",
       "         0.00000000e+000],\n",
       "        [0.00000000e+000, 3.34805524e-061, 4.04096773e-037,\n",
       "         9.27280269e-072],\n",
       "        [5.16299757e-066, 4.08085268e-033, 1.54647318e-075,\n",
       "         2.35825267e+184]]))"
      ]
     },
     "execution_count": 72,
     "metadata": {},
     "output_type": "execute_result"
    }
   ],
   "source": [
    "np.empty((3,4)), np.empty(12).reshape(3,4)"
   ]
  },
  {
   "cell_type": "code",
   "execution_count": 74,
   "id": "85dc5bc6",
   "metadata": {},
   "outputs": [
    {
     "data": {
      "text/plain": [
       "(array([[88, 88, 88, 88],\n",
       "        [88, 88, 88, 88],\n",
       "        [88, 88, 88, 88]]),\n",
       " array([[88, 88, 88, 88],\n",
       "        [88, 88, 88, 88],\n",
       "        [88, 88, 88, 88]]))"
      ]
     },
     "execution_count": 74,
     "metadata": {},
     "output_type": "execute_result"
    }
   ],
   "source": [
    "np.full((3,4),88), np.full(12,88).reshape(3,4)"
   ]
  },
  {
   "cell_type": "markdown",
   "id": "978cc6f7",
   "metadata": {},
   "source": [
    "#### np.eye() 로 생성하기\n",
    "- 단위 행렬  (Identity Matrix)\n",
    "- 2차원, 행과 열의 크기가 같다\n",
    "- 대각선 값은 1, 나머지는 0\n",
    "- 선형대수 등 행렬곱에서 중요함"
   ]
  },
  {
   "cell_type": "code",
   "execution_count": 76,
   "id": "4ec798f7",
   "metadata": {},
   "outputs": [
    {
     "data": {
      "text/plain": [
       "array([[1., 0., 0., 0., 0., 0.],\n",
       "       [0., 1., 0., 0., 0., 0.],\n",
       "       [0., 0., 1., 0., 0., 0.],\n",
       "       [0., 0., 0., 1., 0., 0.],\n",
       "       [0., 0., 0., 0., 1., 0.],\n",
       "       [0., 0., 0., 0., 0., 1.]])"
      ]
     },
     "execution_count": 76,
     "metadata": {},
     "output_type": "execute_result"
    }
   ],
   "source": [
    "np.eye(6)"
   ]
  },
  {
   "cell_type": "code",
   "execution_count": null,
   "id": "0724bcb8",
   "metadata": {},
   "outputs": [],
   "source": []
  },
  {
   "cell_type": "code",
   "execution_count": 80,
   "id": "7a4b45a9",
   "metadata": {},
   "outputs": [
    {
     "data": {
      "text/plain": [
       "array([ 1.        ,  1.10344828,  1.20689655,  1.31034483,  1.4137931 ,\n",
       "        1.51724138,  1.62068966,  1.72413793,  1.82758621,  1.93103448,\n",
       "        2.03448276,  2.13793103,  2.24137931,  2.34482759,  2.44827586,\n",
       "        2.55172414,  2.65517241,  2.75862069,  2.86206897,  2.96551724,\n",
       "        3.06896552,  3.17241379,  3.27586207,  3.37931034,  3.48275862,\n",
       "        3.5862069 ,  3.68965517,  3.79310345,  3.89655172,  4.        ,\n",
       "        4.10344828,  4.20689655,  4.31034483,  4.4137931 ,  4.51724138,\n",
       "        4.62068966,  4.72413793,  4.82758621,  4.93103448,  5.03448276,\n",
       "        5.13793103,  5.24137931,  5.34482759,  5.44827586,  5.55172414,\n",
       "        5.65517241,  5.75862069,  5.86206897,  5.96551724,  6.06896552,\n",
       "        6.17241379,  6.27586207,  6.37931034,  6.48275862,  6.5862069 ,\n",
       "        6.68965517,  6.79310345,  6.89655172,  7.        ,  7.10344828,\n",
       "        7.20689655,  7.31034483,  7.4137931 ,  7.51724138,  7.62068966,\n",
       "        7.72413793,  7.82758621,  7.93103448,  8.03448276,  8.13793103,\n",
       "        8.24137931,  8.34482759,  8.44827586,  8.55172414,  8.65517241,\n",
       "        8.75862069,  8.86206897,  8.96551724,  9.06896552,  9.17241379,\n",
       "        9.27586207,  9.37931034,  9.48275862,  9.5862069 ,  9.68965517,\n",
       "        9.79310345,  9.89655172, 10.        ])"
      ]
     },
     "execution_count": 80,
     "metadata": {},
     "output_type": "execute_result"
    }
   ],
   "source": [
    "np.linspace(1, 10, 88) # (start, stop, num)"
   ]
  },
  {
   "cell_type": "markdown",
   "id": "72c03cfd",
   "metadata": {},
   "source": []
  },
  {
   "cell_type": "code",
   "execution_count": null,
   "id": "5d0b6644",
   "metadata": {},
   "outputs": [],
   "source": []
  }
 ],
 "metadata": {
  "kernelspec": {
   "display_name": "Python 3",
   "language": "python",
   "name": "python3"
  },
  "language_info": {
   "codemirror_mode": {
    "name": "ipython",
    "version": 3
   },
   "file_extension": ".py",
   "mimetype": "text/x-python",
   "name": "python",
   "nbconvert_exporter": "python",
   "pygments_lexer": "ipython3",
   "version": "3.8.8"
  }
 },
 "nbformat": 4,
 "nbformat_minor": 5
}
