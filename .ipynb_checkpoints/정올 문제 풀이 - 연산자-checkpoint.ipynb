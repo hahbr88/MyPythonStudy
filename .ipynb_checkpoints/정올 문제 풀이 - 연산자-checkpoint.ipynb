{
 "cells": [
  {
   "cell_type": "markdown",
   "id": "b76f082a",
   "metadata": {},
   "source": [
    "# 정올문제풀이 - 연산자"
   ]
  },
  {
   "cell_type": "markdown",
   "id": "5c60a6a0",
   "metadata": {},
   "source": [
    "###### 연산자- 자가진단1\n",
    "세 개의 정수를 입력 받아서 합계와 평균을 출력하시오. (단 평균은 소수 이하를 버리고 정수부분만 출력한다.)"
   ]
  },
  {
   "cell_type": "code",
   "execution_count": null,
   "id": "836fa7fe",
   "metadata": {},
   "outputs": [],
   "source": [
    "# 입력 예\n",
    "# 10 25 33\n",
    "# 출력 예\n",
    "# sum : 68\n",
    "# avg : 22"
   ]
  },
  {
   "cell_type": "code",
   "execution_count": 13,
   "id": "ccaabe1a",
   "metadata": {},
   "outputs": [
    {
     "name": "stdout",
     "output_type": "stream",
     "text": [
      "10 25 33\n",
      "sum : 68\n",
      "avg : 22\n"
     ]
    }
   ],
   "source": [
    "n1,n2,n3 = map(int, input().split())\n",
    "\n",
    "print(f\"sum : {n1+n2+n3}\")\n",
    "print(f\"avg : {int((n1+n2+n3)/3)}\")"
   ]
  },
  {
   "cell_type": "markdown",
   "id": "38db70e8",
   "metadata": {},
   "source": [
    "###### 연산자 - 자가진단2\n",
    "정수 2개를 입력받아서 첫 번째 수에는 100을 증가시켜 저장하고 두 번째 수는 10으로 나눈 나머지를 저장한 후 두 수를 차례로 출력하는 프로그램을 작성하시오."
   ]
  },
  {
   "cell_type": "code",
   "execution_count": null,
   "id": "e971240d",
   "metadata": {},
   "outputs": [],
   "source": [
    "# 입력 예\n",
    "# 20 35\n",
    "# 출력 예\n",
    "# 120 5"
   ]
  },
  {
   "cell_type": "code",
   "execution_count": 20,
   "id": "594739c6",
   "metadata": {},
   "outputs": [
    {
     "name": "stdout",
     "output_type": "stream",
     "text": [
      "3213 3242\n",
      "3313 2\n"
     ]
    }
   ],
   "source": [
    "n1,n2 = map(int, input().split())\n",
    "n1 += 100\n",
    "n2 %= 10\n",
    "print(n1, n2)"
   ]
  },
  {
   "cell_type": "markdown",
   "id": "553f84a6",
   "metadata": {},
   "source": [
    "###### 연산자-자가진단3\n",
    "한 개의 정수를 입력 받아서 후치증가 연산자를 사용하여 출력한 후 전치 증가 연산자를 사용하여 출력하는프로그램을 작성하시오."
   ]
  },
  {
   "cell_type": "code",
   "execution_count": null,
   "id": "e4206f82",
   "metadata": {},
   "outputs": [],
   "source": [
    "# 입력 예\n",
    "# 5\n",
    "# 출력 예\n",
    "# 5\n",
    "# 7"
   ]
  },
  {
   "cell_type": "code",
   "execution_count": 30,
   "id": "5ffe4d59",
   "metadata": {},
   "outputs": [
    {
     "name": "stdout",
     "output_type": "stream",
     "text": [
      "5\n",
      "5\n",
      "7\n"
     ]
    }
   ],
   "source": [
    "n = int(input())\n",
    "print(n)\n",
    "n += 2\n",
    "print(n)\n",
    "\n",
    "\n",
    "# 파이썬에는 ++ -- 같은 증감연산자가 없으므로 그냥 임의로 작성함 (코드 통과 됬음)"
   ]
  },
  {
   "cell_type": "markdown",
   "id": "9b86e838",
   "metadata": {},
   "source": [
    "###### 연산자-자가진단4\n",
    "두 개의 정수를 입력받아서  첫 번째수는 후치 증가 연산자를 사용하고 두 번째 수는 전치 감소 연산자를 사용하여 두 수의 곱을 구한 후 각각의 값을 출력하는 프로그램을 작성하시오."
   ]
  },
  {
   "cell_type": "code",
   "execution_count": null,
   "id": "470d65cf",
   "metadata": {},
   "outputs": [],
   "source": [
    "# 입력 예\n",
    "# 10 20\n",
    "# 출력 예\n",
    "# 11 19 190"
   ]
  },
  {
   "cell_type": "code",
   "execution_count": 35,
   "id": "29ebeaea",
   "metadata": {},
   "outputs": [
    {
     "name": "stdout",
     "output_type": "stream",
     "text": [
      "10 20\n",
      "11 19 190\n"
     ]
    }
   ],
   "source": [
    "n1,n2 = map(int, input().split())\n",
    "n1 += 1; n2 -= 1\n",
    "print(n1, n2, (n1-1)*n2)\n"
   ]
  },
  {
   "cell_type": "markdown",
   "id": "6dc24cee",
   "metadata": {},
   "source": [
    "###### 연산자-자가진단5\n",
    "두 개의 정수를 입력받아서, \n",
    "첫 번째 줄에는 두 정수의 값이 같으면 1 아니면 0을 출력하고, \n",
    "두 번째 줄에는 같지 않으면 1 같으면 0을 출력하는 프로그램을 작성하시오.\n",
    "(JAVA는 1이면 true, 0이면 false를 출력한다.)"
   ]
  },
  {
   "cell_type": "code",
   "execution_count": null,
   "id": "2cf7bec3",
   "metadata": {},
   "outputs": [],
   "source": [
    "# 입력 예\n",
    "# 5 5\n",
    "# 출력 예\n",
    "# 1\n",
    "# 0"
   ]
  },
  {
   "cell_type": "code",
   "execution_count": 39,
   "id": "1665b58d",
   "metadata": {},
   "outputs": [
    {
     "name": "stdout",
     "output_type": "stream",
     "text": [
      "5 5\n",
      "1\n",
      "0\n"
     ]
    }
   ],
   "source": [
    "n1,n2 = map(int, input().split())\n",
    "print(int(n1 == n2))\n",
    "print(int(n1 != n2))"
   ]
  },
  {
   "cell_type": "code",
   "execution_count": null,
   "id": "fae817b3",
   "metadata": {},
   "outputs": [],
   "source": []
  }
 ],
 "metadata": {
  "kernelspec": {
   "display_name": "Python 3",
   "language": "python",
   "name": "python3"
  },
  "language_info": {
   "codemirror_mode": {
    "name": "ipython",
    "version": 3
   },
   "file_extension": ".py",
   "mimetype": "text/x-python",
   "name": "python",
   "nbconvert_exporter": "python",
   "pygments_lexer": "ipython3",
   "version": "3.8.8"
  }
 },
 "nbformat": 4,
 "nbformat_minor": 5
}
