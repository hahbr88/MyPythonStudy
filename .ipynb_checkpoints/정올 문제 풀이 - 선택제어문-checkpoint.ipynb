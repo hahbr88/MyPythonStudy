{
 "cells": [
  {
   "cell_type": "markdown",
   "id": "00c763f1",
   "metadata": {},
   "source": [
    "###### 자가진단 1\n",
    "http://jungol.co.kr/bbs/board.php?bo_table=pbank&wr_id=4146&sca=py60"
   ]
  },
  {
   "cell_type": "code",
   "execution_count": 5,
   "id": "affd1da3",
   "metadata": {},
   "outputs": [
    {
     "name": "stdout",
     "output_type": "stream",
     "text": [
      "-3\n",
      "-3\n",
      "minus\n",
      "-3\n",
      "minus\n"
     ]
    }
   ],
   "source": [
    "num = int(input())\n",
    "\n",
    "# 조건문 \n",
    "if num < 0:\n",
    "    print(num)\n",
    "    print(\"minus\")\n",
    "else:\n",
    "    print(num)\n",
    "\n",
    "# 삼항연산자  (참일때의 값 if (조건식) else (거짓말일때의 값))\n",
    "print(f\"{num}\\nminus\") if num < 0 else print(num)"
   ]
  },
  {
   "cell_type": "markdown",
   "id": "9e8150c6",
   "metadata": {},
   "source": [
    "###### 선택제어문 - 자가진단 2\n",
    "http://jungol.co.kr/bbs/board.php?bo_table=pbank&wr_id=4147&sca=py60"
   ]
  },
  {
   "cell_type": "code",
   "execution_count": 7,
   "id": "2ab0c096",
   "metadata": {},
   "outputs": [
    {
     "name": "stdout",
     "output_type": "stream",
     "text": [
      "155\n",
      "60\n",
      "5\n",
      "Obesity\n"
     ]
    }
   ],
   "source": [
    "height = int(input())\n",
    "weight = int(input())\n",
    "\n",
    "biman = weight + 100 - height\n",
    "\n",
    "if biman > 0:\n",
    "    print(f\"{biman}\\nObesity\")\n",
    "else:\n",
    "    print(biman)"
   ]
  },
  {
   "cell_type": "code",
   "execution_count": null,
   "id": "c535ad25",
   "metadata": {},
   "outputs": [],
   "source": []
  },
  {
   "cell_type": "code",
   "execution_count": null,
   "id": "3e3b267d",
   "metadata": {},
   "outputs": [],
   "source": []
  },
  {
   "cell_type": "code",
   "execution_count": null,
   "id": "80fc4129",
   "metadata": {},
   "outputs": [],
   "source": []
  },
  {
   "cell_type": "code",
   "execution_count": null,
   "id": "ed8536be",
   "metadata": {},
   "outputs": [],
   "source": []
  },
  {
   "cell_type": "code",
   "execution_count": null,
   "id": "a19c2c6e",
   "metadata": {},
   "outputs": [],
   "source": []
  }
 ],
 "metadata": {
  "kernelspec": {
   "display_name": "Python 3",
   "language": "python",
   "name": "python3"
  },
  "language_info": {
   "codemirror_mode": {
    "name": "ipython",
    "version": 3
   },
   "file_extension": ".py",
   "mimetype": "text/x-python",
   "name": "python",
   "nbconvert_exporter": "python",
   "pygments_lexer": "ipython3",
   "version": "3.8.8"
  }
 },
 "nbformat": 4,
 "nbformat_minor": 5
}
