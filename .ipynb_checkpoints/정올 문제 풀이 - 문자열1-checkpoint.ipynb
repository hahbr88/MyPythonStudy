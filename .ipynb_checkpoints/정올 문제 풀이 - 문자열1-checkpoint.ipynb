{
 "cells": [
  {
   "cell_type": "markdown",
   "id": "9a68e7c5",
   "metadata": {},
   "source": [
    "# LCoder_Python 문자열 1\n"
   ]
  },
  {
   "cell_type": "markdown",
   "id": "2aee590e",
   "metadata": {},
   "source": [
    "###### 문자열 1 - 자가진단 1\n",
    "한 줄에 두 개의 문자열을 공백을 사이에 두고 입력 받아, 뒤의 문자열을 출력하고, \n",
    "\n",
    "공백을 출력한 후 앞의 문자열과 뒤의 문자열을 연결해서 출력하는 프로그램을 작성하시오."
   ]
  },
  {
   "cell_type": "code",
   "execution_count": null,
   "id": "86075340",
   "metadata": {},
   "outputs": [],
   "source": [
    "# 입력 예\n",
    "# Lion Tiger\n",
    "# 출력 예\n",
    "# Tiger LionTiger"
   ]
  },
  {
   "cell_type": "code",
   "execution_count": 3,
   "id": "bc089bba",
   "metadata": {},
   "outputs": [
    {
     "name": "stdout",
     "output_type": "stream",
     "text": [
      "Lion Tiger\n",
      "Tiger LionTiger\n"
     ]
    }
   ],
   "source": [
    "str1, str2 = input().split()\n",
    "print(str2, str1+str2)"
   ]
  },
  {
   "cell_type": "markdown",
   "id": "4ee002dd",
   "metadata": {},
   "source": [
    "###### 문자열 1 - 자가진단 2\n",
    "두 학생의 이름과 나이를 입력 예와 같이 입력 받은 후에, 출력 예와 같은 형식으로 두 학생의 나이의 합을 출력하는 프로그램을 작성하시오.\n",
    "\n",
    "이름에는 공백이 포함되지 않는다고 가정한다."
   ]
  },
  {
   "cell_type": "code",
   "execution_count": null,
   "id": "90ba8557",
   "metadata": {},
   "outputs": [],
   "source": [
    "# 입력 예\n",
    "# Chulsoo 15\n",
    "# Minho 18\n",
    "# 출력 예\n",
    "# Chulsoo age + Minho age = 33"
   ]
  },
  {
   "cell_type": "code",
   "execution_count": 4,
   "id": "c5575c66",
   "metadata": {},
   "outputs": [
    {
     "name": "stdout",
     "output_type": "stream",
     "text": [
      "Chulsoo 15\n",
      "Minho 18\n",
      "Chulsoo age + Minho age = 33\n"
     ]
    }
   ],
   "source": [
    "name1, age1 = input().split()\n",
    "name2, age2 = input().split()\n",
    "age1 = int(age1); age2 = int(age2);\n",
    "print(f\"{name1} age + {name2} age = {age1+age2}\")"
   ]
  },
  {
   "cell_type": "markdown",
   "id": "ea3c604a",
   "metadata": {},
   "source": [
    "###### 문자열1 - 자가진단 3\n",
    "문자열 두 개를 입력받아, 각 문자열 뒤에 보이지 않는 공백을 제거한 후, 두 문자열을 붙여서 출력하는 프로그램을 작성하라."
   ]
  },
  {
   "cell_type": "code",
   "execution_count": 5,
   "id": "001cbaef",
   "metadata": {},
   "outputs": [],
   "source": [
    "# 입력 예\n",
    "# I love you._____\n",
    "# You love me._____\n",
    "# (밑줄 친 부분은 공백을 나타낸다)\n",
    "\n",
    "# 출력 예\n",
    "# I love you. You love me."
   ]
  },
  {
   "cell_type": "code",
   "execution_count": 3,
   "id": "ca36b22a",
   "metadata": {},
   "outputs": [
    {
     "name": "stdout",
     "output_type": "stream",
     "text": [
      "You love me.\n",
      "You love me.     \n",
      "You love me. You love me.\n"
     ]
    }
   ],
   "source": [
    "A = input().split()\n",
    "B = input().split()\n",
    "str = A+B\n",
    "\n",
    "result = \" \".join(str)\n",
    "print(result)"
   ]
  },
  {
   "cell_type": "markdown",
   "id": "79797714",
   "metadata": {},
   "source": [
    "###### 문자열1 - 자가진단 4\n",
    "동물과 동물의 울음소리를 3번 입력 받아, 출력 예시와 같이 '(동물이름) sounds (울음소리).' 형식으로 서식 문자를 이용하여 출력하는 프로그램을 작성하라."
   ]
  },
  {
   "cell_type": "code",
   "execution_count": null,
   "id": "3dee7e82",
   "metadata": {},
   "outputs": [],
   "source": [
    "# 입력 예\n",
    "# Cat meow\n",
    "# Dog bow-wow\n",
    "# Cow moo\n",
    "# 출력 예\n",
    "# Cat sounds meow.\n",
    "# Dog sounds bow-wow.\n",
    "# Cow sounds moo."
   ]
  },
  {
   "cell_type": "code",
   "execution_count": 6,
   "id": "bd2fce2b",
   "metadata": {},
   "outputs": [
    {
     "name": "stdout",
     "output_type": "stream",
     "text": [
      "Cat meow\n",
      "Cat meow\n",
      "Cat meow\n",
      "Cat sounds meow\n",
      "Cat sounds meow\n",
      "Cat sounds meow\n"
     ]
    }
   ],
   "source": [
    "animal1, gose1 = input().split()\n",
    "animal2, gose2 = input().split()\n",
    "animal3, gose3 = input().split()\n",
    "\n",
    "print(f\"{animal1} sounds {gose1}.\")\n",
    "print(f\"{animal2} sounds {gose2}.\")\n",
    "print(f\"{animal3} sounds {gose3}.\")"
   ]
  },
  {
   "cell_type": "markdown",
   "id": "9b0b1e2a",
   "metadata": {},
   "source": [
    "###### 문자열1-자가진단5\n",
    "이름, 번호, 중간고사 평균을 입력받아 다음 서식에 맞게 출력하는 프로그램을 작성하시오.\n",
    "\n",
    "<서식>\n",
    "'I am □(IdNo. □). I got □ in my midterm exam.‘​ "
   ]
  },
  {
   "cell_type": "code",
   "execution_count": null,
   "id": "7d8c2bde",
   "metadata": {},
   "outputs": [],
   "source": [
    "# 입력 예\n",
    "# Jaewook\n",
    "# 24\n",
    "# 95.7382\n",
    "# 출력 예\n",
    "# I am Jaewook(IdNo. 24). I got 95.738200 in my midterm exam."
   ]
  },
  {
   "cell_type": "code",
   "execution_count": 12,
   "id": "3518e129",
   "metadata": {},
   "outputs": [
    {
     "name": "stdout",
     "output_type": "stream",
     "text": [
      "djdj\n",
      "23\n",
      "45.46\n",
      "I am djdj(IdNo. 23). I got 45.460000 in my midterm exam.\n",
      "I am djdj(IdNo. 23). I got 45.460000 in my midterm exam.\n"
     ]
    }
   ],
   "source": [
    "name = input()\n",
    "num = int(input())\n",
    "score = float(input())\n",
    "\n",
    "# f-string\n",
    "print(f\"I am {name}(IdNo. {num}). I got {score:.6f} in my midterm exam.\")\n",
    "\n",
    "# format() 함수\n",
    "print(\"I am {}(IdNo. {}). I got {:.6f} in my midterm exam.\".format(name, num, score))"
   ]
  },
  {
   "cell_type": "markdown",
   "id": "bfae118c",
   "metadata": {},
   "source": [
    "###### 문자열1-자가진단6\n",
    "다음과 같이 출력되는 프로그램을 작성하라.\n",
    "\n",
    "(각 요소들은 10칸씩 공간을 확보하여 오른쪽으로 정렬하여 출력한다.)​ "
   ]
  },
  {
   "cell_type": "code",
   "execution_count": 15,
   "id": "d9a4a5ad",
   "metadata": {},
   "outputs": [],
   "source": [
    "# 출력 예\n",
    "#       item     count     price      rate\n",
    "#        pen        20       100      50.5\n",
    "#       note         5        95      35.3\n",
    "#     eraser       110        97      14.2"
   ]
  },
  {
   "cell_type": "code",
   "execution_count": 20,
   "id": "0ecd7323",
   "metadata": {},
   "outputs": [
    {
     "name": "stdout",
     "output_type": "stream",
     "text": [
      "      item     count     price      rate\n",
      "       pen        20       100      50.5\n",
      "      note         5        95      35.3\n",
      "    eraser       110        97      14.2\n"
     ]
    }
   ],
   "source": [
    "print(\"{:>10s}{:>10s}{:>10s}{:>10s}\".format('item', 'count', 'price', 'rate'))\n",
    "print(\"{:>10s}{:>10d}{:>10d}{:>10.1f}\".format('pen', 20, 100, 50.5))\n",
    "print(\"{:>10s}{:>10d}{:>10d}{:>10.1f}\".format('note', 5, 95, 35.3))\n",
    "print(\"{:>10s}{:>10d}{:>10d}{:>10.1f}\".format('eraser', 110, 97, 14.2))\n"
   ]
  },
  {
   "cell_type": "markdown",
   "id": "c57b4d65",
   "metadata": {},
   "source": [
    "###### 문자열1-형성평가1\n",
    "네 단어로 된 문장을 한 줄에 입력받아, 순서를 거꾸로 출력하는 프로그램을 작성하라."
   ]
  },
  {
   "cell_type": "code",
   "execution_count": null,
   "id": "90e2a8b8",
   "metadata": {},
   "outputs": [],
   "source": [
    "# 입력 예\n",
    "# beauty and the beast\n",
    "# 출력 예\n",
    "# beast the and beauty"
   ]
  },
  {
   "cell_type": "code",
   "execution_count": 27,
   "id": "16fe9004",
   "metadata": {},
   "outputs": [
    {
     "name": "stdout",
     "output_type": "stream",
     "text": [
      "beauty and the beast\n",
      "beast the and beauty\n"
     ]
    },
    {
     "data": {
      "text/plain": [
       "['beast', 'the', 'and', 'beauty']"
      ]
     },
     "execution_count": 27,
     "metadata": {},
     "output_type": "execute_result"
    }
   ],
   "source": [
    "A = input().split()\n",
    "print(f\"{A[3]} {A[2]} {A[1]} {A[0]}\")\n",
    "A[::-1]"
   ]
  },
  {
   "cell_type": "markdown",
   "id": "2f5caa90",
   "metadata": {},
   "source": [
    "###### 문자열1-형성평가2\n",
    "사다리꼴의 밑변, 윗변, 높이의 길이를 순서대로 한 줄에 입력받아, 사다리꼴의 넓이를 출력하는 프로그램을 작성하라. \n",
    "\n",
    "(사다리꼴의 넓이 = ( (밑변) + (윗변) ) × (높이) ) / 2 )"
   ]
  },
  {
   "cell_type": "code",
   "execution_count": 29,
   "id": "78a71b28",
   "metadata": {},
   "outputs": [],
   "source": [
    "# 입력 예\n",
    "# 2 3 5\n",
    "# 출력 예\n",
    "# 12.5"
   ]
  },
  {
   "cell_type": "code",
   "execution_count": 32,
   "id": "3b97e50b",
   "metadata": {},
   "outputs": [
    {
     "name": "stdout",
     "output_type": "stream",
     "text": [
      "2 3 4 \n",
      "10.0\n"
     ]
    }
   ],
   "source": [
    "top, bottom, height = map(int, input().split())\n",
    "print(((top + bottom)*height)/2)  # 정수끼리라도 나누는 순간 float로 자료형 변화"
   ]
  },
  {
   "cell_type": "markdown",
   "id": "6fc47f52",
   "metadata": {},
   "source": [
    "###### 문자열1-형성평가3\n",
    "네 문자열을 입력 받아 다음 형식으로 출력하는 프로그램을 작성하라..\n",
    "\n",
    "서식 문자를 이용한다.\n",
    "\n",
    "​예) out = \"%s:​ %s\" "
   ]
  },
  {
   "cell_type": "code",
   "execution_count": null,
   "id": "5e1519f3",
   "metadata": {},
   "outputs": [],
   "source": [
    "# 입력 예\n",
    "# Queen\n",
    "# Bohemian Rhapsody\n",
    "# Beatles\n",
    "# Let it be\n",
    "\n",
    "# 출력 예\n",
    "# Queen: Bohemian Rhapsody\n",
    "# Beatles: Let it be"
   ]
  },
  {
   "cell_type": "code",
   "execution_count": 34,
   "id": "7f14ed85",
   "metadata": {},
   "outputs": [
    {
     "name": "stdout",
     "output_type": "stream",
     "text": [
      "Queen\n",
      "Queen\n",
      "Queen\n",
      "Queen\n",
      "Queen: Queen\n",
      "Queen: Queen\n"
     ]
    }
   ],
   "source": [
    "a1 = input()\n",
    "a2 = input()\n",
    "b1 = input()\n",
    "b2 = input()\n",
    "\n",
    "print(f\"{a1}: {a2}\")\n",
    "print(f\"{b1}: {b2}\")"
   ]
  },
  {
   "cell_type": "markdown",
   "id": "c1e92907",
   "metadata": {},
   "source": [
    "###### 문자열1-형성평가4\n",
    "다음과 같이 lb(파운드)단위로 입력된 몸무게를 kg(킬로그램)단위로 바꾸는 프로그램을 작성하라.\n",
    "\n",
    "모든 실수(소수)는 소수점 한 자리에서 반올림하여 출력한다. ​ \n",
    "\n",
    "​(1lb = 0.45kg이다. 또한 lb?는 입력 전 물어보는 문장이다.​) ​\n"
   ]
  },
  {
   "cell_type": "code",
   "execution_count": 35,
   "id": "08de9d17",
   "metadata": {},
   "outputs": [],
   "source": [
    "# 입력 예\n",
    "# lb? 65.73\n",
    "# 출력 예\n",
    "# 65.7lb is 29.6kg."
   ]
  },
  {
   "cell_type": "code",
   "execution_count": 40,
   "id": "170590a4",
   "metadata": {},
   "outputs": [
    {
     "name": "stdout",
     "output_type": "stream",
     "text": [
      "lb? 65.73\n",
      "65.7lb is 29.6kg\n",
      "65.7lb is 29.6kg\n"
     ]
    }
   ],
   "source": [
    "W = float(input(\"lb? \"))\n",
    "print(\"{:.1f}lb is {:.1f}kg.\".format(W, W*0.45))\n",
    "print(f\"{W:.1f}lb is {W*0.45:.1f}kg.\")"
   ]
  },
  {
   "cell_type": "code",
   "execution_count": null,
   "id": "65a19a1c",
   "metadata": {},
   "outputs": [],
   "source": []
  },
  {
   "cell_type": "code",
   "execution_count": null,
   "id": "b6b3a685",
   "metadata": {},
   "outputs": [],
   "source": []
  },
  {
   "cell_type": "code",
   "execution_count": null,
   "id": "ff7e0dd6",
   "metadata": {},
   "outputs": [],
   "source": []
  },
  {
   "cell_type": "code",
   "execution_count": null,
   "id": "4b19fa69",
   "metadata": {},
   "outputs": [],
   "source": []
  },
  {
   "cell_type": "code",
   "execution_count": null,
   "id": "8dd44955",
   "metadata": {},
   "outputs": [],
   "source": []
  },
  {
   "cell_type": "code",
   "execution_count": null,
   "id": "a6fa5f02",
   "metadata": {},
   "outputs": [],
   "source": []
  }
 ],
 "metadata": {
  "kernelspec": {
   "display_name": "Python 3",
   "language": "python",
   "name": "python3"
  },
  "language_info": {
   "codemirror_mode": {
    "name": "ipython",
    "version": 3
   },
   "file_extension": ".py",
   "mimetype": "text/x-python",
   "name": "python",
   "nbconvert_exporter": "python",
   "pygments_lexer": "ipython3",
   "version": "3.8.8"
  }
 },
 "nbformat": 4,
 "nbformat_minor": 5
}
