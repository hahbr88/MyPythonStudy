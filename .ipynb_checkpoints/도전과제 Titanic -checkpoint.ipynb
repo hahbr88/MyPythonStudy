{
 "cells": [
  {
   "cell_type": "code",
   "execution_count": null,
   "id": "ebf2c8be",
   "metadata": {},
   "outputs": [],
   "source": [
    "# 등급별 생존률 계산하기\n",
    "# data/titanic.csv\n",
    "\"\"\"\n",
    "3등급] 총 491 명, 생존 119 명, 생존률 24.2%\n",
    "1등급] 총 216 명, 생존 136 명, 생존률 63.0%\n",
    "2등급] 총 184 명, 생존 87 명, 생존률 47.3%\n",
    "\"\"\""
   ]
  },
  {
   "cell_type": "code",
   "execution_count": null,
   "id": "d25202e8",
   "metadata": {},
   "outputs": [],
   "source": [
    "# 단계\n",
    "# line 별로 읽어들이기  (첫 line 제거)\n",
    "\n",
    "# line 을 , (콤마) 로 쪼개기 (split())\n",
    "    \n",
    "# 생존여부, 객실등급 데이터 추출 ([1],[2]번째 데이타)\n",
    "\n",
    "# 객실등급별 집계 ( dict 결과{'1': [...], '2' : [...]})\n",
    "    \n",
    "# 출력\n",
    "\"\"\""
   ]
  },
  {
   "cell_type": "code",
   "execution_count": 3,
   "id": "9b9e4a70",
   "metadata": {},
   "outputs": [],
   "source": [
    "import os\n",
    "import re"
   ]
  },
  {
   "cell_type": "code",
   "execution_count": 2,
   "id": "6b1aec94",
   "metadata": {},
   "outputs": [],
   "source": [
    "titanic_path = '../../../DevRoot/dataset/titanic.csv'\n",
    "\n",
    "with open(titanic_path, 'r', encoding='utf8', errors=\"ignore\") as f:   #utf-8 인코딩\n",
    "    data=f.read()\n",
    "#     print(data)"
   ]
  },
  {
   "cell_type": "code",
   "execution_count": 4,
   "id": "1f5af74e",
   "metadata": {},
   "outputs": [],
   "source": [
    "dom = list(data.split(\"\\n\"))\n",
    "dom = dom[1::] # 첫 라인 제거\n",
    "del(dom[-1])   # 빈리스트 왜있어 ㅡㅡ;; 저리가 \n",
    "\n",
    "# for i in dom:\n",
    "#     print(i.split(','))\n",
    "\n",
    "# print(dom[0].split(',')[0])\n",
    "# print(dom[0].split(',')[1]) # 생존여부 1생존, 0사망\n",
    "# print(dom[0].split(',')[2]) # 객실 등급"
   ]
  },
  {
   "cell_type": "code",
   "execution_count": 5,
   "id": "3a4609ff",
   "metadata": {},
   "outputs": [
    {
     "name": "stdout",
     "output_type": "stream",
     "text": [
      "1등급] 총 216명, 생존 136 명 생존률 63.0%\n",
      "2등급] 총 184명, 생존 87 명 생존률 47.3%\n",
      "3등급] 총 491명, 생존 119 명 생존률 24.2%\n"
     ]
    }
   ],
   "source": [
    "total = {'1': 0 , '2': 0 , '3': 0}     # 승객 총원을 객실등급으로 나누는 딕셔너리\n",
    "surv_cnt = {'1': 0 , '2': 0 , '3': 0}  # 생존 승객을 객실등급으로 나누는 딕셔너리\n",
    "\n",
    "for passengers in dom: \n",
    "    surv = (passengers.split(','))[1] # 생존여부 1생존, 0사망\n",
    "    clss = (passengers.split(','))[2] # 객실 등급\n",
    "    total[clss] += 1   # 각각의 객실등극에 따라 더해짐\n",
    "    if surv == '1':    # 그중 산사람\n",
    "        surv_cnt[clss] += 1\n",
    "    \n",
    "# print(total, surv_cnt)\n",
    "    \n",
    "\n",
    "print(f\"1등급] 총 {total['1']}명, 생존 {surv_cnt['1']} 명 생존률 {(surv_cnt['1']/total['1'])*100:.1f}%\")\n",
    "print(f\"2등급] 총 {total['2']}명, 생존 {surv_cnt['2']} 명 생존률 {(surv_cnt['2']/total['2'])*100:.1f}%\")\n",
    "print(f\"3등급] 총 {total['3']}명, 생존 {surv_cnt['3']} 명 생존률 {(surv_cnt['3']/total['3'])*100:.1f}%\")\n",
    "\n",
    "\n"
   ]
  },
  {
   "cell_type": "code",
   "execution_count": 6,
   "id": "4c888c9f",
   "metadata": {},
   "outputs": [],
   "source": [
    "# int(surv), int(clss)\n",
    "\n",
    "# [f\"{i}등급] 총 {total[i]}명, 생존 {surv_cnt[i]} 명 생존률 {(surv_cnt[i]/total[i])*100:.1f}%\" for i in range(3)]"
   ]
  },
  {
   "cell_type": "code",
   "execution_count": 182,
   "id": "5ff0809c",
   "metadata": {},
   "outputs": [
    {
     "data": {
      "text/plain": [
       "str"
      ]
     },
     "execution_count": 182,
     "metadata": {},
     "output_type": "execute_result"
    }
   ],
   "source": [
    "type(clss)"
   ]
  },
  {
   "cell_type": "code",
   "execution_count": null,
   "id": "97f8d878",
   "metadata": {},
   "outputs": [],
   "source": []
  },
  {
   "cell_type": "code",
   "execution_count": null,
   "id": "0af8c923",
   "metadata": {},
   "outputs": [],
   "source": []
  },
  {
   "cell_type": "code",
   "execution_count": null,
   "id": "e2efd81c",
   "metadata": {},
   "outputs": [],
   "source": []
  },
  {
   "cell_type": "code",
   "execution_count": null,
   "id": "0b3f228e",
   "metadata": {},
   "outputs": [],
   "source": []
  }
 ],
 "metadata": {
  "kernelspec": {
   "display_name": "Python 3",
   "language": "python",
   "name": "python3"
  },
  "language_info": {
   "codemirror_mode": {
    "name": "ipython",
    "version": 3
   },
   "file_extension": ".py",
   "mimetype": "text/x-python",
   "name": "python",
   "nbconvert_exporter": "python",
   "pygments_lexer": "ipython3",
   "version": "3.8.8"
  }
 },
 "nbformat": 4,
 "nbformat_minor": 5
}
