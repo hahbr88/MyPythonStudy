{
 "cells": [
  {
   "cell_type": "markdown",
   "id": "91bcda83",
   "metadata": {},
   "source": [
    "# 리스트1"
   ]
  },
  {
   "cell_type": "markdown",
   "id": "94f2d944",
   "metadata": {},
   "source": [
    "###### 리스트1 - 자가진단 1\n",
    "\n",
    "리스트를 만들고, 출력하여 출력 예와 같이 나오도록 하는 프로그램을 작성하라.​\n"
   ]
  },
  {
   "cell_type": "code",
   "execution_count": null,
   "id": "f2e28765",
   "metadata": {},
   "outputs": [],
   "source": [
    "# 출력 예\n",
    "# ['Salad', 'Pizza', 'Chicken', 'Soup']"
   ]
  },
  {
   "cell_type": "code",
   "execution_count": 2,
   "id": "290ec699",
   "metadata": {},
   "outputs": [
    {
     "name": "stdout",
     "output_type": "stream",
     "text": [
      "['Salad', 'Pizza', 'Chicken', 'Soup']\n"
     ]
    }
   ],
   "source": [
    "list = ['Salad', 'Pizza', 'Chicken', 'Soup']\n",
    "print(list)"
   ]
  },
  {
   "cell_type": "markdown",
   "id": "85675bfe",
   "metadata": {},
   "source": [
    "###### 리스트1 - 자가진단 2\n",
    "\n",
    "'Python', 'is', 'exciting' 세 문자열로 이루어진 리스트를 만들고, 다음과 같이 출력하는 프로그램을 작성하라.​"
   ]
  },
  {
   "cell_type": "code",
   "execution_count": null,
   "id": "f1ee1f67",
   "metadata": {},
   "outputs": [],
   "source": [
    "# 출력 예\n",
    "# Python is exciting"
   ]
  },
  {
   "cell_type": "code",
   "execution_count": 3,
   "id": "1b36b3cc",
   "metadata": {},
   "outputs": [
    {
     "name": "stdout",
     "output_type": "stream",
     "text": [
      "Python is exciting\n"
     ]
    }
   ],
   "source": [
    "list = ['Python', 'is', 'exciting']\n",
    "print(list[0], list[1], list[2])"
   ]
  },
  {
   "cell_type": "markdown",
   "id": "297ec993",
   "metadata": {},
   "source": [
    "###### 리스트1 - 자가진단 3\n",
    "세 개의 리스트를 만들어 아래 순서대로 합병하여 출력하는 프로그램을 작성하라.\n",
    "\n",
    "[첫 번째 리스트][세 번째 리스트][세 번째 리스트][세 번째 리스트][두 번째 리스트]\n",
    "\n",
    "첫 번째 리스트:[1, 2, 3]\n",
    "\n",
    "두 번째 리스트:[2, 4, 6]\n",
    "\n",
    "세 번째 리스트:[3, 6, 9] \n"
   ]
  },
  {
   "cell_type": "code",
   "execution_count": null,
   "id": "18cf629e",
   "metadata": {},
   "outputs": [],
   "source": [
    "# 출력 예\n",
    "# [1, 2, 3, 3, 6, 9, 3, 6, 9, 3, 6, 9, 2, 4, 6]"
   ]
  },
  {
   "cell_type": "code",
   "execution_count": 4,
   "id": "4d6c9964",
   "metadata": {},
   "outputs": [
    {
     "name": "stdout",
     "output_type": "stream",
     "text": [
      "[1, 2, 3, 3, 6, 9, 3, 6, 9, 3, 6, 9, 2, 4, 6]\n"
     ]
    }
   ],
   "source": [
    "l1 = [1, 2, 3]\n",
    "l2 = [2, 4, 6]\n",
    "l3 = [3, 6, 9]\n",
    "\n",
    "print(l1 + l3 + l3 + l3 + l2)"
   ]
  },
  {
   "cell_type": "markdown",
   "id": "b808821b",
   "metadata": {},
   "source": [
    "###### 리스트1 - 자가진단 4\n",
    "\n",
    "리스트를 하나 만들어 [1, 2]로 초기화하고, 추가로 정수를 하나 더 입력 받아 리스트 끝에 추가한 후 역순으로 출력하는 프로그램을 작성하시오."
   ]
  },
  {
   "cell_type": "code",
   "execution_count": 5,
   "id": "b42a12a8",
   "metadata": {},
   "outputs": [],
   "source": [
    "# 입력 예\n",
    "# -3\n",
    "# 출력 예\n",
    "# -3\n",
    "# 2\n",
    "# 1"
   ]
  },
  {
   "cell_type": "code",
   "execution_count": 10,
   "id": "b0b5f961",
   "metadata": {},
   "outputs": [
    {
     "name": "stdout",
     "output_type": "stream",
     "text": [
      "-3\n",
      "-3\n",
      "2\n",
      "1\n"
     ]
    }
   ],
   "source": [
    "list = [1,2]\n",
    "num = int(input())\n",
    "list.append(num)\n",
    "print(list[2])\n",
    "print(list[1])\n",
    "print(list[0])"
   ]
  },
  {
   "cell_type": "markdown",
   "id": "7725fa40",
   "metadata": {},
   "source": [
    "###### 리스트1 - 자가진단 5\n",
    "\n",
    "문자열을 하나 입력받아서 그 문자열의 맨 앞에 있는 문자를 출력한 후, 그 문자열을 리스트로 변환한 후에 해당 리스트의 앞에서부터 세 번째 문자를 출력하는 프로그램을 작성하라. \n",
    "\n",
    "(입력되는 문자열은 항상 길이가 3 이상이라고 가정한다.)​\n"
   ]
  },
  {
   "cell_type": "code",
   "execution_count": null,
   "id": "0384c067",
   "metadata": {},
   "outputs": [],
   "source": [
    "# 입력 예\n",
    "# Eagle\n",
    "# 출력 예\n",
    "# E\n",
    "# g"
   ]
  },
  {
   "cell_type": "code",
   "execution_count": 11,
   "id": "f97bc360",
   "metadata": {},
   "outputs": [
    {
     "name": "stdout",
     "output_type": "stream",
     "text": [
      "Eagle\n",
      "E\n",
      "l\n"
     ]
    }
   ],
   "source": [
    "str = input()\n",
    "print(str[0])\n",
    "print(str[2])"
   ]
  },
  {
   "cell_type": "code",
   "execution_count": null,
   "id": "35cb1bf3",
   "metadata": {},
   "outputs": [],
   "source": []
  },
  {
   "cell_type": "code",
   "execution_count": null,
   "id": "f9595002",
   "metadata": {},
   "outputs": [],
   "source": []
  },
  {
   "cell_type": "code",
   "execution_count": null,
   "id": "800866df",
   "metadata": {},
   "outputs": [],
   "source": []
  },
  {
   "cell_type": "code",
   "execution_count": null,
   "id": "a9c73659",
   "metadata": {},
   "outputs": [],
   "source": []
  },
  {
   "cell_type": "code",
   "execution_count": null,
   "id": "95a24de1",
   "metadata": {},
   "outputs": [],
   "source": []
  },
  {
   "cell_type": "code",
   "execution_count": null,
   "id": "a28ad4ec",
   "metadata": {},
   "outputs": [],
   "source": []
  },
  {
   "cell_type": "code",
   "execution_count": null,
   "id": "20c2f37f",
   "metadata": {},
   "outputs": [],
   "source": []
  },
  {
   "cell_type": "code",
   "execution_count": null,
   "id": "9dfc8f7a",
   "metadata": {},
   "outputs": [],
   "source": []
  },
  {
   "cell_type": "code",
   "execution_count": null,
   "id": "0b89f28e",
   "metadata": {},
   "outputs": [],
   "source": []
  },
  {
   "cell_type": "code",
   "execution_count": null,
   "id": "a7da4bb1",
   "metadata": {},
   "outputs": [],
   "source": []
  },
  {
   "cell_type": "code",
   "execution_count": null,
   "id": "f5154681",
   "metadata": {},
   "outputs": [],
   "source": []
  },
  {
   "cell_type": "code",
   "execution_count": null,
   "id": "465f7b16",
   "metadata": {},
   "outputs": [],
   "source": []
  },
  {
   "cell_type": "code",
   "execution_count": null,
   "id": "683e716b",
   "metadata": {},
   "outputs": [],
   "source": []
  },
  {
   "cell_type": "code",
   "execution_count": null,
   "id": "060865dd",
   "metadata": {},
   "outputs": [],
   "source": []
  },
  {
   "cell_type": "code",
   "execution_count": null,
   "id": "52d71a1c",
   "metadata": {},
   "outputs": [],
   "source": []
  },
  {
   "cell_type": "code",
   "execution_count": null,
   "id": "6f2f362f",
   "metadata": {},
   "outputs": [],
   "source": []
  },
  {
   "cell_type": "code",
   "execution_count": null,
   "id": "a53944a2",
   "metadata": {},
   "outputs": [],
   "source": []
  },
  {
   "cell_type": "code",
   "execution_count": null,
   "id": "3e0bfee6",
   "metadata": {},
   "outputs": [],
   "source": []
  }
 ],
 "metadata": {
  "kernelspec": {
   "display_name": "Python 3",
   "language": "python",
   "name": "python3"
  },
  "language_info": {
   "codemirror_mode": {
    "name": "ipython",
    "version": 3
   },
   "file_extension": ".py",
   "mimetype": "text/x-python",
   "name": "python",
   "nbconvert_exporter": "python",
   "pygments_lexer": "ipython3",
   "version": "3.8.8"
  }
 },
 "nbformat": 4,
 "nbformat_minor": 5
}
