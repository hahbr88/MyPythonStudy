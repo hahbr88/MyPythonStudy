{
 "cells": [
  {
   "cell_type": "markdown",
   "id": "7619e03b",
   "metadata": {},
   "source": [
    "# 정올 문제 풀이 - 입력"
   ]
  },
  {
   "cell_type": "markdown",
   "id": "6ce9e5e0",
   "metadata": {},
   "source": [
    "###### 입력 - 자가진단6\n",
    "키를 입력받아 출력하는 프로그램을 작성하라.\n",
    "(입력할때 \"height = \" 문장을 먼저 출력하고 키를 입력 받아야 합니다.)"
   ]
  },
  {
   "cell_type": "code",
   "execution_count": null,
   "id": "45c3ef10",
   "metadata": {},
   "outputs": [],
   "source": [
    "# 입력 예\n",
    "# height = 170\n",
    "# 출력 예\n",
    "# Your height is 170cm."
   ]
  },
  {
   "cell_type": "code",
   "execution_count": 25,
   "id": "44b37c2c",
   "metadata": {},
   "outputs": [
    {
     "name": "stdout",
     "output_type": "stream",
     "text": [
      "height = 180\n",
      "Your height is 180cm.\n",
      "Your height is 180cm.\n",
      "Your height is 180cm.\n"
     ]
    }
   ],
   "source": [
    "height = input(\"height = \")\n",
    "\n",
    "# format() 함수\n",
    "print(\"Your height is {}cm.\".format(height))\n",
    "\n",
    "# % 연산자\n",
    "print(\"Your height is %scm.\" %(height))\n",
    "\n",
    "# f-string\n",
    "print(f\"Your height is {height}cm.\")"
   ]
  },
  {
   "cell_type": "markdown",
   "id": "359b4c80",
   "metadata": {},
   "source": [
    "###### 입력 - 자가진단7\n",
    "두 개의 정수를 입력 받아 곱과 몫을 출력하시오.\n",
    "(먼저 입력 받는 수가 항상 크며 입력되는 두 정수는 1이상 500이하이다.)"
   ]
  },
  {
   "cell_type": "code",
   "execution_count": null,
   "id": "cc4e477b",
   "metadata": {},
   "outputs": [],
   "source": [
    "# 입력 예\n",
    "# 16 5\n",
    "# 출력 예\n",
    "# 16 * 5 = 80\n",
    "# 16 / 5 = 3"
   ]
  },
  {
   "cell_type": "code",
   "execution_count": 22,
   "id": "962f5081",
   "metadata": {},
   "outputs": [
    {
     "name": "stdout",
     "output_type": "stream",
     "text": [
      "16 5\n",
      "16 * 5 = 80\n",
      "16 / 5 = 3\n",
      "16 * 5 = 80\n",
      "16 / 5 = 3\n",
      "16 * 5 = 80\n",
      "16 / 5 = 3\n",
      "16 * 5 = 80\n",
      "16 / 5 = 3\n"
     ]
    }
   ],
   "source": [
    "a, b = map(int, input().split())\n",
    "\n",
    "# 단순 나열\n",
    "print(\"16 * 5 =\", a*b)\n",
    "print(\"16 / 5 =\", int(a/b))\n",
    "\n",
    "# f-string 포맷팅\n",
    "print(f'16 * 5 = {a*b}')\n",
    "print(f'16 / 5 = {int(a/b)}')\n",
    "\n",
    "# format() 함수 사용\n",
    "print(\"16 * 5 = {}\".format(a*b))\n",
    "print(\"16 / 5 = {}\".format(int(a/b)))\n",
    "\n",
    "# % 연산자 사용\n",
    "print(\"16 * 5 = %d\" %(a*b)) \n",
    "print(\"16 / 5 = %d\" %(int(a/b)))\n"
   ]
  },
  {
   "cell_type": "markdown",
   "id": "7f59666b",
   "metadata": {},
   "source": [
    "######  입력 - 자가진단8"
   ]
  },
  {
   "cell_type": "code",
   "execution_count": null,
   "id": "b4501354",
   "metadata": {},
   "outputs": [],
   "source": [
    "print(\"PI = {}\".format(pi))"
   ]
  },
  {
   "cell_type": "code",
   "execution_count": null,
   "id": "11059b5b",
   "metadata": {},
   "outputs": [],
   "source": []
  },
  {
   "cell_type": "code",
   "execution_count": null,
   "id": "1363608a",
   "metadata": {},
   "outputs": [],
   "source": []
  },
  {
   "cell_type": "code",
   "execution_count": null,
   "id": "4a3add5d",
   "metadata": {},
   "outputs": [],
   "source": []
  },
  {
   "cell_type": "code",
   "execution_count": null,
   "id": "99c9c93e",
   "metadata": {},
   "outputs": [],
   "source": []
  },
  {
   "cell_type": "code",
   "execution_count": null,
   "id": "e2b24054",
   "metadata": {},
   "outputs": [],
   "source": []
  },
  {
   "cell_type": "code",
   "execution_count": null,
   "id": "de577686",
   "metadata": {},
   "outputs": [],
   "source": []
  }
 ],
 "metadata": {
  "kernelspec": {
   "display_name": "Python 3",
   "language": "python",
   "name": "python3"
  },
  "language_info": {
   "codemirror_mode": {
    "name": "ipython",
    "version": 3
   },
   "file_extension": ".py",
   "mimetype": "text/x-python",
   "name": "python",
   "nbconvert_exporter": "python",
   "pygments_lexer": "ipython3",
   "version": "3.8.8"
  }
 },
 "nbformat": 4,
 "nbformat_minor": 5
}
