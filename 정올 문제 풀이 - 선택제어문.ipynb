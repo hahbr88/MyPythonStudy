{
 "cells": [
  {
   "cell_type": "markdown",
   "id": "629841d9",
   "metadata": {},
   "source": [
    "###### 자가진단 1\n",
    "http://jungol.co.kr/bbs/board.php?bo_table=pbank&wr_id=4146&sca=py60"
   ]
  },
  {
   "cell_type": "code",
   "execution_count": 5,
   "id": "de5f4783",
   "metadata": {},
   "outputs": [
    {
     "name": "stdout",
     "output_type": "stream",
     "text": [
      "-3\n",
      "-3\n",
      "minus\n",
      "-3\n",
      "minus\n"
     ]
    }
   ],
   "source": [
    "num = int(input())\n",
    "\n",
    "# 조건문 \n",
    "if num < 0:\n",
    "    print(num)\n",
    "    print(\"minus\")\n",
    "else:\n",
    "    print(num)\n",
    "\n",
    "# 삼항연산자  (참일때의 값 if (조건식) else (거짓말일때의 값))\n",
    "print(f\"{num}\\nminus\") if num < 0 else print(num)"
   ]
  },
  {
   "cell_type": "markdown",
   "id": "ed293461",
   "metadata": {},
   "source": [
    "###### 선택제어문 - 자가진단 2\n",
    "http://jungol.co.kr/bbs/board.php?bo_table=pbank&wr_id=4147&sca=py60"
   ]
  },
  {
   "cell_type": "code",
   "execution_count": 9,
   "id": "0738c7c2",
   "metadata": {},
   "outputs": [
    {
     "name": "stdout",
     "output_type": "stream",
     "text": [
      "155\n",
      "60\n",
      "5\n",
      "Obesity\n",
      "5\n",
      "Obesity\n"
     ]
    }
   ],
   "source": [
    "height = int(input())\n",
    "weight = int(input())\n",
    "\n",
    "biman = weight + 100 - height\n",
    "\n",
    "if biman > 0:\n",
    "    print(f\"{biman}\\nObesity\")\n",
    "else:\n",
    "    print(biman)\n",
    "    \n",
    "    \n",
    "# 삼항연산자\n",
    "print(f\"{biman}\\nObesity\") if biman > 0 else print(biman)"
   ]
  },
  {
   "cell_type": "markdown",
   "id": "dff4ae98",
   "metadata": {},
   "source": [
    "###### 선택제어문 - 자가진단 3\n",
    "http://jungol.co.kr/bbs/board.php?bo_table=pbank&wr_id=4148&sca=py60"
   ]
  },
  {
   "cell_type": "code",
   "execution_count": 13,
   "id": "1b522a8f",
   "metadata": {},
   "outputs": [
    {
     "name": "stdout",
     "output_type": "stream",
     "text": [
      "20\n",
      "An adult.\n"
     ]
    }
   ],
   "source": [
    "age = int(input())\n",
    "\n",
    "print('An adult.') if age >= 20 else print(20-age,'years') "
   ]
  },
  {
   "cell_type": "markdown",
   "id": "6de150c5",
   "metadata": {},
   "source": [
    "###### 선택제어문 - 자가진단 4\n",
    "http://jungol.co.kr/bbs/board.php?bo_table=pbank&wr_id=4149&sca=py60"
   ]
  },
  {
   "cell_type": "code",
   "execution_count": 42,
   "id": "782178e1",
   "metadata": {},
   "outputs": [
    {
     "name": "stdout",
     "output_type": "stream",
     "text": [
      "88\n",
      "Cruiserweight\n",
      "Cruiserweight\n"
     ]
    }
   ],
   "source": [
    "boxerWeight = float(input())\n",
    "    \n",
    "if boxerWeight <= 50.80:\n",
    "    print(\"Flyweight\")\n",
    "elif boxerWeight <= 61.23:\n",
    "    print(\"Lightweight\")\n",
    "elif boxerWeight <= 72.57:\n",
    "    print(\"Middleweight\")\n",
    "elif boxerWeight <= 88.45:\n",
    "    print(\"Cruiserweight\")\n",
    "elif boxerWeight:\n",
    "    print(\"Heavyweight\")\n",
    "\n",
    "# 연속 3항 연산자\n",
    "print(\"Flyweight\") if boxerWeight <= 50.80 else (\n",
    "print(\"Lightweight\") if boxerWeight <= 61.23 else (\n",
    "print(\"Middleweight\") if boxerWeight <= 72.57 else (\n",
    "print(\"Cruiserweight\") if boxerWeight <= 88.45 else (\n",
    "print(\"Heavyweight\")))))"
   ]
  },
  {
   "cell_type": "markdown",
   "id": "c486e7ac",
   "metadata": {},
   "source": [
    "###### 선택제어문 - 자가진단 5\n",
    "http://jungol.co.kr/bbs/board.php?bo_table=pbank&wr_id=4150&sca=py60"
   ]
  },
  {
   "cell_type": "code",
   "execution_count": 54,
   "id": "ea27a5c3",
   "metadata": {},
   "outputs": [
    {
     "name": "stdout",
     "output_type": "stream",
     "text": [
      "3\n",
      "4\n",
      "B\n"
     ]
    }
   ],
   "source": [
    "n = float(input())\n",
    "m = float(input())\n",
    "\n",
    "num = \"A\" if (n>=4.0 and m>=4.0) else(\"B\" if (n>=3.0 and m>=3.0) else(\"C\"))\n",
    "print(num)"
   ]
  },
  {
   "cell_type": "markdown",
   "id": "938b37a8",
   "metadata": {},
   "source": [
    "###### 선택제어문 - 자가진단 6\n",
    "http://jungol.co.kr/bbs/board.php?bo_table=pbank&wr_id=4151&sca=py60"
   ]
  },
  {
   "cell_type": "code",
   "execution_count": 5,
   "id": "212300dc",
   "metadata": {},
   "outputs": [
    {
     "name": "stdout",
     "output_type": "stream",
     "text": [
      "F 15\n",
      "GIRL\n"
     ]
    }
   ],
   "source": [
    "gender, age = input().split()\n",
    "age = int(age)\n",
    "\n",
    "if gender == \"M\" and age >= 18:\n",
    "    print(\"MAN\")\n",
    "elif gender == \"M\" and age < 18:\n",
    "    print(\"BOY\")\n",
    "elif gender == \"F\" and age >= 18:\n",
    "    print(\"WOMAN\")\n",
    "elif gender == \"F\" and age < 18:\n",
    "    print(\"GIRL\")\n"
   ]
  },
  {
   "cell_type": "code",
   "execution_count": 11,
   "id": "62952130",
   "metadata": {},
   "outputs": [
    {
     "name": "stdout",
     "output_type": "stream",
     "text": [
      "F 10\n",
      "GIRL\n"
     ]
    }
   ],
   "source": [
    "# 삼항연산자로도 해보자\n",
    "gender, age = input().split()\n",
    "age = int(age)\n",
    "\n",
    "a=\"MAN\" if (gender == \"M\" and age >= 18) else(\n",
    "\"BOY\" if (gender == \"M\" and age < 18) else(\n",
    "\"WOMAN\" if (gender == \"F\" and age >= 18) else(\n",
    "\"GIRL\")))\n",
    "\n",
    "print(a)"
   ]
  },
  {
   "cell_type": "markdown",
   "id": "af948146",
   "metadata": {},
   "source": [
    "###### 선택제어문 - 자가진단 7-1\n",
    "http://jungol.co.kr/bbs/board.php?bo_table=pbank&wr_id=4152&sca=py60"
   ]
  },
  {
   "cell_type": "code",
   "execution_count": 17,
   "id": "b16c1230",
   "metadata": {},
   "outputs": [
    {
     "name": "stdout",
     "output_type": "stream",
     "text": [
      "R\n",
      "Mistake\n"
     ]
    }
   ],
   "source": [
    "ch = input()\n",
    "\n",
    "a= \"Excellent\" if ch == \"A\" else(\n",
    "\"Good\" if ch == \"B\" else(\n",
    "\"Usually\" if ch == \"C\" else(\n",
    "\"Effort\" if ch == \"D\" else(\n",
    "\"Failure\" if ch == \"F\" else(\n",
    "\"Mistake\")))))\n",
    "\n",
    "print(a)\n",
    "\n",
    "\n",
    "\n"
   ]
  },
  {
   "cell_type": "markdown",
   "id": "c5c91321",
   "metadata": {},
   "source": [
    "###### 선택제어문 - 자가진단 7-2\n",
    "http://jungol.co.kr/bbs/board.php?bo_table=pbank&wr_id=4153&sca=py60"
   ]
  },
  {
   "cell_type": "code",
   "execution_count": 20,
   "id": "ff17f7b3",
   "metadata": {},
   "outputs": [
    {
     "name": "stdout",
     "output_type": "stream",
     "text": [
      "2.65\n",
      "seasonal semester\n"
     ]
    }
   ],
   "source": [
    "grade = float(input())\n",
    "\n",
    "ABC = 'scholarship' if grade >=4.0 else(\n",
    "'next semester' if grade >=3.0 else(\n",
    "'seasonal semester' if grade >=2.0 else(\n",
    "'retake')))\n",
    "\n",
    "print(ABC)\n",
    "\n",
    "\n"
   ]
  },
  {
   "cell_type": "markdown",
   "id": "99664fd3",
   "metadata": {},
   "source": [
    "###### 선택제어문 - 자가진단 8\n",
    "http://jungol.co.kr/bbs/board.php?bo_table=pbank&wr_id=4154&sca=py60"
   ]
  },
  {
   "cell_type": "code",
   "execution_count": 74,
   "id": "31172c8c",
   "metadata": {},
   "outputs": [
    {
     "name": "stdout",
     "output_type": "stream",
     "text": [
      "18 -5 10\n",
      "-5\n"
     ]
    }
   ],
   "source": [
    "# 초간단하게 하는 방법 : 내장함수 max() 사용한다.\n",
    "a,b,c = map(int,input().split())\n",
    "print(min(a,b,c))"
   ]
  },
  {
   "cell_type": "code",
   "execution_count": 89,
   "id": "c5775b9e",
   "metadata": {},
   "outputs": [
    {
     "name": "stdout",
     "output_type": "stream",
     "text": [
      "3 3 1\n",
      "1\n"
     ]
    }
   ],
   "source": [
    "# 하지만 이 문제의 취지는 제어문을 통해 답을 내는 거겠지 \n",
    "a,b,c = map(int,input().split())\n",
    "X = a if a<b else b\n",
    "X = X if X<c else c\n",
    "print(X)"
   ]
  },
  {
   "cell_type": "code",
   "execution_count": 94,
   "id": "fa80e446",
   "metadata": {},
   "outputs": [
    {
     "name": "stdout",
     "output_type": "stream",
     "text": [
      "6 9 2\n",
      "6\n"
     ]
    }
   ],
   "source": [
    "a,b,c = map(int,input().split())\n",
    "nums = a,b,c \n",
    "\n",
    "# 심심한데 함수로 만들어 볼까\n",
    "def find_max(*args):  # 가변매개변수 \n",
    "    X = a if a<b else (\n",
    "        b if b<c else (\n",
    "        c if c<a else a)) # 이걸 어떻게 손볼수 있을까\n",
    "    print(X)\n",
    "    \n",
    "find_max(*nums)\n",
    "\n",
    "# 가변매개변수 사용해서 tuple 인 nums 를 unpacking! "
   ]
  },
  {
   "cell_type": "code",
   "execution_count": 59,
   "id": "148d06e9",
   "metadata": {},
   "outputs": [
    {
     "data": {
      "text/plain": [
       "tuple"
      ]
     },
     "execution_count": 59,
     "metadata": {},
     "output_type": "execute_result"
    }
   ],
   "source": [
    "type(nums)"
   ]
  },
  {
   "cell_type": "markdown",
   "id": "34f45adc",
   "metadata": {},
   "source": [
    "###### 선택제어문 - 형성평가 1\n",
    "http://jungol.co.kr/bbs/board.php?bo_table=pbank&wr_id=4155&sca=py60"
   ]
  },
  {
   "cell_type": "code",
   "execution_count": 96,
   "id": "590a0612",
   "metadata": {},
   "outputs": [
    {
     "name": "stdout",
     "output_type": "stream",
     "text": [
      "2332 33\n",
      "2299\n"
     ]
    }
   ],
   "source": [
    "n,m = map(int,input().split())\n",
    "x = n-m if n>=m else m-n \n",
    "print(x)"
   ]
  },
  {
   "cell_type": "markdown",
   "id": "932972db",
   "metadata": {},
   "source": [
    "###### 선택제어문 - 형성평가 2\n",
    "http://jungol.co.kr/bbs/board.php?bo_table=pbank&wr_id=4156&sca=py60"
   ]
  },
  {
   "cell_type": "code",
   "execution_count": 100,
   "id": "c5be4c7b",
   "metadata": {},
   "outputs": [
    {
     "name": "stdout",
     "output_type": "stream",
     "text": [
      "-2\n",
      "minus\n"
     ]
    }
   ],
   "source": [
    "a = int(input())\n",
    "\n",
    "x = 'plus' if a>0 else ('minus' if a<0 else 'zero')\n",
    "print(x)"
   ]
  },
  {
   "cell_type": "markdown",
   "id": "5dde1a44",
   "metadata": {},
   "source": [
    "###### 선택제어문 - 형성평가 3\n",
    "http://jungol.co.kr/bbs/board.php?bo_table=pbank&wr_id=4157&sca=py60"
   ]
  },
  {
   "cell_type": "code",
   "execution_count": 15,
   "id": "ec95870c",
   "metadata": {},
   "outputs": [
    {
     "name": "stdout",
     "output_type": "stream",
     "text": [
      "2000\n",
      "leap year\n"
     ]
    }
   ],
   "source": [
    "year = int(input())\n",
    "\n",
    "a= \"leap year\" if (year%400==0) or (year%4==0 and year%100!=0) else \"common year\"\n",
    "print(a)"
   ]
  },
  {
   "cell_type": "code",
   "execution_count": 18,
   "id": "b369de10",
   "metadata": {},
   "outputs": [
    {
     "name": "stdout",
     "output_type": "stream",
     "text": [
      "2100\n",
      "common year\n"
     ]
    }
   ],
   "source": [
    "year = int(input())\n",
    "\n",
    "if year%400==0 or (year%4==0 and year%100!=0):\n",
    "    print('leap year')\n",
    "else:\n",
    "    print('common year')"
   ]
  },
  {
   "cell_type": "markdown",
   "id": "95f13479",
   "metadata": {},
   "source": [
    "###### 선택제어문 - 형성평가 4\n",
    "http://jungol.co.kr/bbs/board.php?bo_table=pbank&wr_id=4158&sca=py60"
   ]
  },
  {
   "cell_type": "code",
   "execution_count": 27,
   "id": "8475f517",
   "metadata": {},
   "outputs": [
    {
     "name": "stdout",
     "output_type": "stream",
     "text": [
      "Number? 6\n",
      "I don't know.\n"
     ]
    }
   ],
   "source": [
    "dict = {1:\"dog\", 2:\"cat\" ,3:\"chick\"}\n",
    "\n",
    "q = int(input(\"Number? \"))\n",
    "result=dict[1] if q==1 else(\n",
    "dict[2] if q==2 else\n",
    "dict[3] if q==3 else \"I don't know.\")\n",
    "\n",
    "print(result)"
   ]
  },
  {
   "cell_type": "markdown",
   "id": "327b1ff4",
   "metadata": {},
   "source": [
    "###### 선택제어문 - 형성평가 5\n",
    "http://jungol.co.kr/bbs/board.php?bo_table=pbank&wr_id=4159&sca=py60"
   ]
  },
  {
   "cell_type": "code",
   "execution_count": 43,
   "id": "3b5d3370",
   "metadata": {},
   "outputs": [
    {
     "name": "stdout",
     "output_type": "stream",
     "text": [
      "2\n",
      "28\n"
     ]
    }
   ],
   "source": [
    "month = int(input())\n",
    "day31={1,3,5,7,8,10,12}\n",
    "day30={4,6,9,11}\n",
    "\n",
    "result= \"31\" if month in day31 else (\n",
    "\"30\" if month in day30 else \"28\")\n",
    "print(result)"
   ]
  },
  {
   "cell_type": "code",
   "execution_count": 33,
   "id": "56f1a959",
   "metadata": {},
   "outputs": [
    {
     "data": {
      "text/plain": [
       "True"
      ]
     },
     "execution_count": 33,
     "metadata": {},
     "output_type": "execute_result"
    }
   ],
   "source": [
    "month in day31"
   ]
  },
  {
   "cell_type": "code",
   "execution_count": null,
   "id": "5029d2c9",
   "metadata": {},
   "outputs": [],
   "source": []
  }
 ],
 "metadata": {
  "kernelspec": {
   "display_name": "Python 3",
   "language": "python",
   "name": "python3"
  },
  "language_info": {
   "codemirror_mode": {
    "name": "ipython",
    "version": 3
   },
   "file_extension": ".py",
   "mimetype": "text/x-python",
   "name": "python",
   "nbconvert_exporter": "python",
   "pygments_lexer": "ipython3",
   "version": "3.8.8"
  }
 },
 "nbformat": 4,
 "nbformat_minor": 5
}
