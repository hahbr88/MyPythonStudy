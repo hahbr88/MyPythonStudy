{
 "cells": [
  {
   "cell_type": "markdown",
   "id": "629841d9",
   "metadata": {},
   "source": [
    "###### 자가진단 1\n",
    "http://jungol.co.kr/bbs/board.php?bo_table=pbank&wr_id=4146&sca=py60"
   ]
  },
  {
   "cell_type": "code",
   "execution_count": 5,
   "id": "de5f4783",
   "metadata": {},
   "outputs": [
    {
     "name": "stdout",
     "output_type": "stream",
     "text": [
      "-3\n",
      "-3\n",
      "minus\n",
      "-3\n",
      "minus\n"
     ]
    }
   ],
   "source": [
    "num = int(input())\n",
    "\n",
    "# 조건문 \n",
    "if num < 0:\n",
    "    print(num)\n",
    "    print(\"minus\")\n",
    "else:\n",
    "    print(num)\n",
    "\n",
    "# 삼항연산자  (참일때의 값 if (조건식) else (거짓말일때의 값))\n",
    "print(f\"{num}\\nminus\") if num < 0 else print(num)"
   ]
  },
  {
   "cell_type": "markdown",
   "id": "ed293461",
   "metadata": {},
   "source": [
    "###### 선택제어문 - 자가진단 2\n",
    "http://jungol.co.kr/bbs/board.php?bo_table=pbank&wr_id=4147&sca=py60"
   ]
  },
  {
   "cell_type": "code",
   "execution_count": 9,
   "id": "0738c7c2",
   "metadata": {},
   "outputs": [
    {
     "name": "stdout",
     "output_type": "stream",
     "text": [
      "155\n",
      "60\n",
      "5\n",
      "Obesity\n",
      "5\n",
      "Obesity\n"
     ]
    }
   ],
   "source": [
    "height = int(input())\n",
    "weight = int(input())\n",
    "\n",
    "biman = weight + 100 - height\n",
    "\n",
    "if biman > 0:\n",
    "    print(f\"{biman}\\nObesity\")\n",
    "else:\n",
    "    print(biman)\n",
    "    \n",
    "    \n",
    "# 삼항연산자\n",
    "print(f\"{biman}\\nObesity\") if biman > 0 else print(biman)"
   ]
  },
  {
   "cell_type": "markdown",
   "id": "dff4ae98",
   "metadata": {},
   "source": [
    "###### 선택제어문 - 자가진단 3\n",
    "http://jungol.co.kr/bbs/board.php?bo_table=pbank&wr_id=4148&sca=py60"
   ]
  },
  {
   "cell_type": "code",
   "execution_count": 13,
   "id": "1b522a8f",
   "metadata": {},
   "outputs": [
    {
     "name": "stdout",
     "output_type": "stream",
     "text": [
      "20\n",
      "An adult.\n"
     ]
    }
   ],
   "source": [
    "age = int(input())\n",
    "\n",
    "print('An adult.') if age >= 20 else print(20-age,'years') "
   ]
  },
  {
   "cell_type": "markdown",
   "id": "6de150c5",
   "metadata": {},
   "source": [
    "###### 선택제어문 - 자가진단 4\n",
    "http://jungol.co.kr/bbs/board.php?bo_table=pbank&wr_id=4149&sca=py60"
   ]
  },
  {
   "cell_type": "code",
   "execution_count": 42,
   "id": "782178e1",
   "metadata": {},
   "outputs": [
    {
     "name": "stdout",
     "output_type": "stream",
     "text": [
      "88\n",
      "Cruiserweight\n",
      "Cruiserweight\n"
     ]
    }
   ],
   "source": [
    "boxerWeight = float(input())\n",
    "    \n",
    "if boxerWeight <= 50.80:\n",
    "    print(\"Flyweight\")\n",
    "elif boxerWeight <= 61.23:\n",
    "    print(\"Lightweight\")\n",
    "elif boxerWeight <= 72.57:\n",
    "    print(\"Middleweight\")\n",
    "elif boxerWeight <= 88.45:\n",
    "    print(\"Cruiserweight\")\n",
    "elif boxerWeight:\n",
    "    print(\"Heavyweight\")\n",
    "\n",
    "# 연속 3항 연산자\n",
    "print(\"Flyweight\") if boxerWeight <= 50.80 else (\n",
    "print(\"Lightweight\") if boxerWeight <= 61.23 else (\n",
    "print(\"Middleweight\") if boxerWeight <= 72.57 else (\n",
    "print(\"Cruiserweight\") if boxerWeight <= 88.45 else (\n",
    "print(\"Heavyweight\")))))"
   ]
  },
  {
   "cell_type": "markdown",
   "id": "c486e7ac",
   "metadata": {},
   "source": [
    "###### 선택제어문 - 자가진단 5\n",
    "http://jungol.co.kr/bbs/board.php?bo_table=pbank&wr_id=4150&sca=py60"
   ]
  },
  {
   "cell_type": "code",
   "execution_count": 54,
   "id": "ea27a5c3",
   "metadata": {},
   "outputs": [
    {
     "name": "stdout",
     "output_type": "stream",
     "text": [
      "3\n",
      "4\n",
      "B\n"
     ]
    }
   ],
   "source": [
    "n = float(input())\n",
    "m = float(input())\n",
    "\n",
    "num = \"A\" if (n>=4.0 and m>=4.0) else(\"B\" if (n>=3.0 and m>=3.0) else(\"C\"))\n",
    "print(num)"
   ]
  },
  {
   "cell_type": "code",
   "execution_count": null,
   "id": "89d720e9",
   "metadata": {},
   "outputs": [],
   "source": []
  },
  {
   "cell_type": "code",
   "execution_count": null,
   "id": "212300dc",
   "metadata": {},
   "outputs": [],
   "source": []
  },
  {
   "cell_type": "code",
   "execution_count": null,
   "id": "62952130",
   "metadata": {},
   "outputs": [],
   "source": []
  },
  {
   "cell_type": "code",
   "execution_count": null,
   "id": "f49a8d8f",
   "metadata": {},
   "outputs": [],
   "source": []
  },
  {
   "cell_type": "code",
   "execution_count": null,
   "id": "b16c1230",
   "metadata": {},
   "outputs": [],
   "source": []
  },
  {
   "cell_type": "code",
   "execution_count": null,
   "id": "cf596329",
   "metadata": {},
   "outputs": [],
   "source": []
  },
  {
   "cell_type": "code",
   "execution_count": null,
   "id": "ff17f7b3",
   "metadata": {},
   "outputs": [],
   "source": []
  },
  {
   "cell_type": "code",
   "execution_count": null,
   "id": "245e57bb",
   "metadata": {},
   "outputs": [],
   "source": []
  },
  {
   "cell_type": "code",
   "execution_count": null,
   "id": "31172c8c",
   "metadata": {},
   "outputs": [],
   "source": []
  },
  {
   "cell_type": "code",
   "execution_count": null,
   "id": "c5775b9e",
   "metadata": {},
   "outputs": [],
   "source": []
  }
 ],
 "metadata": {
  "kernelspec": {
   "display_name": "Python 3",
   "language": "python",
   "name": "python3"
  },
  "language_info": {
   "codemirror_mode": {
    "name": "ipython",
    "version": 3
   },
   "file_extension": ".py",
   "mimetype": "text/x-python",
   "name": "python",
   "nbconvert_exporter": "python",
   "pygments_lexer": "ipython3",
   "version": "3.8.8"
  }
 },
 "nbformat": 4,
 "nbformat_minor": 5
}
