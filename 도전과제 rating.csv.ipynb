{
 "cells": [
  {
   "cell_type": "markdown",
   "metadata": {},
   "source": [
    "# 연습 : 영화 평점\n",
    "파일 : rating.csv"
   ]
  },
  {
   "cell_type": "code",
   "execution_count": 1,
   "metadata": {},
   "outputs": [],
   "source": [
    "import numpy as np\n",
    "import os\n",
    "import matplotlib.pyplot as plt\n",
    "%matplotlib inline"
   ]
  },
  {
   "cell_type": "code",
   "execution_count": 2,
   "metadata": {},
   "outputs": [],
   "source": [
    "# numpy 만 사용하세요.\n",
    "# pandas 는 사용하지 마세요"
   ]
  },
  {
   "cell_type": "code",
   "execution_count": 3,
   "metadata": {},
   "outputs": [],
   "source": [
    "# rating.csv\n",
    "\n",
    "# userid, movieid, rating"
   ]
  },
  {
   "cell_type": "markdown",
   "metadata": {},
   "source": [
    "## 1. 파일 읽어 들이기"
   ]
  },
  {
   "cell_type": "code",
   "execution_count": 4,
   "metadata": {},
   "outputs": [],
   "source": [
    "# rating.csv 파일의 내용을 확인하고\n",
    "# numpy 의 array 로 읽어 들어와 arr_rating 이라는 변수에 담습니다.\n",
    "# 읽어온뒤 내용도 확인합니다"
   ]
  },
  {
   "cell_type": "code",
   "execution_count": 5,
   "metadata": {},
   "outputs": [],
   "source": [
    "datapath = 'C:/DevRoot/dataset/021_numpy/rating.csv'"
   ]
  },
  {
   "cell_type": "code",
   "execution_count": 6,
   "metadata": {},
   "outputs": [
    {
     "data": {
      "text/plain": [
       "array([[1.000e+00, 2.000e+00, 3.500e+00],\n",
       "       [1.000e+00, 2.900e+01, 3.500e+00],\n",
       "       [1.000e+00, 3.200e+01, 3.500e+00],\n",
       "       ...,\n",
       "       [7.020e+02, 1.377e+03, 1.500e+00],\n",
       "       [7.020e+02, 1.378e+03, 1.500e+00],\n",
       "       [7.020e+02, 1.380e+03, 3.500e+00]])"
      ]
     },
     "execution_count": 6,
     "metadata": {},
     "output_type": "execute_result"
    }
   ],
   "source": [
    "arr_rating = np.loadtxt(datapath, delimiter=',')\n",
    "arr_rating"
   ]
  },
  {
   "cell_type": "markdown",
   "metadata": {},
   "source": [
    "## 2.데이터 탐색하기 (EDA)"
   ]
  },
  {
   "cell_type": "code",
   "execution_count": 7,
   "metadata": {},
   "outputs": [],
   "source": [
    "# arr_rating 의 \n",
    "# A) 데이터 개수, 차원 정보등을 확인해봅니다.\n",
    "# B)  0 ~ 4번째 row만 출력해봅니다\n",
    "# C)  0번째 칼럼(열)만 출력"
   ]
  },
  {
   "cell_type": "code",
   "execution_count": 8,
   "metadata": {},
   "outputs": [
    {
     "data": {
      "text/plain": [
       "2"
      ]
     },
     "execution_count": 8,
     "metadata": {},
     "output_type": "execute_result"
    }
   ],
   "source": [
    "arr_rating.ndim # 2차원 "
   ]
  },
  {
   "cell_type": "code",
   "execution_count": 9,
   "metadata": {},
   "outputs": [
    {
     "data": {
      "text/plain": [
       "(100000, 3)"
      ]
     },
     "execution_count": 9,
     "metadata": {},
     "output_type": "execute_result"
    }
   ],
   "source": [
    "arr_rating.shape # (100000, 3) 십만행, 삼열"
   ]
  },
  {
   "cell_type": "code",
   "execution_count": 10,
   "metadata": {},
   "outputs": [
    {
     "data": {
      "text/plain": [
       "300000"
      ]
     },
     "execution_count": 10,
     "metadata": {},
     "output_type": "execute_result"
    }
   ],
   "source": [
    "arr_rating.size # 총 30만개의 데이터"
   ]
  },
  {
   "cell_type": "code",
   "execution_count": 11,
   "metadata": {},
   "outputs": [
    {
     "data": {
      "text/plain": [
       "100000"
      ]
     },
     "execution_count": 11,
     "metadata": {},
     "output_type": "execute_result"
    }
   ],
   "source": [
    "len(arr_rating)"
   ]
  },
  {
   "cell_type": "code",
   "execution_count": 12,
   "metadata": {},
   "outputs": [
    {
     "data": {
      "text/plain": [
       "dtype('float64')"
      ]
     },
     "execution_count": 12,
     "metadata": {},
     "output_type": "execute_result"
    }
   ],
   "source": [
    "arr_rating.dtype"
   ]
  },
  {
   "cell_type": "code",
   "execution_count": 13,
   "metadata": {},
   "outputs": [
    {
     "data": {
      "text/plain": [
       "array([[ 1. ,  2. ,  3.5],\n",
       "       [ 1. , 29. ,  3.5],\n",
       "       [ 1. , 32. ,  3.5],\n",
       "       [ 1. , 47. ,  3.5]])"
      ]
     },
     "execution_count": 13,
     "metadata": {},
     "output_type": "execute_result"
    }
   ],
   "source": [
    "arr_rating[0:4] # 0 ~ 4번째 row만 출력"
   ]
  },
  {
   "cell_type": "code",
   "execution_count": 14,
   "metadata": {},
   "outputs": [
    {
     "data": {
      "text/plain": [
       "array([  1.,   1.,   1., ..., 702., 702., 702.])"
      ]
     },
     "execution_count": 14,
     "metadata": {},
     "output_type": "execute_result"
    }
   ],
   "source": [
    "arr_rating[:,0]  # userid 만 따로 뽑기"
   ]
  },
  {
   "cell_type": "code",
   "execution_count": 15,
   "metadata": {},
   "outputs": [
    {
     "data": {
      "text/plain": [
       "array([   2.,   29.,   32., ..., 1377., 1378., 1380.])"
      ]
     },
     "execution_count": 15,
     "metadata": {},
     "output_type": "execute_result"
    }
   ],
   "source": [
    "arr_rating[::,1] # movieid "
   ]
  },
  {
   "cell_type": "code",
   "execution_count": 16,
   "metadata": {},
   "outputs": [
    {
     "data": {
      "text/plain": [
       "array([3.5, 3.5, 3.5, ..., 1.5, 1.5, 3.5])"
      ]
     },
     "execution_count": 16,
     "metadata": {},
     "output_type": "execute_result"
    }
   ],
   "source": [
    "arr_rating[::,2] # rating"
   ]
  },
  {
   "cell_type": "markdown",
   "metadata": {},
   "source": [
    "## 3. 영화의 개수 구하기"
   ]
  },
  {
   "cell_type": "code",
   "execution_count": 17,
   "metadata": {},
   "outputs": [],
   "source": [
    "# 평점이 매겨진 영화의 개수를 구해보세요"
   ]
  },
  {
   "cell_type": "code",
   "execution_count": 18,
   "metadata": {},
   "outputs": [
    {
     "data": {
      "text/plain": [
       "array([  1.,   1.,   1., ..., 702., 702., 702.])"
      ]
     },
     "execution_count": 18,
     "metadata": {},
     "output_type": "execute_result"
    }
   ],
   "source": [
    "userid = arr_rating[::,0]\n",
    "userid"
   ]
  },
  {
   "cell_type": "code",
   "execution_count": 19,
   "metadata": {},
   "outputs": [
    {
     "data": {
      "text/plain": [
       "702"
      ]
     },
     "execution_count": 19,
     "metadata": {},
     "output_type": "execute_result"
    }
   ],
   "source": [
    "np.unique(userid).size  # 전체 유저 수 702명 (잘되나 그냥 해봄)"
   ]
  },
  {
   "cell_type": "code",
   "execution_count": 20,
   "metadata": {},
   "outputs": [
    {
     "data": {
      "text/plain": [
       "array([   2.,   29.,   32., ..., 1377., 1378., 1380.])"
      ]
     },
     "execution_count": 20,
     "metadata": {},
     "output_type": "execute_result"
    }
   ],
   "source": [
    "movieid = arr_rating[::,1]  # 영화번호들 array\n",
    "movieid"
   ]
  },
  {
   "cell_type": "code",
   "execution_count": 21,
   "metadata": {},
   "outputs": [
    {
     "data": {
      "text/plain": [
       "8227"
      ]
     },
     "execution_count": 21,
     "metadata": {},
     "output_type": "execute_result"
    }
   ],
   "source": [
    "np.unique(movieid).size # 전체 영화 총 갯수 8227개"
   ]
  },
  {
   "cell_type": "markdown",
   "metadata": {},
   "source": [
    "## 4. 1번 유저에 대한 모든 평점 정보 구하기"
   ]
  },
  {
   "cell_type": "code",
   "execution_count": 22,
   "metadata": {},
   "outputs": [],
   "source": [
    "# 1번 유저의 '평점 개수' 와 '평점 평균' 을 구하세요"
   ]
  },
  {
   "cell_type": "code",
   "execution_count": 23,
   "metadata": {},
   "outputs": [
    {
     "name": "stdout",
     "output_type": "stream",
     "text": [
      "유저1 의 평점 갯수는 175개 입니다.\n",
      "유저1 의 평점 평균은 3.74점 입니다.\n",
      "유저1 의 평점 최고 점수는 5.0점 최저 점수는 3.0입니다.\n"
     ]
    }
   ],
   "source": [
    "user1_info = arr_rating[arr_rating[:,0] == 1]\n",
    "user1_info[::,2].mean()\n",
    "user1_info[::,2].size\n",
    "user1_info[::,2].max()\n",
    "user1_info[::,2].min()\n",
    "\n",
    "print(f'유저1 의 평점 갯수는 {user1_info[::,2].size}개 입니다.')\n",
    "print(f'유저1 의 평점 평균은 {user1_info[::,2].mean():.2f}점 입니다.')\n",
    "print(f'유저1 의 평점 최고 점수는 {user1_info[::,2].max()}점 최저 점수는 {user1_info[::,2].min()}입니다.')"
   ]
  },
  {
   "cell_type": "markdown",
   "metadata": {},
   "source": [
    "## 5. 각 유저별 정보 구하기"
   ]
  },
  {
   "cell_type": "code",
   "execution_count": 24,
   "metadata": {},
   "outputs": [],
   "source": [
    "# 각 유저별\n",
    "# 유저 아이디, 평점회수, 평점 평균\n",
    "# 아래와 같이 list 로 출력\n",
    "\n",
    "\"\"\"\n",
    "[[1, 175, 3.742857142857143],\n",
    " [2, 61, 4.0],\n",
    " [3, 187, 4.122994652406417],\n",
    " [4, 28, 3.5714285714285716],\n",
    " [5, 66, 4.2727272727272725],\n",
    " [6, 24, 3.75],\n",
    " ...\n",
    " ...\n",
    "\"\"\"\n",
    "None"
   ]
  },
  {
   "cell_type": "code",
   "execution_count": 25,
   "metadata": {},
   "outputs": [
    {
     "data": {
      "text/plain": [
       "(array([   2.,   29.,   32., ..., 1377., 1378., 1380.]),\n",
       " array([3.5, 3.5, 3.5, ..., 1.5, 1.5, 3.5]))"
      ]
     },
     "execution_count": 25,
     "metadata": {},
     "output_type": "execute_result"
    }
   ],
   "source": [
    "arr_rating[:,1], arr_rating[:,2]"
   ]
  },
  {
   "cell_type": "code",
   "execution_count": 26,
   "metadata": {},
   "outputs": [
    {
     "data": {
      "text/plain": [
       "array([1., 1., 1., 1., 1., 1., 1., 1., 1., 1.])"
      ]
     },
     "execution_count": 26,
     "metadata": {},
     "output_type": "execute_result"
    }
   ],
   "source": [
    "arr_rating[:10,0]"
   ]
  },
  {
   "cell_type": "code",
   "execution_count": 27,
   "metadata": {},
   "outputs": [
    {
     "data": {
      "text/plain": [
       "array([ 1.,  2.,  3.,  4.,  5.,  6.,  7.,  8.,  9., 10.])"
      ]
     },
     "execution_count": 27,
     "metadata": {},
     "output_type": "execute_result"
    }
   ],
   "source": [
    "users = np.unique(arr_rating[:,0])   #전체 userid\n",
    "users[:10]  # 10개만 출력"
   ]
  },
  {
   "cell_type": "code",
   "execution_count": 28,
   "metadata": {},
   "outputs": [
    {
     "data": {
      "text/plain": [
       "3.742857142857143"
      ]
     },
     "execution_count": 28,
     "metadata": {},
     "output_type": "execute_result"
    }
   ],
   "source": [
    "# arr_rating[arr_rating[:,0] == x][:,2]  # user가 x인 사람의 평점 array\n",
    "arr_rating[arr_rating[:,0] == 1][:,2].mean()  # user가 1인 사람의 평점의 평균 array\n"
   ]
  },
  {
   "cell_type": "code",
   "execution_count": 29,
   "metadata": {},
   "outputs": [
    {
     "data": {
      "text/plain": [
       "3.742857142857143"
      ]
     },
     "execution_count": 29,
     "metadata": {},
     "output_type": "execute_result"
    }
   ],
   "source": [
    "xxx = arr_rating[arr_rating[:,0] == 1][:,2].mean()\n",
    "xxx"
   ]
  },
  {
   "cell_type": "code",
   "execution_count": 30,
   "metadata": {},
   "outputs": [],
   "source": [
    "movie_rate_info_byusers = [\n",
    "    f\"{int(i)},{arr_rating[arr_rating[:,0] == i].size},{(arr_rating[arr_rating[:,0] == i][:,2].mean()):.4f}\".split(',')\n",
    "    for i in users\n",
    "]\n",
    "\n",
    "# 와 코드 더럽다;"
   ]
  },
  {
   "cell_type": "code",
   "execution_count": 31,
   "metadata": {},
   "outputs": [
    {
     "data": {
      "text/plain": [
       "[['1', '525', '3.7429'],\n",
       " ['2', '183', '4.0000'],\n",
       " ['3', '561', '4.1230'],\n",
       " ['4', '84', '3.5714'],\n",
       " ['5', '198', '4.2727'],\n",
       " ['6', '72', '3.7500'],\n",
       " ['7', '828', '3.2899'],\n",
       " ['8', '210', '3.8000'],\n",
       " ['9', '105', '3.0571'],\n",
       " ['10', '114', '3.8947']]"
      ]
     },
     "execution_count": 31,
     "metadata": {},
     "output_type": "execute_result"
    }
   ],
   "source": [
    "movie_rate_info_byusers[:10]"
   ]
  },
  {
   "cell_type": "markdown",
   "metadata": {},
   "source": [
    "## 6. 특정 영화의 평점 분포도\n",
    "175번 영화의 평점은 몇개나 있을가?"
   ]
  },
  {
   "cell_type": "code",
   "execution_count": 32,
   "metadata": {
    "scrolled": false
   },
   "outputs": [
    {
     "data": {
      "text/plain": [
       "'\\n1.0 - 1개\\n2.0 - 3개\\n3.0 - 8개\\n3.5 - 3개 \\n4.0 - 7개\\n4.5 - 2개\\n5.0 - 4개\\n'"
      ]
     },
     "execution_count": 32,
     "metadata": {},
     "output_type": "execute_result"
    }
   ],
   "source": [
    "# ↓결과출력 예시\n",
    "\"\"\"\n",
    "1.0 - 1개\n",
    "2.0 - 3개\n",
    "3.0 - 8개\n",
    "3.5 - 3개 \n",
    "4.0 - 7개\n",
    "4.5 - 2개\n",
    "5.0 - 4개\n",
    "\"\"\"\n",
    "# 시각화 예시 ↓"
   ]
  },
  {
   "cell_type": "code",
   "execution_count": 33,
   "metadata": {},
   "outputs": [
    {
     "data": {
      "text/plain": [
       "array([[ 13., 300.,   2.],\n",
       "       [ 15., 300.,   3.],\n",
       "       [ 24., 300.,   3.],\n",
       "       [ 26., 300.,   4.],\n",
       "       [ 29., 300.,   2.],\n",
       "       [ 32., 300.,   3.],\n",
       "       [ 38., 300.,   1.],\n",
       "       [ 46., 300.,   5.],\n",
       "       [ 54., 300.,   2.],\n",
       "       [ 58., 300.,   4.]])"
      ]
     },
     "execution_count": 33,
     "metadata": {},
     "output_type": "execute_result"
    }
   ],
   "source": [
    "moviexx_info = arr_rating[arr_rating[:,1] == 300]\n",
    "moviexx_info[:10]"
   ]
  },
  {
   "cell_type": "code",
   "execution_count": 34,
   "metadata": {},
   "outputs": [
    {
     "data": {
      "text/plain": [
       "array([[  3. , 175. ,   5. ],\n",
       "       [ 25. , 175. ,   4.5],\n",
       "       [ 53. , 175. ,   4. ],\n",
       "       [ 69. , 175. ,   3. ],\n",
       "       [104. , 175. ,   1. ],\n",
       "       [116. , 175. ,   3. ],\n",
       "       [129. , 175. ,   3.5],\n",
       "       [131. , 175. ,   2. ],\n",
       "       [134. , 175. ,   5. ],\n",
       "       [215. , 175. ,   2. ]])"
      ]
     },
     "execution_count": 34,
     "metadata": {},
     "output_type": "execute_result"
    }
   ],
   "source": [
    "movie175_info = arr_rating[arr_rating[:,1] == 175]   # 175번 영화 정보\n",
    "movie175_info[:10]  # 상위 10개만 우선 출력"
   ]
  },
  {
   "cell_type": "code",
   "execution_count": 35,
   "metadata": {},
   "outputs": [
    {
     "data": {
      "text/plain": [
       "array([5. , 4.5, 4. , 3. , 1. , 3. , 3.5, 2. , 5. , 2. , 3. , 4. , 3.5,\n",
       "       3. , 3. , 5. , 2. , 3. , 4. , 3. , 3.5, 5. , 4. , 4. , 4. , 4. ,\n",
       "       4.5, 3. ])"
      ]
     },
     "execution_count": 35,
     "metadata": {},
     "output_type": "execute_result"
    }
   ],
   "source": [
    "rate_data175 = movie175_info[::,2] # 175 영화의 모든 평점 array\n",
    "rate_data175  # 175 번 영화가 받은 모든 평점들"
   ]
  },
  {
   "cell_type": "code",
   "execution_count": 36,
   "metadata": {},
   "outputs": [
    {
     "data": {
      "text/plain": [
       "0"
      ]
     },
     "execution_count": 36,
     "metadata": {},
     "output_type": "execute_result"
    }
   ],
   "source": [
    "rate_data175[rate_data175 == 0].size"
   ]
  },
  {
   "cell_type": "code",
   "execution_count": 37,
   "metadata": {},
   "outputs": [
    {
     "data": {
      "text/plain": [
       "(array([1. , 2. , 3. , 3.5, 4. , 4.5, 5. ]),\n",
       " array([1, 3, 8, 3, 7, 2, 4], dtype=int64))"
      ]
     },
     "execution_count": 37,
     "metadata": {},
     "output_type": "execute_result"
    }
   ],
   "source": [
    "np.unique(movie175_info[::,2], return_counts = True)"
   ]
  },
  {
   "cell_type": "code",
   "execution_count": 38,
   "metadata": {},
   "outputs": [
    {
     "data": {
      "text/plain": [
       "{1.0: 1, 2.0: 3, 3.0: 8, 3.5: 3, 4.0: 7, 4.5: 2, 5.0: 4}"
      ]
     },
     "execution_count": 38,
     "metadata": {},
     "output_type": "execute_result"
    }
   ],
   "source": [
    "rate, counts  = np.unique(movie175_info[::,2], return_counts = True)\n",
    "\n",
    "rate_dict = dict(zip(rate, counts))\n",
    "rate_dict"
   ]
  },
  {
   "cell_type": "code",
   "execution_count": 39,
   "metadata": {},
   "outputs": [
    {
     "data": {
      "text/plain": [
       "([0, 0, 1, 0, 3, 0, 8, 3, 7, 2, 4],\n",
       " [0.0, 0.5, 1.0, 1.5, 2.0, 2.5, 3.0, 3.5, 4.0, 4.5, 5.0])"
      ]
     },
     "execution_count": 39,
     "metadata": {},
     "output_type": "execute_result"
    }
   ],
   "source": [
    "rate_cnt = []\n",
    "rate_value = []\n",
    "for i in range(11):\n",
    "#     rate_dict.update({i/2 : rate_dict.get(i/2, 0)})\n",
    "    rate_cnt.append(rate_data175[rate_data175 == (i/2)].size)\n",
    "    rate_value.append(i/2)\n",
    "rate_cnt, rate_value"
   ]
  },
  {
   "cell_type": "code",
   "execution_count": 40,
   "metadata": {},
   "outputs": [
    {
     "data": {
      "image/png": "[encoded data removed]",
      "text/plain": [
       "<Figure size 432x288 with 1 Axes>"
      ]
     },
     "metadata": {
      "needs_background": "light"
     },
     "output_type": "display_data"
    }
   ],
   "source": [
    "x = np.arange(11)  # array([0, 1, 2])\n",
    "\n",
    "colors = ['r','r','r','y','y','y','g','g','g','b','b']\n",
    "\n",
    "plt.bar(x, rate_cnt, color=colors, edgecolor='lightgray',  linewidth=\"2\")\n",
    "plt.xticks(x, rate_value)\n",
    "plt.xlabel('Ratings')\n",
    "plt.ylabel('the Number')\n",
    "plt.title('Movie 175')\n",
    "plt.show()"
   ]
  },
  {
   "cell_type": "code",
   "execution_count": 41,
   "metadata": {},
   "outputs": [
    {
     "data": {
      "image/png": "[encoded data removed]",
      "text/plain": [
       "<Figure size 432x288 with 1 Axes>"
      ]
     },
     "metadata": {},
     "output_type": "display_data"
    }
   ],
   "source": [
    "explode = [0.10, 0.50, 0.10, 0.30, 0.10, 0.10, 0.10, 0.10, 0.10, 0.10, 0.10]\n",
    "\n",
    "plt.pie(rate_cnt, labels=rate_value, autopct='%.1f%%', labeldistance=1.3, radius=2 ,explode=explode, shadow=True)\n",
    "plt.show()"
   ]
  },
  {
   "cell_type": "code",
   "execution_count": null,
   "metadata": {},
   "outputs": [],
   "source": []
  }
 ],
 "metadata": {
  "kernelspec": {
   "display_name": "Python 3",
   "language": "python",
   "name": "python3"
  },
  "language_info": {
   "codemirror_mode": {
    "name": "ipython",
    "version": 3
   },
   "file_extension": ".py",
   "mimetype": "text/x-python",
   "name": "python",
   "nbconvert_exporter": "python",
   "pygments_lexer": "ipython3",
   "version": "3.8.8"
  }
 },
 "nbformat": 4,
 "nbformat_minor": 4
}
