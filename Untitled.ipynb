{
 "cells": [
  {
   "cell_type": "code",
   "execution_count": 1,
   "id": "e09fdcff",
   "metadata": {},
   "outputs": [],
   "source": [
    "import requests\n",
    "from bs4 import BeautifulSoup\n",
    "\n",
    "import os\n",
    "import re\n",
    "import urllib\n",
    "import urllib.parse as urlparser\n",
    "from os.path import basename, splitext, split\n",
    "from IPython.display import Image"
   ]
  },
  {
   "cell_type": "code",
   "execution_count": 6,
   "id": "eb54da07",
   "metadata": {},
   "outputs": [
    {
     "data": {
      "text/plain": [
       "'https://cdn.topstarnews.net/news/photo/first/201704/img_254135_1_org.jpg'"
      ]
     },
     "execution_count": 6,
     "metadata": {},
     "output_type": "execute_result"
    }
   ],
   "source": [
    "url = r'https://cdn.topstarnews.net/news/photo/first/201704/img_254135_1_org.jpg'\n",
    "url"
   ]
  },
  {
   "cell_type": "code",
   "execution_count": 20,
   "id": "6eee34a0",
   "metadata": {},
   "outputs": [
    {
     "data": {
      "text/plain": [
       "'img_254215_1_org.jpg'"
      ]
     },
     "execution_count": 20,
     "metadata": {},
     "output_type": "execute_result"
    }
   ],
   "source": [
    "urlparser.urlparse(url).path[-20:]"
   ]
  },
  {
   "cell_type": "code",
   "execution_count": 7,
   "id": "c74fe841",
   "metadata": {},
   "outputs": [
    {
     "data": {
      "text/plain": [
       "<Response [200]>"
      ]
     },
     "execution_count": 7,
     "metadata": {},
     "output_type": "execute_result"
    }
   ],
   "source": [
    "response = requests.get(url)\n",
    "response"
   ]
  },
  {
   "cell_type": "code",
   "execution_count": 8,
   "id": "b97bc1db",
   "metadata": {},
   "outputs": [],
   "source": [
    "dom = BeautifulSoup(response.text, 'html.parser')"
   ]
  },
  {
   "cell_type": "code",
   "execution_count": 26,
   "id": "0f1e4eab",
   "metadata": {
    "scrolled": true
   },
   "outputs": [
    {
     "data": {
      "text/plain": [
       "373564"
      ]
     },
     "execution_count": 26,
     "metadata": {},
     "output_type": "execute_result"
    }
   ],
   "source": [
    "len(dom.encode())"
   ]
  },
  {
   "cell_type": "code",
   "execution_count": 12,
   "id": "c971eb48",
   "metadata": {},
   "outputs": [],
   "source": [
    "urls = [\n",
    "    r'https://cdn.topstarnews.net/news/photo/first/201704/img_254'+ str(i) +'_1_org.jpg'\n",
    "    for i in range(160, 216)\n",
    "]"
   ]
  },
  {
   "cell_type": "code",
   "execution_count": 24,
   "id": "6de8d63e",
   "metadata": {
    "scrolled": true
   },
   "outputs": [
    {
     "name": "stdout",
     "output_type": "stream",
     "text": [
      "https://cdn.topstarnews.net/news/photo/first/201704/img_254160_1_org.jpg\n",
      "다운로드: https://cdn.topstarnews.net/news/photo/first/201704/img_254160_1_org.jpg -> C:/DevRoot/dataset/data/img\\img_254160_1_org.jpg\n",
      "성공\n",
      "https://cdn.topstarnews.net/news/photo/first/201704/img_254161_1_org.jpg\n",
      "다운로드: https://cdn.topstarnews.net/news/photo/first/201704/img_254161_1_org.jpg -> C:/DevRoot/dataset/data/img\\img_254161_1_org.jpg\n",
      "성공\n",
      "https://cdn.topstarnews.net/news/photo/first/201704/img_254162_1_org.jpg\n",
      "다운로드: https://cdn.topstarnews.net/news/photo/first/201704/img_254162_1_org.jpg -> C:/DevRoot/dataset/data/img\\img_254162_1_org.jpg\n",
      "성공\n",
      "https://cdn.topstarnews.net/news/photo/first/201704/img_254163_1_org.jpg\n",
      "다운로드: https://cdn.topstarnews.net/news/photo/first/201704/img_254163_1_org.jpg -> C:/DevRoot/dataset/data/img\\img_254163_1_org.jpg\n",
      "성공\n",
      "https://cdn.topstarnews.net/news/photo/first/201704/img_254164_1_org.jpg\n",
      "다운로드: https://cdn.topstarnews.net/news/photo/first/201704/img_254164_1_org.jpg -> C:/DevRoot/dataset/data/img\\img_254164_1_org.jpg\n",
      "성공\n",
      "https://cdn.topstarnews.net/news/photo/first/201704/img_254165_1_org.jpg\n",
      "다운로드: https://cdn.topstarnews.net/news/photo/first/201704/img_254165_1_org.jpg -> C:/DevRoot/dataset/data/img\\img_254165_1_org.jpg\n",
      "성공\n",
      "https://cdn.topstarnews.net/news/photo/first/201704/img_254166_1_org.jpg\n",
      "다운로드: https://cdn.topstarnews.net/news/photo/first/201704/img_254166_1_org.jpg -> C:/DevRoot/dataset/data/img\\img_254166_1_org.jpg\n",
      "성공\n",
      "https://cdn.topstarnews.net/news/photo/first/201704/img_254167_1_org.jpg\n",
      "다운로드: https://cdn.topstarnews.net/news/photo/first/201704/img_254167_1_org.jpg -> C:/DevRoot/dataset/data/img\\img_254167_1_org.jpg\n",
      "성공\n",
      "https://cdn.topstarnews.net/news/photo/first/201704/img_254168_1_org.jpg\n",
      "다운로드: https://cdn.topstarnews.net/news/photo/first/201704/img_254168_1_org.jpg -> C:/DevRoot/dataset/data/img\\img_254168_1_org.jpg\n",
      "성공\n",
      "https://cdn.topstarnews.net/news/photo/first/201704/img_254169_1_org.jpg\n",
      "다운로드: https://cdn.topstarnews.net/news/photo/first/201704/img_254169_1_org.jpg -> C:/DevRoot/dataset/data/img\\img_254169_1_org.jpg\n",
      "성공\n",
      "https://cdn.topstarnews.net/news/photo/first/201704/img_254170_1_org.jpg\n",
      "다운로드: https://cdn.topstarnews.net/news/photo/first/201704/img_254170_1_org.jpg -> C:/DevRoot/dataset/data/img\\img_254170_1_org.jpg\n",
      "성공\n",
      "https://cdn.topstarnews.net/news/photo/first/201704/img_254171_1_org.jpg\n",
      "다운로드: https://cdn.topstarnews.net/news/photo/first/201704/img_254171_1_org.jpg -> C:/DevRoot/dataset/data/img\\img_254171_1_org.jpg\n",
      "성공\n",
      "https://cdn.topstarnews.net/news/photo/first/201704/img_254172_1_org.jpg\n",
      "다운로드: https://cdn.topstarnews.net/news/photo/first/201704/img_254172_1_org.jpg -> C:/DevRoot/dataset/data/img\\img_254172_1_org.jpg\n",
      "성공\n",
      "https://cdn.topstarnews.net/news/photo/first/201704/img_254173_1_org.jpg\n",
      "다운로드: https://cdn.topstarnews.net/news/photo/first/201704/img_254173_1_org.jpg -> C:/DevRoot/dataset/data/img\\img_254173_1_org.jpg\n",
      "성공\n",
      "https://cdn.topstarnews.net/news/photo/first/201704/img_254174_1_org.jpg\n",
      "다운로드: https://cdn.topstarnews.net/news/photo/first/201704/img_254174_1_org.jpg -> C:/DevRoot/dataset/data/img\\img_254174_1_org.jpg\n",
      "성공\n",
      "https://cdn.topstarnews.net/news/photo/first/201704/img_254175_1_org.jpg\n",
      "다운로드: https://cdn.topstarnews.net/news/photo/first/201704/img_254175_1_org.jpg -> C:/DevRoot/dataset/data/img\\img_254175_1_org.jpg\n",
      "성공\n",
      "https://cdn.topstarnews.net/news/photo/first/201704/img_254176_1_org.jpg\n",
      "다운로드: https://cdn.topstarnews.net/news/photo/first/201704/img_254176_1_org.jpg -> C:/DevRoot/dataset/data/img\\img_254176_1_org.jpg\n",
      "성공\n",
      "https://cdn.topstarnews.net/news/photo/first/201704/img_254177_1_org.jpg\n",
      "다운로드: https://cdn.topstarnews.net/news/photo/first/201704/img_254177_1_org.jpg -> C:/DevRoot/dataset/data/img\\img_254177_1_org.jpg\n",
      "성공\n",
      "https://cdn.topstarnews.net/news/photo/first/201704/img_254178_1_org.jpg\n",
      "다운로드: https://cdn.topstarnews.net/news/photo/first/201704/img_254178_1_org.jpg -> C:/DevRoot/dataset/data/img\\img_254178_1_org.jpg\n",
      "성공\n",
      "https://cdn.topstarnews.net/news/photo/first/201704/img_254179_1_org.jpg\n",
      "다운로드: https://cdn.topstarnews.net/news/photo/first/201704/img_254179_1_org.jpg -> C:/DevRoot/dataset/data/img\\img_254179_1_org.jpg\n",
      "성공\n",
      "https://cdn.topstarnews.net/news/photo/first/201704/img_254180_1_org.jpg\n",
      "다운로드: https://cdn.topstarnews.net/news/photo/first/201704/img_254180_1_org.jpg -> C:/DevRoot/dataset/data/img\\img_254180_1_org.jpg\n",
      "성공\n",
      "https://cdn.topstarnews.net/news/photo/first/201704/img_254181_1_org.jpg\n",
      "다운로드: https://cdn.topstarnews.net/news/photo/first/201704/img_254181_1_org.jpg -> C:/DevRoot/dataset/data/img\\img_254181_1_org.jpg\n",
      "성공\n",
      "https://cdn.topstarnews.net/news/photo/first/201704/img_254182_1_org.jpg\n",
      "다운로드: https://cdn.topstarnews.net/news/photo/first/201704/img_254182_1_org.jpg -> C:/DevRoot/dataset/data/img\\img_254182_1_org.jpg\n",
      "성공\n",
      "https://cdn.topstarnews.net/news/photo/first/201704/img_254183_1_org.jpg\n",
      "다운로드: https://cdn.topstarnews.net/news/photo/first/201704/img_254183_1_org.jpg -> C:/DevRoot/dataset/data/img\\img_254183_1_org.jpg\n",
      "성공\n",
      "https://cdn.topstarnews.net/news/photo/first/201704/img_254184_1_org.jpg\n",
      "다운로드: https://cdn.topstarnews.net/news/photo/first/201704/img_254184_1_org.jpg -> C:/DevRoot/dataset/data/img\\img_254184_1_org.jpg\n",
      "성공\n",
      "https://cdn.topstarnews.net/news/photo/first/201704/img_254185_1_org.jpg\n",
      "다운로드: https://cdn.topstarnews.net/news/photo/first/201704/img_254185_1_org.jpg -> C:/DevRoot/dataset/data/img\\img_254185_1_org.jpg\n",
      "성공\n",
      "https://cdn.topstarnews.net/news/photo/first/201704/img_254186_1_org.jpg\n",
      "다운로드: https://cdn.topstarnews.net/news/photo/first/201704/img_254186_1_org.jpg -> C:/DevRoot/dataset/data/img\\img_254186_1_org.jpg\n",
      "성공\n",
      "https://cdn.topstarnews.net/news/photo/first/201704/img_254187_1_org.jpg\n",
      "다운로드: https://cdn.topstarnews.net/news/photo/first/201704/img_254187_1_org.jpg -> C:/DevRoot/dataset/data/img\\img_254187_1_org.jpg\n",
      "성공\n",
      "https://cdn.topstarnews.net/news/photo/first/201704/img_254188_1_org.jpg\n",
      "다운로드: https://cdn.topstarnews.net/news/photo/first/201704/img_254188_1_org.jpg -> C:/DevRoot/dataset/data/img\\img_254188_1_org.jpg\n",
      "성공\n",
      "https://cdn.topstarnews.net/news/photo/first/201704/img_254189_1_org.jpg\n",
      "다운로드: https://cdn.topstarnews.net/news/photo/first/201704/img_254189_1_org.jpg -> C:/DevRoot/dataset/data/img\\img_254189_1_org.jpg\n",
      "성공\n",
      "https://cdn.topstarnews.net/news/photo/first/201704/img_254190_1_org.jpg\n",
      "다운로드: https://cdn.topstarnews.net/news/photo/first/201704/img_254190_1_org.jpg -> C:/DevRoot/dataset/data/img\\img_254190_1_org.jpg\n",
      "성공\n",
      "https://cdn.topstarnews.net/news/photo/first/201704/img_254191_1_org.jpg\n",
      "다운로드: https://cdn.topstarnews.net/news/photo/first/201704/img_254191_1_org.jpg -> C:/DevRoot/dataset/data/img\\img_254191_1_org.jpg\n",
      "성공\n",
      "https://cdn.topstarnews.net/news/photo/first/201704/img_254192_1_org.jpg\n",
      "다운로드: https://cdn.topstarnews.net/news/photo/first/201704/img_254192_1_org.jpg -> C:/DevRoot/dataset/data/img\\img_254192_1_org.jpg\n",
      "성공\n",
      "https://cdn.topstarnews.net/news/photo/first/201704/img_254193_1_org.jpg\n",
      "다운로드: https://cdn.topstarnews.net/news/photo/first/201704/img_254193_1_org.jpg -> C:/DevRoot/dataset/data/img\\img_254193_1_org.jpg\n",
      "성공\n",
      "https://cdn.topstarnews.net/news/photo/first/201704/img_254194_1_org.jpg\n",
      "다운로드: https://cdn.topstarnews.net/news/photo/first/201704/img_254194_1_org.jpg -> C:/DevRoot/dataset/data/img\\img_254194_1_org.jpg\n",
      "성공\n",
      "https://cdn.topstarnews.net/news/photo/first/201704/img_254195_1_org.jpg\n",
      "다운로드: https://cdn.topstarnews.net/news/photo/first/201704/img_254195_1_org.jpg -> C:/DevRoot/dataset/data/img\\img_254195_1_org.jpg\n",
      "성공\n",
      "https://cdn.topstarnews.net/news/photo/first/201704/img_254196_1_org.jpg\n",
      "다운로드: https://cdn.topstarnews.net/news/photo/first/201704/img_254196_1_org.jpg -> C:/DevRoot/dataset/data/img\\img_254196_1_org.jpg\n",
      "성공\n",
      "https://cdn.topstarnews.net/news/photo/first/201704/img_254197_1_org.jpg\n",
      "다운로드: https://cdn.topstarnews.net/news/photo/first/201704/img_254197_1_org.jpg -> C:/DevRoot/dataset/data/img\\img_254197_1_org.jpg\n",
      "성공\n",
      "https://cdn.topstarnews.net/news/photo/first/201704/img_254198_1_org.jpg\n",
      "다운로드: https://cdn.topstarnews.net/news/photo/first/201704/img_254198_1_org.jpg -> C:/DevRoot/dataset/data/img\\img_254198_1_org.jpg\n",
      "성공\n",
      "https://cdn.topstarnews.net/news/photo/first/201704/img_254199_1_org.jpg\n",
      "다운로드: https://cdn.topstarnews.net/news/photo/first/201704/img_254199_1_org.jpg -> C:/DevRoot/dataset/data/img\\img_254199_1_org.jpg\n"
     ]
    },
    {
     "name": "stdout",
     "output_type": "stream",
     "text": [
      "성공\n",
      "https://cdn.topstarnews.net/news/photo/first/201704/img_254200_1_org.jpg\n",
      "다운로드: https://cdn.topstarnews.net/news/photo/first/201704/img_254200_1_org.jpg -> C:/DevRoot/dataset/data/img\\img_254200_1_org.jpg\n",
      "성공\n",
      "https://cdn.topstarnews.net/news/photo/first/201704/img_254201_1_org.jpg\n",
      "다운로드: https://cdn.topstarnews.net/news/photo/first/201704/img_254201_1_org.jpg -> C:/DevRoot/dataset/data/img\\img_254201_1_org.jpg\n",
      "성공\n",
      "https://cdn.topstarnews.net/news/photo/first/201704/img_254202_1_org.jpg\n",
      "다운로드: https://cdn.topstarnews.net/news/photo/first/201704/img_254202_1_org.jpg -> C:/DevRoot/dataset/data/img\\img_254202_1_org.jpg\n",
      "성공\n",
      "https://cdn.topstarnews.net/news/photo/first/201704/img_254203_1_org.jpg\n",
      "다운로드: https://cdn.topstarnews.net/news/photo/first/201704/img_254203_1_org.jpg -> C:/DevRoot/dataset/data/img\\img_254203_1_org.jpg\n",
      "성공\n",
      "https://cdn.topstarnews.net/news/photo/first/201704/img_254204_1_org.jpg\n",
      "다운로드: https://cdn.topstarnews.net/news/photo/first/201704/img_254204_1_org.jpg -> C:/DevRoot/dataset/data/img\\img_254204_1_org.jpg\n",
      "성공\n",
      "https://cdn.topstarnews.net/news/photo/first/201704/img_254205_1_org.jpg\n",
      "다운로드: https://cdn.topstarnews.net/news/photo/first/201704/img_254205_1_org.jpg -> C:/DevRoot/dataset/data/img\\img_254205_1_org.jpg\n",
      "성공\n",
      "https://cdn.topstarnews.net/news/photo/first/201704/img_254206_1_org.jpg\n",
      "다운로드: https://cdn.topstarnews.net/news/photo/first/201704/img_254206_1_org.jpg -> C:/DevRoot/dataset/data/img\\img_254206_1_org.jpg\n",
      "성공\n",
      "https://cdn.topstarnews.net/news/photo/first/201704/img_254207_1_org.jpg\n",
      "다운로드: https://cdn.topstarnews.net/news/photo/first/201704/img_254207_1_org.jpg -> C:/DevRoot/dataset/data/img\\img_254207_1_org.jpg\n",
      "성공\n",
      "https://cdn.topstarnews.net/news/photo/first/201704/img_254208_1_org.jpg\n",
      "다운로드: https://cdn.topstarnews.net/news/photo/first/201704/img_254208_1_org.jpg -> C:/DevRoot/dataset/data/img\\img_254208_1_org.jpg\n",
      "성공\n",
      "https://cdn.topstarnews.net/news/photo/first/201704/img_254209_1_org.jpg\n",
      "다운로드: https://cdn.topstarnews.net/news/photo/first/201704/img_254209_1_org.jpg -> C:/DevRoot/dataset/data/img\\img_254209_1_org.jpg\n",
      "성공\n",
      "https://cdn.topstarnews.net/news/photo/first/201704/img_254210_1_org.jpg\n",
      "다운로드: https://cdn.topstarnews.net/news/photo/first/201704/img_254210_1_org.jpg -> C:/DevRoot/dataset/data/img\\img_254210_1_org.jpg\n",
      "성공\n",
      "https://cdn.topstarnews.net/news/photo/first/201704/img_254211_1_org.jpg\n",
      "다운로드: https://cdn.topstarnews.net/news/photo/first/201704/img_254211_1_org.jpg -> C:/DevRoot/dataset/data/img\\img_254211_1_org.jpg\n",
      "성공\n",
      "https://cdn.topstarnews.net/news/photo/first/201704/img_254212_1_org.jpg\n",
      "다운로드: https://cdn.topstarnews.net/news/photo/first/201704/img_254212_1_org.jpg -> C:/DevRoot/dataset/data/img\\img_254212_1_org.jpg\n",
      "성공\n",
      "https://cdn.topstarnews.net/news/photo/first/201704/img_254213_1_org.jpg\n",
      "다운로드: https://cdn.topstarnews.net/news/photo/first/201704/img_254213_1_org.jpg -> C:/DevRoot/dataset/data/img\\img_254213_1_org.jpg\n",
      "성공\n",
      "https://cdn.topstarnews.net/news/photo/first/201704/img_254214_1_org.jpg\n",
      "다운로드: https://cdn.topstarnews.net/news/photo/first/201704/img_254214_1_org.jpg -> C:/DevRoot/dataset/data/img\\img_254214_1_org.jpg\n",
      "성공\n",
      "https://cdn.topstarnews.net/news/photo/first/201704/img_254215_1_org.jpg\n",
      "다운로드: https://cdn.topstarnews.net/news/photo/first/201704/img_254215_1_org.jpg -> C:/DevRoot/dataset/data/img\\img_254215_1_org.jpg\n",
      "성공\n"
     ]
    }
   ],
   "source": [
    "base_path = r'C:/DevRoot/dataset/data/img'\n",
    "\n",
    "for url in urls:\n",
    "    print(url)\n",
    "    \n",
    "    disass = urlparser.urlparse(url)\n",
    "    filename = disass.path[-20:]\n",
    "    \n",
    "    savepath = os.path.join(base_path, filename)\n",
    "    \n",
    "    print('다운로드:', url, '->', savepath)\n",
    "    \n",
    "    response = requests.get(url, stream=True)\n",
    "    if response.status_code != 200:\n",
    "        print('실패')\n",
    "        continue\n",
    "        \n",
    "    with open(savepath, 'wb') as f:\n",
    "        f.write(response.content)\n",
    "        print('성공')"
   ]
  },
  {
   "cell_type": "code",
   "execution_count": null,
   "id": "354795f1",
   "metadata": {},
   "outputs": [],
   "source": []
  },
  {
   "cell_type": "code",
   "execution_count": 3,
   "id": "295ad1eb",
   "metadata": {},
   "outputs": [],
   "source": [
    "headers= {\n",
    "'Host': 'media3.mrdeepfakes.com',\n",
    "'Connection': 'keep-alive',\n",
    "'Pragma': 'no-cache',\n",
    "'Cache-Control': 'no-cache',\n",
    "'sec-ch-ua': '\"Google Chrome\";v=\"95\", \"Chromium\";v=\"95\", \";Not A Brand\";v=\"99\"',\n",
    "'Accept-Encoding': 'identity;q=1, *;q=0',\n",
    "'sec-ch-ua-mobile': '?0',\n",
    "'User-Agent': 'Mozilla/5.0 (Windows NT 10.0; Win64; x64) AppleWebKit/537.36 (KHTML, like Gecko) Chrome/95.0.4638.69 Safari/537.36',\n",
    "'sec-ch-ua-platform': \"Windows\",\n",
    "'Accept': '*/*',\n",
    "'Sec-Fetch-Site': 'same-site',\n",
    "'Sec-Fetch-Mode': 'no-cors',\n",
    "'Sec-Fetch-Dest': 'video',\n",
    "'Referer': 'https://mrdeepfakes.com/',\n",
    "'Accept-Language': 'ko,en-US;q=0.9,en;q=0.8',\n",
    "'Cookie': '__ddg1=0myioyGPyoUJoIwcaZfx; __ddgid=2xKu6w36G2EqCGjI; _ga=GA1.2.2090267618.1632507124; __ddg2=jtySXljhfmMMnJca; PHPSESSID=oslg0j7tsqrradom17veis99bo; kt_ips=107.181.177.135; kt_vast_755668=015c58c061abfaab9aae2f2459f93e43; _gid=GA1.2.470091070.1637252691; kt_remote_ips=%2C107.181.177.135%7C%7Cd92110dd86fecc7dee84c8dd1f80051d',\n",
    "'Range': 'bytes=5439488-'\n",
    "\n",
    "}"
   ]
  },
  {
   "cell_type": "code",
   "execution_count": 6,
   "id": "9db16c92",
   "metadata": {},
   "outputs": [],
   "source": [
    "vid_url = \"https://mrdeepfakes.com/get_file/6/9a826fa290a412929cf96893631711492be33af5b3/21000/21951/21951_1080p.mp4/?br=4292&rnd=1637252736059\""
   ]
  },
  {
   "cell_type": "code",
   "execution_count": 7,
   "id": "ec9ef7af",
   "metadata": {},
   "outputs": [
    {
     "ename": "ConnectionError",
     "evalue": "('Connection aborted.', ConnectionResetError(10054, '현재 연결은 원격 호스트에 의해 강제로 끊겼습니다', None, 10054, None))",
     "output_type": "error",
     "traceback": [
      "\u001b[1;31m---------------------------------------------------------------------------\u001b[0m",
      "\u001b[1;31mConnectionResetError\u001b[0m                      Traceback (most recent call last)",
      "\u001b[1;32mC:\\ProgramData\\Anaconda3\\lib\\site-packages\\urllib3\\connectionpool.py\u001b[0m in \u001b[0;36murlopen\u001b[1;34m(self, method, url, body, headers, retries, redirect, assert_same_host, timeout, pool_timeout, release_conn, chunked, body_pos, **response_kw)\u001b[0m\n\u001b[0;32m    698\u001b[0m             \u001b[1;31m# Make the request on the httplib connection object.\u001b[0m\u001b[1;33m\u001b[0m\u001b[1;33m\u001b[0m\u001b[1;33m\u001b[0m\u001b[0m\n\u001b[1;32m--> 699\u001b[1;33m             httplib_response = self._make_request(\n\u001b[0m\u001b[0;32m    700\u001b[0m                 \u001b[0mconn\u001b[0m\u001b[1;33m,\u001b[0m\u001b[1;33m\u001b[0m\u001b[1;33m\u001b[0m\u001b[0m\n",
      "\u001b[1;32mC:\\ProgramData\\Anaconda3\\lib\\site-packages\\urllib3\\connectionpool.py\u001b[0m in \u001b[0;36m_make_request\u001b[1;34m(self, conn, method, url, timeout, chunked, **httplib_request_kw)\u001b[0m\n\u001b[0;32m    381\u001b[0m         \u001b[1;32mtry\u001b[0m\u001b[1;33m:\u001b[0m\u001b[1;33m\u001b[0m\u001b[1;33m\u001b[0m\u001b[0m\n\u001b[1;32m--> 382\u001b[1;33m             \u001b[0mself\u001b[0m\u001b[1;33m.\u001b[0m\u001b[0m_validate_conn\u001b[0m\u001b[1;33m(\u001b[0m\u001b[0mconn\u001b[0m\u001b[1;33m)\u001b[0m\u001b[1;33m\u001b[0m\u001b[1;33m\u001b[0m\u001b[0m\n\u001b[0m\u001b[0;32m    383\u001b[0m         \u001b[1;32mexcept\u001b[0m \u001b[1;33m(\u001b[0m\u001b[0mSocketTimeout\u001b[0m\u001b[1;33m,\u001b[0m \u001b[0mBaseSSLError\u001b[0m\u001b[1;33m)\u001b[0m \u001b[1;32mas\u001b[0m \u001b[0me\u001b[0m\u001b[1;33m:\u001b[0m\u001b[1;33m\u001b[0m\u001b[1;33m\u001b[0m\u001b[0m\n",
      "\u001b[1;32mC:\\ProgramData\\Anaconda3\\lib\\site-packages\\urllib3\\connectionpool.py\u001b[0m in \u001b[0;36m_validate_conn\u001b[1;34m(self, conn)\u001b[0m\n\u001b[0;32m   1009\u001b[0m         \u001b[1;32mif\u001b[0m \u001b[1;32mnot\u001b[0m \u001b[0mgetattr\u001b[0m\u001b[1;33m(\u001b[0m\u001b[0mconn\u001b[0m\u001b[1;33m,\u001b[0m \u001b[1;34m\"sock\"\u001b[0m\u001b[1;33m,\u001b[0m \u001b[1;32mNone\u001b[0m\u001b[1;33m)\u001b[0m\u001b[1;33m:\u001b[0m  \u001b[1;31m# AppEngine might not have  `.sock`\u001b[0m\u001b[1;33m\u001b[0m\u001b[1;33m\u001b[0m\u001b[0m\n\u001b[1;32m-> 1010\u001b[1;33m             \u001b[0mconn\u001b[0m\u001b[1;33m.\u001b[0m\u001b[0mconnect\u001b[0m\u001b[1;33m(\u001b[0m\u001b[1;33m)\u001b[0m\u001b[1;33m\u001b[0m\u001b[1;33m\u001b[0m\u001b[0m\n\u001b[0m\u001b[0;32m   1011\u001b[0m \u001b[1;33m\u001b[0m\u001b[0m\n",
      "\u001b[1;32mC:\\ProgramData\\Anaconda3\\lib\\site-packages\\urllib3\\connection.py\u001b[0m in \u001b[0;36mconnect\u001b[1;34m(self)\u001b[0m\n\u001b[0;32m    410\u001b[0m \u001b[1;33m\u001b[0m\u001b[0m\n\u001b[1;32m--> 411\u001b[1;33m         self.sock = ssl_wrap_socket(\n\u001b[0m\u001b[0;32m    412\u001b[0m             \u001b[0msock\u001b[0m\u001b[1;33m=\u001b[0m\u001b[0mconn\u001b[0m\u001b[1;33m,\u001b[0m\u001b[1;33m\u001b[0m\u001b[1;33m\u001b[0m\u001b[0m\n",
      "\u001b[1;32mC:\\ProgramData\\Anaconda3\\lib\\site-packages\\urllib3\\util\\ssl_.py\u001b[0m in \u001b[0;36mssl_wrap_socket\u001b[1;34m(sock, keyfile, certfile, cert_reqs, ca_certs, server_hostname, ssl_version, ciphers, ssl_context, ca_cert_dir, key_password, ca_cert_data, tls_in_tls)\u001b[0m\n\u001b[0;32m    427\u001b[0m     \u001b[1;32mif\u001b[0m \u001b[0msend_sni\u001b[0m\u001b[1;33m:\u001b[0m\u001b[1;33m\u001b[0m\u001b[1;33m\u001b[0m\u001b[0m\n\u001b[1;32m--> 428\u001b[1;33m         ssl_sock = _ssl_wrap_socket_impl(\n\u001b[0m\u001b[0;32m    429\u001b[0m             \u001b[0msock\u001b[0m\u001b[1;33m,\u001b[0m \u001b[0mcontext\u001b[0m\u001b[1;33m,\u001b[0m \u001b[0mtls_in_tls\u001b[0m\u001b[1;33m,\u001b[0m \u001b[0mserver_hostname\u001b[0m\u001b[1;33m=\u001b[0m\u001b[0mserver_hostname\u001b[0m\u001b[1;33m\u001b[0m\u001b[1;33m\u001b[0m\u001b[0m\n",
      "\u001b[1;32mC:\\ProgramData\\Anaconda3\\lib\\site-packages\\urllib3\\util\\ssl_.py\u001b[0m in \u001b[0;36m_ssl_wrap_socket_impl\u001b[1;34m(sock, ssl_context, tls_in_tls, server_hostname)\u001b[0m\n\u001b[0;32m    471\u001b[0m     \u001b[1;32mif\u001b[0m \u001b[0mserver_hostname\u001b[0m\u001b[1;33m:\u001b[0m\u001b[1;33m\u001b[0m\u001b[1;33m\u001b[0m\u001b[0m\n\u001b[1;32m--> 472\u001b[1;33m         \u001b[1;32mreturn\u001b[0m \u001b[0mssl_context\u001b[0m\u001b[1;33m.\u001b[0m\u001b[0mwrap_socket\u001b[0m\u001b[1;33m(\u001b[0m\u001b[0msock\u001b[0m\u001b[1;33m,\u001b[0m \u001b[0mserver_hostname\u001b[0m\u001b[1;33m=\u001b[0m\u001b[0mserver_hostname\u001b[0m\u001b[1;33m)\u001b[0m\u001b[1;33m\u001b[0m\u001b[1;33m\u001b[0m\u001b[0m\n\u001b[0m\u001b[0;32m    473\u001b[0m     \u001b[1;32melse\u001b[0m\u001b[1;33m:\u001b[0m\u001b[1;33m\u001b[0m\u001b[1;33m\u001b[0m\u001b[0m\n",
      "\u001b[1;32mC:\\ProgramData\\Anaconda3\\lib\\ssl.py\u001b[0m in \u001b[0;36mwrap_socket\u001b[1;34m(self, sock, server_side, do_handshake_on_connect, suppress_ragged_eofs, server_hostname, session)\u001b[0m\n\u001b[0;32m    499\u001b[0m         \u001b[1;31m# ctx._wrap_socket()\u001b[0m\u001b[1;33m\u001b[0m\u001b[1;33m\u001b[0m\u001b[1;33m\u001b[0m\u001b[0m\n\u001b[1;32m--> 500\u001b[1;33m         return self.sslsocket_class._create(\n\u001b[0m\u001b[0;32m    501\u001b[0m             \u001b[0msock\u001b[0m\u001b[1;33m=\u001b[0m\u001b[0msock\u001b[0m\u001b[1;33m,\u001b[0m\u001b[1;33m\u001b[0m\u001b[1;33m\u001b[0m\u001b[0m\n",
      "\u001b[1;32mC:\\ProgramData\\Anaconda3\\lib\\ssl.py\u001b[0m in \u001b[0;36m_create\u001b[1;34m(cls, sock, server_side, do_handshake_on_connect, suppress_ragged_eofs, server_hostname, context, session)\u001b[0m\n\u001b[0;32m   1039\u001b[0m                         \u001b[1;32mraise\u001b[0m \u001b[0mValueError\u001b[0m\u001b[1;33m(\u001b[0m\u001b[1;34m\"do_handshake_on_connect should not be specified for non-blocking sockets\"\u001b[0m\u001b[1;33m)\u001b[0m\u001b[1;33m\u001b[0m\u001b[1;33m\u001b[0m\u001b[0m\n\u001b[1;32m-> 1040\u001b[1;33m                     \u001b[0mself\u001b[0m\u001b[1;33m.\u001b[0m\u001b[0mdo_handshake\u001b[0m\u001b[1;33m(\u001b[0m\u001b[1;33m)\u001b[0m\u001b[1;33m\u001b[0m\u001b[1;33m\u001b[0m\u001b[0m\n\u001b[0m\u001b[0;32m   1041\u001b[0m             \u001b[1;32mexcept\u001b[0m \u001b[1;33m(\u001b[0m\u001b[0mOSError\u001b[0m\u001b[1;33m,\u001b[0m \u001b[0mValueError\u001b[0m\u001b[1;33m)\u001b[0m\u001b[1;33m:\u001b[0m\u001b[1;33m\u001b[0m\u001b[1;33m\u001b[0m\u001b[0m\n",
      "\u001b[1;32mC:\\ProgramData\\Anaconda3\\lib\\ssl.py\u001b[0m in \u001b[0;36mdo_handshake\u001b[1;34m(self, block)\u001b[0m\n\u001b[0;32m   1308\u001b[0m                 \u001b[0mself\u001b[0m\u001b[1;33m.\u001b[0m\u001b[0msettimeout\u001b[0m\u001b[1;33m(\u001b[0m\u001b[1;32mNone\u001b[0m\u001b[1;33m)\u001b[0m\u001b[1;33m\u001b[0m\u001b[1;33m\u001b[0m\u001b[0m\n\u001b[1;32m-> 1309\u001b[1;33m             \u001b[0mself\u001b[0m\u001b[1;33m.\u001b[0m\u001b[0m_sslobj\u001b[0m\u001b[1;33m.\u001b[0m\u001b[0mdo_handshake\u001b[0m\u001b[1;33m(\u001b[0m\u001b[1;33m)\u001b[0m\u001b[1;33m\u001b[0m\u001b[1;33m\u001b[0m\u001b[0m\n\u001b[0m\u001b[0;32m   1310\u001b[0m         \u001b[1;32mfinally\u001b[0m\u001b[1;33m:\u001b[0m\u001b[1;33m\u001b[0m\u001b[1;33m\u001b[0m\u001b[0m\n",
      "\u001b[1;31mConnectionResetError\u001b[0m: [WinError 10054] 현재 연결은 원격 호스트에 의해 강제로 끊겼습니다",
      "\nDuring handling of the above exception, another exception occurred:\n",
      "\u001b[1;31mProtocolError\u001b[0m                             Traceback (most recent call last)",
      "\u001b[1;32mC:\\ProgramData\\Anaconda3\\lib\\site-packages\\requests\\adapters.py\u001b[0m in \u001b[0;36msend\u001b[1;34m(self, request, stream, timeout, verify, cert, proxies)\u001b[0m\n\u001b[0;32m    438\u001b[0m             \u001b[1;32mif\u001b[0m \u001b[1;32mnot\u001b[0m \u001b[0mchunked\u001b[0m\u001b[1;33m:\u001b[0m\u001b[1;33m\u001b[0m\u001b[1;33m\u001b[0m\u001b[0m\n\u001b[1;32m--> 439\u001b[1;33m                 resp = conn.urlopen(\n\u001b[0m\u001b[0;32m    440\u001b[0m                     \u001b[0mmethod\u001b[0m\u001b[1;33m=\u001b[0m\u001b[0mrequest\u001b[0m\u001b[1;33m.\u001b[0m\u001b[0mmethod\u001b[0m\u001b[1;33m,\u001b[0m\u001b[1;33m\u001b[0m\u001b[1;33m\u001b[0m\u001b[0m\n",
      "\u001b[1;32mC:\\ProgramData\\Anaconda3\\lib\\site-packages\\urllib3\\connectionpool.py\u001b[0m in \u001b[0;36murlopen\u001b[1;34m(self, method, url, body, headers, retries, redirect, assert_same_host, timeout, pool_timeout, release_conn, chunked, body_pos, **response_kw)\u001b[0m\n\u001b[0;32m    754\u001b[0m \u001b[1;33m\u001b[0m\u001b[0m\n\u001b[1;32m--> 755\u001b[1;33m             retries = retries.increment(\n\u001b[0m\u001b[0;32m    756\u001b[0m                 \u001b[0mmethod\u001b[0m\u001b[1;33m,\u001b[0m \u001b[0murl\u001b[0m\u001b[1;33m,\u001b[0m \u001b[0merror\u001b[0m\u001b[1;33m=\u001b[0m\u001b[0me\u001b[0m\u001b[1;33m,\u001b[0m \u001b[0m_pool\u001b[0m\u001b[1;33m=\u001b[0m\u001b[0mself\u001b[0m\u001b[1;33m,\u001b[0m \u001b[0m_stacktrace\u001b[0m\u001b[1;33m=\u001b[0m\u001b[0msys\u001b[0m\u001b[1;33m.\u001b[0m\u001b[0mexc_info\u001b[0m\u001b[1;33m(\u001b[0m\u001b[1;33m)\u001b[0m\u001b[1;33m[\u001b[0m\u001b[1;36m2\u001b[0m\u001b[1;33m]\u001b[0m\u001b[1;33m\u001b[0m\u001b[1;33m\u001b[0m\u001b[0m\n",
      "\u001b[1;32mC:\\ProgramData\\Anaconda3\\lib\\site-packages\\urllib3\\util\\retry.py\u001b[0m in \u001b[0;36mincrement\u001b[1;34m(self, method, url, response, error, _pool, _stacktrace)\u001b[0m\n\u001b[0;32m    531\u001b[0m             \u001b[1;32mif\u001b[0m \u001b[0mread\u001b[0m \u001b[1;32mis\u001b[0m \u001b[1;32mFalse\u001b[0m \u001b[1;32mor\u001b[0m \u001b[1;32mnot\u001b[0m \u001b[0mself\u001b[0m\u001b[1;33m.\u001b[0m\u001b[0m_is_method_retryable\u001b[0m\u001b[1;33m(\u001b[0m\u001b[0mmethod\u001b[0m\u001b[1;33m)\u001b[0m\u001b[1;33m:\u001b[0m\u001b[1;33m\u001b[0m\u001b[1;33m\u001b[0m\u001b[0m\n\u001b[1;32m--> 532\u001b[1;33m                 \u001b[1;32mraise\u001b[0m \u001b[0msix\u001b[0m\u001b[1;33m.\u001b[0m\u001b[0mreraise\u001b[0m\u001b[1;33m(\u001b[0m\u001b[0mtype\u001b[0m\u001b[1;33m(\u001b[0m\u001b[0merror\u001b[0m\u001b[1;33m)\u001b[0m\u001b[1;33m,\u001b[0m \u001b[0merror\u001b[0m\u001b[1;33m,\u001b[0m \u001b[0m_stacktrace\u001b[0m\u001b[1;33m)\u001b[0m\u001b[1;33m\u001b[0m\u001b[1;33m\u001b[0m\u001b[0m\n\u001b[0m\u001b[0;32m    533\u001b[0m             \u001b[1;32melif\u001b[0m \u001b[0mread\u001b[0m \u001b[1;32mis\u001b[0m \u001b[1;32mnot\u001b[0m \u001b[1;32mNone\u001b[0m\u001b[1;33m:\u001b[0m\u001b[1;33m\u001b[0m\u001b[1;33m\u001b[0m\u001b[0m\n",
      "\u001b[1;32mC:\\ProgramData\\Anaconda3\\lib\\site-packages\\urllib3\\packages\\six.py\u001b[0m in \u001b[0;36mreraise\u001b[1;34m(tp, value, tb)\u001b[0m\n\u001b[0;32m    733\u001b[0m             \u001b[1;32mif\u001b[0m \u001b[0mvalue\u001b[0m\u001b[1;33m.\u001b[0m\u001b[0m__traceback__\u001b[0m \u001b[1;32mis\u001b[0m \u001b[1;32mnot\u001b[0m \u001b[0mtb\u001b[0m\u001b[1;33m:\u001b[0m\u001b[1;33m\u001b[0m\u001b[1;33m\u001b[0m\u001b[0m\n\u001b[1;32m--> 734\u001b[1;33m                 \u001b[1;32mraise\u001b[0m \u001b[0mvalue\u001b[0m\u001b[1;33m.\u001b[0m\u001b[0mwith_traceback\u001b[0m\u001b[1;33m(\u001b[0m\u001b[0mtb\u001b[0m\u001b[1;33m)\u001b[0m\u001b[1;33m\u001b[0m\u001b[1;33m\u001b[0m\u001b[0m\n\u001b[0m\u001b[0;32m    735\u001b[0m             \u001b[1;32mraise\u001b[0m \u001b[0mvalue\u001b[0m\u001b[1;33m\u001b[0m\u001b[1;33m\u001b[0m\u001b[0m\n",
      "\u001b[1;32mC:\\ProgramData\\Anaconda3\\lib\\site-packages\\urllib3\\connectionpool.py\u001b[0m in \u001b[0;36murlopen\u001b[1;34m(self, method, url, body, headers, retries, redirect, assert_same_host, timeout, pool_timeout, release_conn, chunked, body_pos, **response_kw)\u001b[0m\n\u001b[0;32m    698\u001b[0m             \u001b[1;31m# Make the request on the httplib connection object.\u001b[0m\u001b[1;33m\u001b[0m\u001b[1;33m\u001b[0m\u001b[1;33m\u001b[0m\u001b[0m\n\u001b[1;32m--> 699\u001b[1;33m             httplib_response = self._make_request(\n\u001b[0m\u001b[0;32m    700\u001b[0m                 \u001b[0mconn\u001b[0m\u001b[1;33m,\u001b[0m\u001b[1;33m\u001b[0m\u001b[1;33m\u001b[0m\u001b[0m\n",
      "\u001b[1;32mC:\\ProgramData\\Anaconda3\\lib\\site-packages\\urllib3\\connectionpool.py\u001b[0m in \u001b[0;36m_make_request\u001b[1;34m(self, conn, method, url, timeout, chunked, **httplib_request_kw)\u001b[0m\n\u001b[0;32m    381\u001b[0m         \u001b[1;32mtry\u001b[0m\u001b[1;33m:\u001b[0m\u001b[1;33m\u001b[0m\u001b[1;33m\u001b[0m\u001b[0m\n\u001b[1;32m--> 382\u001b[1;33m             \u001b[0mself\u001b[0m\u001b[1;33m.\u001b[0m\u001b[0m_validate_conn\u001b[0m\u001b[1;33m(\u001b[0m\u001b[0mconn\u001b[0m\u001b[1;33m)\u001b[0m\u001b[1;33m\u001b[0m\u001b[1;33m\u001b[0m\u001b[0m\n\u001b[0m\u001b[0;32m    383\u001b[0m         \u001b[1;32mexcept\u001b[0m \u001b[1;33m(\u001b[0m\u001b[0mSocketTimeout\u001b[0m\u001b[1;33m,\u001b[0m \u001b[0mBaseSSLError\u001b[0m\u001b[1;33m)\u001b[0m \u001b[1;32mas\u001b[0m \u001b[0me\u001b[0m\u001b[1;33m:\u001b[0m\u001b[1;33m\u001b[0m\u001b[1;33m\u001b[0m\u001b[0m\n",
      "\u001b[1;32mC:\\ProgramData\\Anaconda3\\lib\\site-packages\\urllib3\\connectionpool.py\u001b[0m in \u001b[0;36m_validate_conn\u001b[1;34m(self, conn)\u001b[0m\n\u001b[0;32m   1009\u001b[0m         \u001b[1;32mif\u001b[0m \u001b[1;32mnot\u001b[0m \u001b[0mgetattr\u001b[0m\u001b[1;33m(\u001b[0m\u001b[0mconn\u001b[0m\u001b[1;33m,\u001b[0m \u001b[1;34m\"sock\"\u001b[0m\u001b[1;33m,\u001b[0m \u001b[1;32mNone\u001b[0m\u001b[1;33m)\u001b[0m\u001b[1;33m:\u001b[0m  \u001b[1;31m# AppEngine might not have  `.sock`\u001b[0m\u001b[1;33m\u001b[0m\u001b[1;33m\u001b[0m\u001b[0m\n\u001b[1;32m-> 1010\u001b[1;33m             \u001b[0mconn\u001b[0m\u001b[1;33m.\u001b[0m\u001b[0mconnect\u001b[0m\u001b[1;33m(\u001b[0m\u001b[1;33m)\u001b[0m\u001b[1;33m\u001b[0m\u001b[1;33m\u001b[0m\u001b[0m\n\u001b[0m\u001b[0;32m   1011\u001b[0m \u001b[1;33m\u001b[0m\u001b[0m\n",
      "\u001b[1;32mC:\\ProgramData\\Anaconda3\\lib\\site-packages\\urllib3\\connection.py\u001b[0m in \u001b[0;36mconnect\u001b[1;34m(self)\u001b[0m\n\u001b[0;32m    410\u001b[0m \u001b[1;33m\u001b[0m\u001b[0m\n\u001b[1;32m--> 411\u001b[1;33m         self.sock = ssl_wrap_socket(\n\u001b[0m\u001b[0;32m    412\u001b[0m             \u001b[0msock\u001b[0m\u001b[1;33m=\u001b[0m\u001b[0mconn\u001b[0m\u001b[1;33m,\u001b[0m\u001b[1;33m\u001b[0m\u001b[1;33m\u001b[0m\u001b[0m\n",
      "\u001b[1;32mC:\\ProgramData\\Anaconda3\\lib\\site-packages\\urllib3\\util\\ssl_.py\u001b[0m in \u001b[0;36mssl_wrap_socket\u001b[1;34m(sock, keyfile, certfile, cert_reqs, ca_certs, server_hostname, ssl_version, ciphers, ssl_context, ca_cert_dir, key_password, ca_cert_data, tls_in_tls)\u001b[0m\n\u001b[0;32m    427\u001b[0m     \u001b[1;32mif\u001b[0m \u001b[0msend_sni\u001b[0m\u001b[1;33m:\u001b[0m\u001b[1;33m\u001b[0m\u001b[1;33m\u001b[0m\u001b[0m\n\u001b[1;32m--> 428\u001b[1;33m         ssl_sock = _ssl_wrap_socket_impl(\n\u001b[0m\u001b[0;32m    429\u001b[0m             \u001b[0msock\u001b[0m\u001b[1;33m,\u001b[0m \u001b[0mcontext\u001b[0m\u001b[1;33m,\u001b[0m \u001b[0mtls_in_tls\u001b[0m\u001b[1;33m,\u001b[0m \u001b[0mserver_hostname\u001b[0m\u001b[1;33m=\u001b[0m\u001b[0mserver_hostname\u001b[0m\u001b[1;33m\u001b[0m\u001b[1;33m\u001b[0m\u001b[0m\n",
      "\u001b[1;32mC:\\ProgramData\\Anaconda3\\lib\\site-packages\\urllib3\\util\\ssl_.py\u001b[0m in \u001b[0;36m_ssl_wrap_socket_impl\u001b[1;34m(sock, ssl_context, tls_in_tls, server_hostname)\u001b[0m\n\u001b[0;32m    471\u001b[0m     \u001b[1;32mif\u001b[0m \u001b[0mserver_hostname\u001b[0m\u001b[1;33m:\u001b[0m\u001b[1;33m\u001b[0m\u001b[1;33m\u001b[0m\u001b[0m\n\u001b[1;32m--> 472\u001b[1;33m         \u001b[1;32mreturn\u001b[0m \u001b[0mssl_context\u001b[0m\u001b[1;33m.\u001b[0m\u001b[0mwrap_socket\u001b[0m\u001b[1;33m(\u001b[0m\u001b[0msock\u001b[0m\u001b[1;33m,\u001b[0m \u001b[0mserver_hostname\u001b[0m\u001b[1;33m=\u001b[0m\u001b[0mserver_hostname\u001b[0m\u001b[1;33m)\u001b[0m\u001b[1;33m\u001b[0m\u001b[1;33m\u001b[0m\u001b[0m\n\u001b[0m\u001b[0;32m    473\u001b[0m     \u001b[1;32melse\u001b[0m\u001b[1;33m:\u001b[0m\u001b[1;33m\u001b[0m\u001b[1;33m\u001b[0m\u001b[0m\n",
      "\u001b[1;32mC:\\ProgramData\\Anaconda3\\lib\\ssl.py\u001b[0m in \u001b[0;36mwrap_socket\u001b[1;34m(self, sock, server_side, do_handshake_on_connect, suppress_ragged_eofs, server_hostname, session)\u001b[0m\n\u001b[0;32m    499\u001b[0m         \u001b[1;31m# ctx._wrap_socket()\u001b[0m\u001b[1;33m\u001b[0m\u001b[1;33m\u001b[0m\u001b[1;33m\u001b[0m\u001b[0m\n\u001b[1;32m--> 500\u001b[1;33m         return self.sslsocket_class._create(\n\u001b[0m\u001b[0;32m    501\u001b[0m             \u001b[0msock\u001b[0m\u001b[1;33m=\u001b[0m\u001b[0msock\u001b[0m\u001b[1;33m,\u001b[0m\u001b[1;33m\u001b[0m\u001b[1;33m\u001b[0m\u001b[0m\n",
      "\u001b[1;32mC:\\ProgramData\\Anaconda3\\lib\\ssl.py\u001b[0m in \u001b[0;36m_create\u001b[1;34m(cls, sock, server_side, do_handshake_on_connect, suppress_ragged_eofs, server_hostname, context, session)\u001b[0m\n\u001b[0;32m   1039\u001b[0m                         \u001b[1;32mraise\u001b[0m \u001b[0mValueError\u001b[0m\u001b[1;33m(\u001b[0m\u001b[1;34m\"do_handshake_on_connect should not be specified for non-blocking sockets\"\u001b[0m\u001b[1;33m)\u001b[0m\u001b[1;33m\u001b[0m\u001b[1;33m\u001b[0m\u001b[0m\n\u001b[1;32m-> 1040\u001b[1;33m                     \u001b[0mself\u001b[0m\u001b[1;33m.\u001b[0m\u001b[0mdo_handshake\u001b[0m\u001b[1;33m(\u001b[0m\u001b[1;33m)\u001b[0m\u001b[1;33m\u001b[0m\u001b[1;33m\u001b[0m\u001b[0m\n\u001b[0m\u001b[0;32m   1041\u001b[0m             \u001b[1;32mexcept\u001b[0m \u001b[1;33m(\u001b[0m\u001b[0mOSError\u001b[0m\u001b[1;33m,\u001b[0m \u001b[0mValueError\u001b[0m\u001b[1;33m)\u001b[0m\u001b[1;33m:\u001b[0m\u001b[1;33m\u001b[0m\u001b[1;33m\u001b[0m\u001b[0m\n",
      "\u001b[1;32mC:\\ProgramData\\Anaconda3\\lib\\ssl.py\u001b[0m in \u001b[0;36mdo_handshake\u001b[1;34m(self, block)\u001b[0m\n\u001b[0;32m   1308\u001b[0m                 \u001b[0mself\u001b[0m\u001b[1;33m.\u001b[0m\u001b[0msettimeout\u001b[0m\u001b[1;33m(\u001b[0m\u001b[1;32mNone\u001b[0m\u001b[1;33m)\u001b[0m\u001b[1;33m\u001b[0m\u001b[1;33m\u001b[0m\u001b[0m\n\u001b[1;32m-> 1309\u001b[1;33m             \u001b[0mself\u001b[0m\u001b[1;33m.\u001b[0m\u001b[0m_sslobj\u001b[0m\u001b[1;33m.\u001b[0m\u001b[0mdo_handshake\u001b[0m\u001b[1;33m(\u001b[0m\u001b[1;33m)\u001b[0m\u001b[1;33m\u001b[0m\u001b[1;33m\u001b[0m\u001b[0m\n\u001b[0m\u001b[0;32m   1310\u001b[0m         \u001b[1;32mfinally\u001b[0m\u001b[1;33m:\u001b[0m\u001b[1;33m\u001b[0m\u001b[1;33m\u001b[0m\u001b[0m\n",
      "\u001b[1;31mProtocolError\u001b[0m: ('Connection aborted.', ConnectionResetError(10054, '현재 연결은 원격 호스트에 의해 강제로 끊겼습니다', None, 10054, None))",
      "\nDuring handling of the above exception, another exception occurred:\n",
      "\u001b[1;31mConnectionError\u001b[0m                           Traceback (most recent call last)",
      "\u001b[1;32m<ipython-input-7-c56fb0e56859>\u001b[0m in \u001b[0;36m<module>\u001b[1;34m\u001b[0m\n\u001b[1;32m----> 1\u001b[1;33m \u001b[0mrequests\u001b[0m\u001b[1;33m.\u001b[0m\u001b[0mget\u001b[0m\u001b[1;33m(\u001b[0m\u001b[0mvid_url\u001b[0m\u001b[1;33m,\u001b[0m \u001b[0mheaders\u001b[0m\u001b[1;33m=\u001b[0m\u001b[0mheaders\u001b[0m\u001b[1;33m)\u001b[0m\u001b[1;33m\u001b[0m\u001b[1;33m\u001b[0m\u001b[0m\n\u001b[0m",
      "\u001b[1;32mC:\\ProgramData\\Anaconda3\\lib\\site-packages\\requests\\api.py\u001b[0m in \u001b[0;36mget\u001b[1;34m(url, params, **kwargs)\u001b[0m\n\u001b[0;32m     74\u001b[0m \u001b[1;33m\u001b[0m\u001b[0m\n\u001b[0;32m     75\u001b[0m     \u001b[0mkwargs\u001b[0m\u001b[1;33m.\u001b[0m\u001b[0msetdefault\u001b[0m\u001b[1;33m(\u001b[0m\u001b[1;34m'allow_redirects'\u001b[0m\u001b[1;33m,\u001b[0m \u001b[1;32mTrue\u001b[0m\u001b[1;33m)\u001b[0m\u001b[1;33m\u001b[0m\u001b[1;33m\u001b[0m\u001b[0m\n\u001b[1;32m---> 76\u001b[1;33m     \u001b[1;32mreturn\u001b[0m \u001b[0mrequest\u001b[0m\u001b[1;33m(\u001b[0m\u001b[1;34m'get'\u001b[0m\u001b[1;33m,\u001b[0m \u001b[0murl\u001b[0m\u001b[1;33m,\u001b[0m \u001b[0mparams\u001b[0m\u001b[1;33m=\u001b[0m\u001b[0mparams\u001b[0m\u001b[1;33m,\u001b[0m \u001b[1;33m**\u001b[0m\u001b[0mkwargs\u001b[0m\u001b[1;33m)\u001b[0m\u001b[1;33m\u001b[0m\u001b[1;33m\u001b[0m\u001b[0m\n\u001b[0m\u001b[0;32m     77\u001b[0m \u001b[1;33m\u001b[0m\u001b[0m\n\u001b[0;32m     78\u001b[0m \u001b[1;33m\u001b[0m\u001b[0m\n",
      "\u001b[1;32mC:\\ProgramData\\Anaconda3\\lib\\site-packages\\requests\\api.py\u001b[0m in \u001b[0;36mrequest\u001b[1;34m(method, url, **kwargs)\u001b[0m\n\u001b[0;32m     59\u001b[0m     \u001b[1;31m# cases, and look like a memory leak in others.\u001b[0m\u001b[1;33m\u001b[0m\u001b[1;33m\u001b[0m\u001b[1;33m\u001b[0m\u001b[0m\n\u001b[0;32m     60\u001b[0m     \u001b[1;32mwith\u001b[0m \u001b[0msessions\u001b[0m\u001b[1;33m.\u001b[0m\u001b[0mSession\u001b[0m\u001b[1;33m(\u001b[0m\u001b[1;33m)\u001b[0m \u001b[1;32mas\u001b[0m \u001b[0msession\u001b[0m\u001b[1;33m:\u001b[0m\u001b[1;33m\u001b[0m\u001b[1;33m\u001b[0m\u001b[0m\n\u001b[1;32m---> 61\u001b[1;33m         \u001b[1;32mreturn\u001b[0m \u001b[0msession\u001b[0m\u001b[1;33m.\u001b[0m\u001b[0mrequest\u001b[0m\u001b[1;33m(\u001b[0m\u001b[0mmethod\u001b[0m\u001b[1;33m=\u001b[0m\u001b[0mmethod\u001b[0m\u001b[1;33m,\u001b[0m \u001b[0murl\u001b[0m\u001b[1;33m=\u001b[0m\u001b[0murl\u001b[0m\u001b[1;33m,\u001b[0m \u001b[1;33m**\u001b[0m\u001b[0mkwargs\u001b[0m\u001b[1;33m)\u001b[0m\u001b[1;33m\u001b[0m\u001b[1;33m\u001b[0m\u001b[0m\n\u001b[0m\u001b[0;32m     62\u001b[0m \u001b[1;33m\u001b[0m\u001b[0m\n\u001b[0;32m     63\u001b[0m \u001b[1;33m\u001b[0m\u001b[0m\n",
      "\u001b[1;32mC:\\ProgramData\\Anaconda3\\lib\\site-packages\\requests\\sessions.py\u001b[0m in \u001b[0;36mrequest\u001b[1;34m(self, method, url, params, data, headers, cookies, files, auth, timeout, allow_redirects, proxies, hooks, stream, verify, cert, json)\u001b[0m\n\u001b[0;32m    540\u001b[0m         }\n\u001b[0;32m    541\u001b[0m         \u001b[0msend_kwargs\u001b[0m\u001b[1;33m.\u001b[0m\u001b[0mupdate\u001b[0m\u001b[1;33m(\u001b[0m\u001b[0msettings\u001b[0m\u001b[1;33m)\u001b[0m\u001b[1;33m\u001b[0m\u001b[1;33m\u001b[0m\u001b[0m\n\u001b[1;32m--> 542\u001b[1;33m         \u001b[0mresp\u001b[0m \u001b[1;33m=\u001b[0m \u001b[0mself\u001b[0m\u001b[1;33m.\u001b[0m\u001b[0msend\u001b[0m\u001b[1;33m(\u001b[0m\u001b[0mprep\u001b[0m\u001b[1;33m,\u001b[0m \u001b[1;33m**\u001b[0m\u001b[0msend_kwargs\u001b[0m\u001b[1;33m)\u001b[0m\u001b[1;33m\u001b[0m\u001b[1;33m\u001b[0m\u001b[0m\n\u001b[0m\u001b[0;32m    543\u001b[0m \u001b[1;33m\u001b[0m\u001b[0m\n\u001b[0;32m    544\u001b[0m         \u001b[1;32mreturn\u001b[0m \u001b[0mresp\u001b[0m\u001b[1;33m\u001b[0m\u001b[1;33m\u001b[0m\u001b[0m\n",
      "\u001b[1;32mC:\\ProgramData\\Anaconda3\\lib\\site-packages\\requests\\sessions.py\u001b[0m in \u001b[0;36msend\u001b[1;34m(self, request, **kwargs)\u001b[0m\n\u001b[0;32m    653\u001b[0m \u001b[1;33m\u001b[0m\u001b[0m\n\u001b[0;32m    654\u001b[0m         \u001b[1;31m# Send the request\u001b[0m\u001b[1;33m\u001b[0m\u001b[1;33m\u001b[0m\u001b[1;33m\u001b[0m\u001b[0m\n\u001b[1;32m--> 655\u001b[1;33m         \u001b[0mr\u001b[0m \u001b[1;33m=\u001b[0m \u001b[0madapter\u001b[0m\u001b[1;33m.\u001b[0m\u001b[0msend\u001b[0m\u001b[1;33m(\u001b[0m\u001b[0mrequest\u001b[0m\u001b[1;33m,\u001b[0m \u001b[1;33m**\u001b[0m\u001b[0mkwargs\u001b[0m\u001b[1;33m)\u001b[0m\u001b[1;33m\u001b[0m\u001b[1;33m\u001b[0m\u001b[0m\n\u001b[0m\u001b[0;32m    656\u001b[0m \u001b[1;33m\u001b[0m\u001b[0m\n\u001b[0;32m    657\u001b[0m         \u001b[1;31m# Total elapsed time of the request (approximately)\u001b[0m\u001b[1;33m\u001b[0m\u001b[1;33m\u001b[0m\u001b[1;33m\u001b[0m\u001b[0m\n",
      "\u001b[1;32mC:\\ProgramData\\Anaconda3\\lib\\site-packages\\requests\\adapters.py\u001b[0m in \u001b[0;36msend\u001b[1;34m(self, request, stream, timeout, verify, cert, proxies)\u001b[0m\n\u001b[0;32m    496\u001b[0m \u001b[1;33m\u001b[0m\u001b[0m\n\u001b[0;32m    497\u001b[0m         \u001b[1;32mexcept\u001b[0m \u001b[1;33m(\u001b[0m\u001b[0mProtocolError\u001b[0m\u001b[1;33m,\u001b[0m \u001b[0msocket\u001b[0m\u001b[1;33m.\u001b[0m\u001b[0merror\u001b[0m\u001b[1;33m)\u001b[0m \u001b[1;32mas\u001b[0m \u001b[0merr\u001b[0m\u001b[1;33m:\u001b[0m\u001b[1;33m\u001b[0m\u001b[1;33m\u001b[0m\u001b[0m\n\u001b[1;32m--> 498\u001b[1;33m             \u001b[1;32mraise\u001b[0m \u001b[0mConnectionError\u001b[0m\u001b[1;33m(\u001b[0m\u001b[0merr\u001b[0m\u001b[1;33m,\u001b[0m \u001b[0mrequest\u001b[0m\u001b[1;33m=\u001b[0m\u001b[0mrequest\u001b[0m\u001b[1;33m)\u001b[0m\u001b[1;33m\u001b[0m\u001b[1;33m\u001b[0m\u001b[0m\n\u001b[0m\u001b[0;32m    499\u001b[0m \u001b[1;33m\u001b[0m\u001b[0m\n\u001b[0;32m    500\u001b[0m         \u001b[1;32mexcept\u001b[0m \u001b[0mMaxRetryError\u001b[0m \u001b[1;32mas\u001b[0m \u001b[0me\u001b[0m\u001b[1;33m:\u001b[0m\u001b[1;33m\u001b[0m\u001b[1;33m\u001b[0m\u001b[0m\n",
      "\u001b[1;31mConnectionError\u001b[0m: ('Connection aborted.', ConnectionResetError(10054, '현재 연결은 원격 호스트에 의해 강제로 끊겼습니다', None, 10054, None))"
     ]
    }
   ],
   "source": [
    "requests.get(vid_url, headers=headers)"
   ]
  },
  {
   "cell_type": "code",
   "execution_count": null,
   "id": "af8c2863",
   "metadata": {},
   "outputs": [],
   "source": []
  },
  {
   "cell_type": "code",
   "execution_count": null,
   "id": "efec4652",
   "metadata": {},
   "outputs": [],
   "source": []
  },
  {
   "cell_type": "code",
   "execution_count": null,
   "id": "f319338f",
   "metadata": {},
   "outputs": [],
   "source": []
  },
  {
   "cell_type": "code",
   "execution_count": null,
   "id": "244c3816",
   "metadata": {},
   "outputs": [],
   "source": []
  },
  {
   "cell_type": "code",
   "execution_count": null,
   "id": "65920a32",
   "metadata": {},
   "outputs": [],
   "source": []
  },
  {
   "cell_type": "code",
   "execution_count": null,
   "id": "1230d443",
   "metadata": {},
   "outputs": [],
   "source": []
  },
  {
   "cell_type": "code",
   "execution_count": null,
   "id": "885dc3a0",
   "metadata": {},
   "outputs": [],
   "source": []
  },
  {
   "cell_type": "code",
   "execution_count": null,
   "id": "192cc13e",
   "metadata": {},
   "outputs": [],
   "source": []
  },
  {
   "cell_type": "code",
   "execution_count": null,
   "id": "4b09732f",
   "metadata": {},
   "outputs": [],
   "source": []
  },
  {
   "cell_type": "code",
   "execution_count": null,
   "id": "a7e129d6",
   "metadata": {},
   "outputs": [],
   "source": []
  },
  {
   "cell_type": "code",
   "execution_count": null,
   "id": "bacdf94c",
   "metadata": {},
   "outputs": [],
   "source": []
  },
  {
   "cell_type": "code",
   "execution_count": null,
   "id": "65628f5f",
   "metadata": {},
   "outputs": [],
   "source": []
  },
  {
   "cell_type": "code",
   "execution_count": null,
   "id": "e44f0969",
   "metadata": {},
   "outputs": [],
   "source": []
  },
  {
   "cell_type": "code",
   "execution_count": null,
   "id": "b315bd95",
   "metadata": {},
   "outputs": [],
   "source": []
  },
  {
   "cell_type": "code",
   "execution_count": null,
   "id": "29655be7",
   "metadata": {},
   "outputs": [],
   "source": []
  },
  {
   "cell_type": "code",
   "execution_count": null,
   "id": "a2e5359e",
   "metadata": {},
   "outputs": [],
   "source": []
  },
  {
   "cell_type": "code",
   "execution_count": null,
   "id": "9b70597f",
   "metadata": {},
   "outputs": [],
   "source": []
  },
  {
   "cell_type": "code",
   "execution_count": null,
   "id": "15e615da",
   "metadata": {},
   "outputs": [],
   "source": []
  },
  {
   "cell_type": "code",
   "execution_count": null,
   "id": "19f03146",
   "metadata": {},
   "outputs": [],
   "source": []
  }
 ],
 "metadata": {
  "kernelspec": {
   "display_name": "Python 3",
   "language": "python",
   "name": "python3"
  },
  "language_info": {
   "codemirror_mode": {
    "name": "ipython",
    "version": 3
   },
   "file_extension": ".py",
   "mimetype": "text/x-python",
   "name": "python",
   "nbconvert_exporter": "python",
   "pygments_lexer": "ipython3",
   "version": "3.8.8"
  }
 },
 "nbformat": 4,
 "nbformat_minor": 5
}
