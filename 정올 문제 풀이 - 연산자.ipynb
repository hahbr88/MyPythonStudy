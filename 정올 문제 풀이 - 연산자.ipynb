{
 "cells": [
  {
   "cell_type": "markdown",
   "id": "16fae0ec",
   "metadata": {},
   "source": [
    "# 정올문제풀이 - 연산자"
   ]
  },
  {
   "cell_type": "markdown",
   "id": "cda95a69",
   "metadata": {},
   "source": [
    "###### 연산자- 자가진단1\n",
    "세 개의 정수를 입력 받아서 합계와 평균을 출력하시오. (단 평균은 소수 이하를 버리고 정수부분만 출력한다.)"
   ]
  },
  {
   "cell_type": "code",
   "execution_count": null,
   "id": "3915c9d2",
   "metadata": {},
   "outputs": [],
   "source": [
    "# 입력 예\n",
    "# 10 25 33\n",
    "# 출력 예\n",
    "# sum : 68\n",
    "# avg : 22"
   ]
  },
  {
   "cell_type": "code",
   "execution_count": 13,
   "id": "6a5d0686",
   "metadata": {},
   "outputs": [
    {
     "name": "stdout",
     "output_type": "stream",
     "text": [
      "10 25 33\n",
      "sum : 68\n",
      "avg : 22\n"
     ]
    }
   ],
   "source": [
    "n1,n2,n3 = map(int, input().split())\n",
    "\n",
    "print(f\"sum : {n1+n2+n3}\")\n",
    "print(f\"avg : {int((n1+n2+n3)/3)}\")"
   ]
  },
  {
   "cell_type": "markdown",
   "id": "36f3cbe2",
   "metadata": {},
   "source": [
    "###### 연산자 - 자가진단2\n",
    "정수 2개를 입력받아서 첫 번째 수에는 100을 증가시켜 저장하고 두 번째 수는 10으로 나눈 나머지를 저장한 후 두 수를 차례로 출력하는 프로그램을 작성하시오."
   ]
  },
  {
   "cell_type": "code",
   "execution_count": null,
   "id": "c2ce6649",
   "metadata": {},
   "outputs": [],
   "source": [
    "# 입력 예\n",
    "# 20 35\n",
    "# 출력 예\n",
    "# 120 5"
   ]
  },
  {
   "cell_type": "code",
   "execution_count": 20,
   "id": "406acca3",
   "metadata": {},
   "outputs": [
    {
     "name": "stdout",
     "output_type": "stream",
     "text": [
      "3213 3242\n",
      "3313 2\n"
     ]
    }
   ],
   "source": [
    "n1,n2 = map(int, input().split())\n",
    "n1 += 100\n",
    "n2 %= 10\n",
    "print(n1, n2)"
   ]
  },
  {
   "cell_type": "markdown",
   "id": "f8ae0c0f",
   "metadata": {},
   "source": [
    "###### 연산자-자가진단3\n",
    "한 개의 정수를 입력 받아서 후치증가 연산자를 사용하여 출력한 후 전치 증가 연산자를 사용하여 출력하는프로그램을 작성하시오."
   ]
  },
  {
   "cell_type": "code",
   "execution_count": null,
   "id": "4122c21a",
   "metadata": {},
   "outputs": [],
   "source": [
    "# 입력 예\n",
    "# 5\n",
    "# 출력 예\n",
    "# 5\n",
    "# 7"
   ]
  },
  {
   "cell_type": "code",
   "execution_count": 30,
   "id": "399b06a6",
   "metadata": {},
   "outputs": [
    {
     "name": "stdout",
     "output_type": "stream",
     "text": [
      "5\n",
      "5\n",
      "7\n"
     ]
    }
   ],
   "source": [
    "n = int(input())\n",
    "print(n)\n",
    "n += 2\n",
    "print(n)\n",
    "\n",
    "\n",
    "# 파이썬에는 ++ -- 같은 증감연산자가 없으므로 그냥 임의로 작성함 (코드 통과 됬음)"
   ]
  },
  {
   "cell_type": "markdown",
   "id": "81ab4b5e",
   "metadata": {},
   "source": [
    "###### 연산자-자가진단4\n",
    "두 개의 정수를 입력받아서  첫 번째수는 후치 증가 연산자를 사용하고 두 번째 수는 전치 감소 연산자를 사용하여 두 수의 곱을 구한 후 각각의 값을 출력하는 프로그램을 작성하시오."
   ]
  },
  {
   "cell_type": "code",
   "execution_count": null,
   "id": "b862a73a",
   "metadata": {},
   "outputs": [],
   "source": [
    "# 입력 예\n",
    "# 10 20\n",
    "# 출력 예\n",
    "# 11 19 190"
   ]
  },
  {
   "cell_type": "code",
   "execution_count": 35,
   "id": "24a3598f",
   "metadata": {},
   "outputs": [
    {
     "name": "stdout",
     "output_type": "stream",
     "text": [
      "10 20\n",
      "11 19 190\n"
     ]
    }
   ],
   "source": [
    "n1,n2 = map(int, input().split())\n",
    "n1 += 1; n2 -= 1\n",
    "print(n1, n2, (n1-1)*n2)\n"
   ]
  },
  {
   "cell_type": "markdown",
   "id": "87349497",
   "metadata": {},
   "source": [
    "###### 연산자-자가진단5\n",
    "두 개의 정수를 입력받아서, \n",
    "첫 번째 줄에는 두 정수의 값이 같으면 1 아니면 0을 출력하고, \n",
    "두 번째 줄에는 같지 않으면 1 같으면 0을 출력하는 프로그램을 작성하시오.\n",
    "(JAVA는 1이면 true, 0이면 false를 출력한다.)"
   ]
  },
  {
   "cell_type": "code",
   "execution_count": null,
   "id": "54070d76",
   "metadata": {},
   "outputs": [],
   "source": [
    "# 입력 예\n",
    "# 5 5\n",
    "# 출력 예\n",
    "# 1\n",
    "# 0"
   ]
  },
  {
   "cell_type": "code",
   "execution_count": 39,
   "id": "119e2dac",
   "metadata": {},
   "outputs": [
    {
     "name": "stdout",
     "output_type": "stream",
     "text": [
      "5 5\n",
      "1\n",
      "0\n"
     ]
    }
   ],
   "source": [
    "n1,n2 = map(int, input().split())\n",
    "print(int(n1 == n2))\n",
    "print(int(n1 != n2))"
   ]
  },
  {
   "cell_type": "markdown",
   "id": "72fc9052",
   "metadata": {},
   "source": [
    "######  연산자-자가진단6\n",
    "두 개의 정수를 입력받아서 다음과 같이 4가지 관계연산자의 결과를 출력하시오.\n",
    "\n",
    "이때 입력받은 두 정수를 이용하여 출력하시오.\n",
    "\n",
    " (JAVA는 1이면 true, 0이면 false를 출력한다.)"
   ]
  },
  {
   "cell_type": "code",
   "execution_count": null,
   "id": "1875767d",
   "metadata": {},
   "outputs": [],
   "source": [
    "# 입력 예\n",
    "# 4 5\n",
    "# 출력 예\n",
    "# 4 > 5 --- 0\n",
    "# 4 < 5 --- 1\n",
    "# 4 >= 5 --- 0\n",
    "# 4 <= 5 --- 1"
   ]
  },
  {
   "cell_type": "code",
   "execution_count": 49,
   "id": "29e0ecb4",
   "metadata": {},
   "outputs": [
    {
     "name": "stdout",
     "output_type": "stream",
     "text": [
      "4 5\n",
      "4 > 5 --- 0\n",
      "4 < 5 --- 0\n",
      "4 >= 5 --- 0\n",
      "4 <= 5 --- 1\n"
     ]
    }
   ],
   "source": [
    "n1,n2 = map(int, input().split())\n",
    "print(f\"{n1} > {n2} --- {int(n1 > n2)}\")\n",
    "print(\"{} < {} --- {}\".format(n1, n2, int(n1 > n2)))\n",
    "print(\"%d >= %d --- %d\" % (n1, n2, int(n1 > n2)))\n",
    "print(f\"{n1} <= {n2} --- {int(n1 <= n2)}\")\n"
   ]
  },
  {
   "cell_type": "markdown",
   "id": "6bf37e37",
   "metadata": {},
   "source": [
    "######  연산자 -자가진단 7\n",
    "2개의 정수를 입력 받아서 논리곱과 논리합의 결과를 출력하는 프로그램을 작성하시오.\n",
    "\n",
    "(수가 0 이 아닌 경우 참으로, 0 인 경우 거짓으로 간주합니다.)\n",
    "\n",
    " \n",
    "\n",
    "[JAVA]\n",
    "2개의 정수를 입력 받아서 0이 아니면 참(true), 0이면 거짓(false)으로 처리하고\n",
    "\n",
    "두 값의 논리곱과 논리합의 결과를 출력하는 프로그램을 작성하시오.\n",
    "\n",
    "hint : 정수 a를 입력받은 후 boolean c = (a != 0);을 실행하면 c에 a의 논리값이 저장된다."
   ]
  },
  {
   "cell_type": "code",
   "execution_count": null,
   "id": "07f34b78",
   "metadata": {},
   "outputs": [],
   "source": [
    "# 입력 예\n",
    "# 2 0\n",
    "# 출력 예\n",
    "# 0 1\n",
    "# [JAVA]\n",
    "# false true"
   ]
  },
  {
   "cell_type": "code",
   "execution_count": 53,
   "id": "cb35fedf",
   "metadata": {},
   "outputs": [
    {
     "name": "stdout",
     "output_type": "stream",
     "text": [
      "2 0\n"
     ]
    },
    {
     "data": {
      "text/plain": [
       "(0, 2)"
      ]
     },
     "execution_count": 53,
     "metadata": {},
     "output_type": "execute_result"
    }
   ],
   "source": [
    "n1, n2 = map(int, input().split())\n",
    "# 논리곱=and, 논리합=or\n",
    "n1 and n2 , n1 or n2   # 이거는 이해가 잘 안되니 논리곱 논리합이 이게 맞는지부터 알아야할듯"
   ]
  },
  {
   "cell_type": "markdown",
   "id": "e2397dd1",
   "metadata": {},
   "source": [
    "###### 연산자 -  자가진단8\n",
    "3개의 정수를 입력 받아 첫 번째 수가 가장 크면 1 아니면 0을 출력하고 세 개의 수가 모두 같으면 1 아니면 0을 출력하는 프로그램을 작성하시오.\n",
    "\n",
    "(JAVA는 1이면 true, 0이면 false를 출력한다.)\n"
   ]
  },
  {
   "cell_type": "code",
   "execution_count": null,
   "id": "097526ad",
   "metadata": {},
   "outputs": [],
   "source": [
    "# 입력 예\n",
    "# 10 9 9\n",
    "# 출력 예\n",
    "# 1 0"
   ]
  },
  {
   "cell_type": "code",
   "execution_count": 65,
   "id": "20f2ae58",
   "metadata": {},
   "outputs": [
    {
     "name": "stdout",
     "output_type": "stream",
     "text": [
      "100 80 73\n",
      "1 0\n"
     ]
    }
   ],
   "source": [
    "a, b, c = map(int, input().split())\n",
    "print(int(a > b and b >= c), int(a == b == c))"
   ]
  },
  {
   "cell_type": "markdown",
   "id": "483b54ad",
   "metadata": {},
   "source": [
    "###### 연산자-형성평가1\n",
    "국어 영어 수학 컴퓨터 과목의 점수를 정수로 입력받아서 총점과 평균을 구하는 프로그램을 작성하시오. (단 평균의 소수점 이하는 버림 한다.)"
   ]
  },
  {
   "cell_type": "code",
   "execution_count": null,
   "id": "3fcda8df",
   "metadata": {},
   "outputs": [],
   "source": [
    "# 입력 예\n",
    "# 70 95 63 100\n",
    "# 출력 예\n",
    "# sum 328\n",
    "# avg 82"
   ]
  },
  {
   "cell_type": "code",
   "execution_count": 71,
   "id": "02412dd3",
   "metadata": {},
   "outputs": [
    {
     "name": "stdout",
     "output_type": "stream",
     "text": [
      "70 95 63 100\n",
      "sum 328\n",
      "avg 82\n"
     ]
    }
   ],
   "source": [
    "k, e, m, c = map(int, input().split())\n",
    "print(f\"sum {k+e+m+c}\")\n",
    "print(f\"avg {int((k+e+m+c)/4)}\")"
   ]
  },
  {
   "cell_type": "markdown",
   "id": "b3f7aa91",
   "metadata": {},
   "source": [
    "###### 연산자-형성평가2\n",
    "두 정수를 입력받아서 나눈 몫과 나머지를 다음과 같은 형식으로 출력하는 프로그램을 작성하시오."
   ]
  },
  {
   "cell_type": "code",
   "execution_count": null,
   "id": "a25655fe",
   "metadata": {},
   "outputs": [],
   "source": [
    "# 입력 예\n",
    "# 35 10\n",
    "# 출력 예\n",
    "# 35 / 10 = 3...5"
   ]
  },
  {
   "cell_type": "code",
   "execution_count": 72,
   "id": "6223c582",
   "metadata": {},
   "outputs": [
    {
     "name": "stdout",
     "output_type": "stream",
     "text": [
      "35 10\n",
      "35 / 10 = 3...5\n"
     ]
    }
   ],
   "source": [
    "a, b = map(int, input().split())\n",
    "print(f\"{a} / {b} = {int(a/b)}...{a%b}\")"
   ]
  },
  {
   "cell_type": "markdown",
   "id": "d0d730e0",
   "metadata": {},
   "source": [
    "###### 연산자-형성평가3\n",
    "직사각형의 가로와 세로의 길이를 정수형 값으로 입력받은 후 가로의 길이는 5 증가시키고 세로의 길이는 2배하여 \n",
    "\n",
    "저장한 후 가로의 길이 세로의 길이 넓이를 차례로 출력하는 프로그램을 작성하시오."
   ]
  },
  {
   "cell_type": "code",
   "execution_count": null,
   "id": "ef73fec7",
   "metadata": {},
   "outputs": [],
   "source": [
    "# 입력 예\n",
    "# 20 15\n",
    "# 출력 예\n",
    "# width = 25\n",
    "# length = 30\n",
    "# area = 750"
   ]
  },
  {
   "cell_type": "code",
   "execution_count": 79,
   "id": "9d8b7402",
   "metadata": {},
   "outputs": [
    {
     "name": "stdout",
     "output_type": "stream",
     "text": [
      "20 15\n",
      "width = 25\n",
      "length = 30\n",
      "area = 750\n"
     ]
    }
   ],
   "source": [
    "W, H = map(int, input().split())\n",
    "W += 5; H *= 2;\n",
    "print(\"width = {}\".format(W))\n",
    "print(f\"length = {H}\")\n",
    "print(\"area = %d\" % (W*H))"
   ]
  },
  {
   "cell_type": "markdown",
   "id": "db68a8b0",
   "metadata": {},
   "source": [
    "######  연산자-형성평가4\n",
    "두 정수를 입력받아 첫 번째 수는 전치증가연산자를 사용하고 두 번째 수는 후치감소연산자를 사용하여 출력하고\n",
    "\n",
    "바뀐 값을 다시 출력하는 프로그램을 작성하시오."
   ]
  },
  {
   "cell_type": "code",
   "execution_count": null,
   "id": "e8d88950",
   "metadata": {},
   "outputs": [],
   "source": [
    "# 입력 예\n",
    "# 10 15\n",
    "# 출력 예\n",
    "# 11 15\n",
    "# 11 14"
   ]
  },
  {
   "cell_type": "code",
   "execution_count": 84,
   "id": "388c2b43",
   "metadata": {},
   "outputs": [
    {
     "name": "stdout",
     "output_type": "stream",
     "text": [
      "10 15\n",
      "11 15\n",
      "11 14\n"
     ]
    }
   ],
   "source": [
    "a, b = map(int, input().split())\n",
    "a+=1\n",
    "print(a, b)\n",
    "b-=1\n",
    "print(a, b)"
   ]
  },
  {
   "cell_type": "markdown",
   "id": "2c907f78",
   "metadata": {},
   "source": [
    "###### 연산자-형성평가5\n",
    "민수와 기영이의 키와 몸무게를 입력받아 민수가 키도 크고 몸무게도 크면 1 그렇지 않으면 0을 출력하는 프로그램을 작성하시오.\n",
    "\n",
    "(JAVA는 1 이면 true, 0 이면 false를 출력한다.)"
   ]
  },
  {
   "cell_type": "code",
   "execution_count": null,
   "id": "fb2f4fad",
   "metadata": {},
   "outputs": [],
   "source": [
    "# 입력 예\n",
    "# 150 35\n",
    "# 145 35\n",
    "# 출력 예\n",
    "# 0 "
   ]
  },
  {
   "cell_type": "code",
   "execution_count": 88,
   "id": "01c8af35",
   "metadata": {},
   "outputs": [
    {
     "name": "stdout",
     "output_type": "stream",
     "text": [
      "150 35\n",
      "145 35\n",
      "0\n",
      "\n"
     ]
    }
   ],
   "source": [
    "h1, w1 = map(int, input().split())\n",
    "h2, w2 = map(int, input().split())\n",
    "print(int(h1>h2 and w1>w2))"
   ]
  },
  {
   "cell_type": "code",
   "execution_count": null,
   "id": "0f69e3e4",
   "metadata": {},
   "outputs": [],
   "source": []
  },
  {
   "cell_type": "code",
   "execution_count": null,
   "id": "8b91550a",
   "metadata": {},
   "outputs": [],
   "source": []
  }
 ],
 "metadata": {
  "kernelspec": {
   "display_name": "Python 3",
   "language": "python",
   "name": "python3"
  },
  "language_info": {
   "codemirror_mode": {
    "name": "ipython",
    "version": 3
   },
   "file_extension": ".py",
   "mimetype": "text/x-python",
   "name": "python",
   "nbconvert_exporter": "python",
   "pygments_lexer": "ipython3",
   "version": "3.8.8"
  }
 },
 "nbformat": 4,
 "nbformat_minor": 5
}
