{
 "cells": [
  {
   "cell_type": "markdown",
   "id": "eeb5b6a9",
   "metadata": {},
   "source": [
    "# 연습 : Taxi 클래스 설계"
   ]
  },
  {
   "cell_type": "code",
   "execution_count": 1,
   "id": "7062f7c2",
   "metadata": {},
   "outputs": [],
   "source": [
    "# '택시'에는 승객들에게 공통적으로 적용되는 자료\n",
    "# - 택시 요율 (거리당 요금)  : 700 ( 거리 1km 당 요금 )\n",
    "# - 기본 요금 : 3000\n",
    "# - 최초 기본 주행 거리 : 2km \n",
    "\n",
    "# 택시 객체 생성시 승객별로 돈과, 거리를 받아서 생성\n",
    "\n",
    "# 거리에 따른 요금 계산 메소드 정의\n",
    "# 거리에 따른 잔돈 계산 메소드 정의\n",
    "\n",
    "# 기본요금 : 3000\n",
    "# 기본주행거리 : 2 km\n",
    "# 거리당 요율 : 700  (거리 1km당 요금)\n",
    "\n",
    "\"\"\"\n",
    "passenger1 = Taxi(20000, 1)   # 20000원을 가지고 거리 1km 이동하는 경우\n",
    "\n",
    "#passenger1 의 비용은 ? → 3000\n",
    "#passenger1 의 잔돈은 ? → 17000\n",
    "\n",
    "passenger1.calc_cost(), passenger1.get_change()\n",
    "\n",
    "\n",
    "passenger2 = Taxi(30000, 10)   # 30000원을 가지고 거리 10km 이동하는 경우\n",
    "# passenger2 의 비용은 ? → 8600\n",
    "# passenger2 의 잔돈은 ? → 21400\n",
    "passenger2.calc_cost(), passenger2.get_change()\n",
    "\n",
    "\"\"\"\n",
    "\n",
    "None"
   ]
  },
  {
   "cell_type": "code",
   "execution_count": 2,
   "id": "18264513",
   "metadata": {},
   "outputs": [],
   "source": [
    "class Taxi:\n",
    "    per_km = 700 # 거리당 요금\n",
    "    minimum_fee = 3000 # 기본요금\n",
    "    basic_mileage = 2 # 기본주행거리\n",
    "    passenger_id = 0\n",
    "    \n",
    "    def __init__(self, payment, distance):\n",
    "        Taxi.passenger_id +=1\n",
    "        self.payment = payment\n",
    "        self.distance = distance\n",
    "        self.total_fee = 0\n",
    "        self.changes = 0\n",
    "\n",
    "    def __del__(self):\n",
    "        print('안녕히가십시오')\n",
    "        Taxi.passenger_id -= 1\n",
    "        \n",
    "    def calc_fee(self):\n",
    "        if self.distance > 2:\n",
    "            self.total_fee = Taxi.minimum_fee + (Taxi.per_km * (self.distance - self.basic_mileage))   #2km가 넘으면 적용\n",
    "        else:\n",
    "            self.total_fee = Taxi.minimum_fee\n",
    "        return print(f'passenger{Taxi.passenger_id} 의 비용은 ? → {self.total_fee} 원')\n",
    "    \n",
    "    def calc_change(self):\n",
    "        self.changes = self.payment - self.total_fee \n",
    "        return print(f'passenger{Taxi.passenger_id} 의 잔돈은 ? → {self.changes} 원')"
   ]
  },
  {
   "cell_type": "code",
   "execution_count": 3,
   "id": "e89a0c1e",
   "metadata": {},
   "outputs": [],
   "source": [
    "passenger1 = Taxi(20000, 1)"
   ]
  },
  {
   "cell_type": "code",
   "execution_count": 4,
   "id": "897d7d5a",
   "metadata": {},
   "outputs": [
    {
     "name": "stdout",
     "output_type": "stream",
     "text": [
      "passenger1 의 비용은 ? → 3000 원\n",
      "passenger1 의 잔돈은 ? → 17000 원\n"
     ]
    }
   ],
   "source": [
    "passenger1.calc_fee()\n",
    "passenger1.calc_change()"
   ]
  },
  {
   "cell_type": "code",
   "execution_count": 5,
   "id": "1e8576a1",
   "metadata": {},
   "outputs": [],
   "source": [
    "passenger2 = Taxi(30000, 10)"
   ]
  },
  {
   "cell_type": "code",
   "execution_count": 6,
   "id": "b04cecb0",
   "metadata": {},
   "outputs": [
    {
     "name": "stdout",
     "output_type": "stream",
     "text": [
      "passenger2 의 비용은 ? → 8600 원\n",
      "passenger2 의 잔돈은 ? → 21400 원\n"
     ]
    }
   ],
   "source": [
    "passenger2.calc_fee()\n",
    "passenger2.calc_change()"
   ]
  },
  {
   "cell_type": "code",
   "execution_count": 7,
   "id": "a7dcae71",
   "metadata": {},
   "outputs": [],
   "source": [
    "del(passenger2)"
   ]
  },
  {
   "cell_type": "code",
   "execution_count": 8,
   "id": "f912c78c",
   "metadata": {},
   "outputs": [
    {
     "ename": "NameError",
     "evalue": "name 'passenger2' is not defined",
     "output_type": "error",
     "traceback": [
      "\u001b[1;31m---------------------------------------------------------------------------\u001b[0m",
      "\u001b[1;31mNameError\u001b[0m                                 Traceback (most recent call last)",
      "\u001b[1;32m<ipython-input-8-69b61bb8609d>\u001b[0m in \u001b[0;36m<module>\u001b[1;34m\u001b[0m\n\u001b[1;32m----> 1\u001b[1;33m \u001b[0mpassenger2\u001b[0m\u001b[1;33m.\u001b[0m\u001b[0mcalc_fee\u001b[0m\u001b[1;33m(\u001b[0m\u001b[1;33m)\u001b[0m\u001b[1;33m\u001b[0m\u001b[1;33m\u001b[0m\u001b[0m\n\u001b[0m\u001b[0;32m      2\u001b[0m \u001b[0mpassenger2\u001b[0m\u001b[1;33m.\u001b[0m\u001b[0mcalc_change\u001b[0m\u001b[1;33m(\u001b[0m\u001b[1;33m)\u001b[0m\u001b[1;33m\u001b[0m\u001b[1;33m\u001b[0m\u001b[0m\n",
      "\u001b[1;31mNameError\u001b[0m: name 'passenger2' is not defined"
     ]
    }
   ],
   "source": [
    "passenger2.calc_fee()\n",
    "passenger2.calc_change()"
   ]
  },
  {
   "cell_type": "code",
   "execution_count": 9,
   "id": "bd38901e",
   "metadata": {},
   "outputs": [
    {
     "name": "stdout",
     "output_type": "stream",
     "text": [
      "passenger2 의 비용은 ? → 3000 원\n",
      "passenger2 의 잔돈은 ? → 17000 원\n"
     ]
    }
   ],
   "source": [
    "passenger1.calc_fee()\n",
    "passenger1.calc_change()"
   ]
  },
  {
   "cell_type": "code",
   "execution_count": null,
   "id": "04eba443",
   "metadata": {},
   "outputs": [],
   "source": []
  },
  {
   "cell_type": "code",
   "execution_count": null,
   "id": "dd72a5b9",
   "metadata": {},
   "outputs": [],
   "source": []
  },
  {
   "cell_type": "code",
   "execution_count": null,
   "id": "ef154fc4",
   "metadata": {},
   "outputs": [],
   "source": []
  },
  {
   "cell_type": "code",
   "execution_count": null,
   "id": "ef0de195",
   "metadata": {},
   "outputs": [],
   "source": []
  },
  {
   "cell_type": "code",
   "execution_count": null,
   "id": "83405c0b",
   "metadata": {},
   "outputs": [],
   "source": []
  },
  {
   "cell_type": "code",
   "execution_count": null,
   "id": "ce2e22e4",
   "metadata": {},
   "outputs": [],
   "source": []
  }
 ],
 "metadata": {
  "kernelspec": {
   "display_name": "Python 3",
   "language": "python",
   "name": "python3"
  },
  "language_info": {
   "codemirror_mode": {
    "name": "ipython",
    "version": 3
   },
   "file_extension": ".py",
   "mimetype": "text/x-python",
   "name": "python",
   "nbconvert_exporter": "python",
   "pygments_lexer": "ipython3",
   "version": "3.8.8"
  }
 },
 "nbformat": 4,
 "nbformat_minor": 5
}
