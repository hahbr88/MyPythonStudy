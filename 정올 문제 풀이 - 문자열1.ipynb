{
 "cells": [
  {
   "cell_type": "markdown",
   "id": "9a68e7c5",
   "metadata": {},
   "source": [
    "# LCoder_Python 문자열 1\n"
   ]
  },
  {
   "cell_type": "markdown",
   "id": "2aee590e",
   "metadata": {},
   "source": [
    "###### 문자열 1 - 자가진단 1\n",
    "한 줄에 두 개의 문자열을 공백을 사이에 두고 입력 받아, 뒤의 문자열을 출력하고, \n",
    "\n",
    "공백을 출력한 후 앞의 문자열과 뒤의 문자열을 연결해서 출력하는 프로그램을 작성하시오."
   ]
  },
  {
   "cell_type": "code",
   "execution_count": null,
   "id": "86075340",
   "metadata": {},
   "outputs": [],
   "source": [
    "# 입력 예\n",
    "# Lion Tiger\n",
    "# 출력 예\n",
    "# Tiger LionTiger"
   ]
  },
  {
   "cell_type": "code",
   "execution_count": 3,
   "id": "bc089bba",
   "metadata": {},
   "outputs": [
    {
     "name": "stdout",
     "output_type": "stream",
     "text": [
      "Lion Tiger\n",
      "Tiger LionTiger\n"
     ]
    }
   ],
   "source": [
    "str1, str2 = input().split()\n",
    "print(str2, str1+str2)"
   ]
  },
  {
   "cell_type": "markdown",
   "id": "4ee002dd",
   "metadata": {},
   "source": [
    "###### 문자열 1 - 자가진단 2\n",
    "두 학생의 이름과 나이를 입력 예와 같이 입력 받은 후에, 출력 예와 같은 형식으로 두 학생의 나이의 합을 출력하는 프로그램을 작성하시오.\n",
    "\n",
    "이름에는 공백이 포함되지 않는다고 가정한다."
   ]
  },
  {
   "cell_type": "code",
   "execution_count": null,
   "id": "90ba8557",
   "metadata": {},
   "outputs": [],
   "source": [
    "# 입력 예\n",
    "# Chulsoo 15\n",
    "# Minho 18\n",
    "# 출력 예\n",
    "# Chulsoo age + Minho age = 33"
   ]
  },
  {
   "cell_type": "code",
   "execution_count": 4,
   "id": "c5575c66",
   "metadata": {},
   "outputs": [
    {
     "name": "stdout",
     "output_type": "stream",
     "text": [
      "Chulsoo 15\n",
      "Minho 18\n",
      "Chulsoo age + Minho age = 33\n"
     ]
    }
   ],
   "source": [
    "name1, age1 = input().split()\n",
    "name2, age2 = input().split()\n",
    "age1 = int(age1); age2 = int(age2);\n",
    "print(f\"{name1} age + {name2} age = {age1+age2}\")"
   ]
  },
  {
   "cell_type": "markdown",
   "id": "ea3c604a",
   "metadata": {},
   "source": [
    "###### 문자열1 - 자가진단 3\n",
    "문자열 두 개를 입력받아, 각 문자열 뒤에 보이지 않는 공백을 제거한 후, 두 문자열을 붙여서 출력하는 프로그램을 작성하라."
   ]
  },
  {
   "cell_type": "code",
   "execution_count": 5,
   "id": "001cbaef",
   "metadata": {},
   "outputs": [],
   "source": [
    "# 입력 예\n",
    "# I love you._____\n",
    "# You love me._____\n",
    "# (밑줄 친 부분은 공백을 나타낸다)\n",
    "\n",
    "# 출력 예\n",
    "# I love you. You love me."
   ]
  },
  {
   "cell_type": "code",
   "execution_count": 10,
   "id": "ca36b22a",
   "metadata": {},
   "outputs": [
    {
     "name": "stdout",
     "output_type": "stream",
     "text": [
      "I love you. I love you.\n",
      "I love you.\n"
     ]
    },
    {
     "data": {
      "text/plain": [
       "['I', 'love', 'you.', 'I', 'love', 'you.', 'I', 'love', 'you.']"
      ]
     },
     "execution_count": 10,
     "metadata": {},
     "output_type": "execute_result"
    }
   ],
   "source": [
    "A = input().split()\n",
    "B = input().split()\n",
    "A + B"
   ]
  },
  {
   "cell_type": "code",
   "execution_count": null,
   "id": "e8195964",
   "metadata": {},
   "outputs": [],
   "source": []
  },
  {
   "cell_type": "code",
   "execution_count": null,
   "id": "3dee7e82",
   "metadata": {},
   "outputs": [],
   "source": []
  },
  {
   "cell_type": "code",
   "execution_count": null,
   "id": "bd2fce2b",
   "metadata": {},
   "outputs": [],
   "source": []
  },
  {
   "cell_type": "code",
   "execution_count": null,
   "id": "a46feb01",
   "metadata": {},
   "outputs": [],
   "source": []
  },
  {
   "cell_type": "code",
   "execution_count": null,
   "id": "7d8c2bde",
   "metadata": {},
   "outputs": [],
   "source": []
  },
  {
   "cell_type": "code",
   "execution_count": null,
   "id": "3518e129",
   "metadata": {},
   "outputs": [],
   "source": []
  },
  {
   "cell_type": "code",
   "execution_count": null,
   "id": "ee3860aa",
   "metadata": {},
   "outputs": [],
   "source": []
  },
  {
   "cell_type": "code",
   "execution_count": null,
   "id": "d9a4a5ad",
   "metadata": {},
   "outputs": [],
   "source": []
  },
  {
   "cell_type": "code",
   "execution_count": null,
   "id": "0ecd7323",
   "metadata": {},
   "outputs": [],
   "source": []
  },
  {
   "cell_type": "code",
   "execution_count": null,
   "id": "c332eb35",
   "metadata": {},
   "outputs": [],
   "source": []
  },
  {
   "cell_type": "code",
   "execution_count": null,
   "id": "90e2a8b8",
   "metadata": {},
   "outputs": [],
   "source": []
  },
  {
   "cell_type": "code",
   "execution_count": null,
   "id": "16fe9004",
   "metadata": {},
   "outputs": [],
   "source": []
  },
  {
   "cell_type": "code",
   "execution_count": null,
   "id": "5ba5bd30",
   "metadata": {},
   "outputs": [],
   "source": []
  },
  {
   "cell_type": "code",
   "execution_count": null,
   "id": "78a71b28",
   "metadata": {},
   "outputs": [],
   "source": []
  },
  {
   "cell_type": "code",
   "execution_count": null,
   "id": "3b97e50b",
   "metadata": {},
   "outputs": [],
   "source": []
  },
  {
   "cell_type": "code",
   "execution_count": null,
   "id": "aec09058",
   "metadata": {},
   "outputs": [],
   "source": []
  },
  {
   "cell_type": "code",
   "execution_count": null,
   "id": "5e1519f3",
   "metadata": {},
   "outputs": [],
   "source": []
  },
  {
   "cell_type": "code",
   "execution_count": null,
   "id": "7f14ed85",
   "metadata": {},
   "outputs": [],
   "source": []
  },
  {
   "cell_type": "code",
   "execution_count": null,
   "id": "4bf16aba",
   "metadata": {},
   "outputs": [],
   "source": []
  },
  {
   "cell_type": "code",
   "execution_count": null,
   "id": "08de9d17",
   "metadata": {},
   "outputs": [],
   "source": []
  },
  {
   "cell_type": "code",
   "execution_count": null,
   "id": "170590a4",
   "metadata": {},
   "outputs": [],
   "source": []
  },
  {
   "cell_type": "code",
   "execution_count": null,
   "id": "65a19a1c",
   "metadata": {},
   "outputs": [],
   "source": []
  },
  {
   "cell_type": "code",
   "execution_count": null,
   "id": "b6b3a685",
   "metadata": {},
   "outputs": [],
   "source": []
  },
  {
   "cell_type": "code",
   "execution_count": null,
   "id": "ff7e0dd6",
   "metadata": {},
   "outputs": [],
   "source": []
  },
  {
   "cell_type": "code",
   "execution_count": null,
   "id": "4b19fa69",
   "metadata": {},
   "outputs": [],
   "source": []
  },
  {
   "cell_type": "code",
   "execution_count": null,
   "id": "8dd44955",
   "metadata": {},
   "outputs": [],
   "source": []
  },
  {
   "cell_type": "code",
   "execution_count": null,
   "id": "a6fa5f02",
   "metadata": {},
   "outputs": [],
   "source": []
  }
 ],
 "metadata": {
  "kernelspec": {
   "display_name": "Python 3",
   "language": "python",
   "name": "python3"
  },
  "language_info": {
   "codemirror_mode": {
    "name": "ipython",
    "version": 3
   },
   "file_extension": ".py",
   "mimetype": "text/x-python",
   "name": "python",
   "nbconvert_exporter": "python",
   "pygments_lexer": "ipython3",
   "version": "3.8.8"
  }
 },
 "nbformat": 4,
 "nbformat_minor": 5
}
