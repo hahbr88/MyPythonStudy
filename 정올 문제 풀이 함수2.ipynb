{
 "cells": [
  {
   "cell_type": "markdown",
   "id": "1a1f1048",
   "metadata": {},
   "source": [
    "# 함수2"
   ]
  },
  {
   "cell_type": "markdown",
   "id": "a2a2c7bb",
   "metadata": {},
   "source": [
    "#### 함수 2 - 자가진단 1\n",
    "10 이하의 자연수 n을 입력받고 n개의 정수를 입력받아 내림차순으로 정렬하여 출력하는 프로그램을\n",
    "작성하시오. (리스트를 전달하는 함수를 이용한다.)"
   ]
  },
  {
   "cell_type": "code",
   "execution_count": 3,
   "id": "8cc9f0c6",
   "metadata": {},
   "outputs": [
    {
     "name": "stdout",
     "output_type": "stream",
     "text": [
      "4\n",
      "3 3 4 5\n"
     ]
    }
   ],
   "source": [
    "n = int(input())\n",
    "nl = list(map(int, input().split()))\n",
    "\n",
    "def number_desc(*args):\n",
    "\n",
    "    \n",
    "number_desc()\n"
   ]
  },
  {
   "cell_type": "code",
   "execution_count": 1,
   "id": "5fb64b9a",
   "metadata": {},
   "outputs": [
    {
     "data": {
      "text/plain": [
       "[2, 3, 5, 6, 8]"
      ]
     },
     "execution_count": 1,
     "metadata": {},
     "output_type": "execute_result"
    }
   ],
   "source": [
    "sorted([2,5,3,8,6])"
   ]
  },
  {
   "cell_type": "code",
   "execution_count": null,
   "id": "e635ec29",
   "metadata": {},
   "outputs": [],
   "source": []
  }
 ],
 "metadata": {
  "kernelspec": {
   "display_name": "Python 3",
   "language": "python",
   "name": "python3"
  },
  "language_info": {
   "codemirror_mode": {
    "name": "ipython",
    "version": 3
   },
   "file_extension": ".py",
   "mimetype": "text/x-python",
   "name": "python",
   "nbconvert_exporter": "python",
   "pygments_lexer": "ipython3",
   "version": "3.8.8"
  }
 },
 "nbformat": 4,
 "nbformat_minor": 5
}
